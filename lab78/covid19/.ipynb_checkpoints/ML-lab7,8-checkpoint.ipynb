{
 "cells": [
  {
   "cell_type": "markdown",
   "metadata": {},
   "source": [
    "# Корона вирус хугацааны таамаглал дэвшүүлэх нь\n",
    "2020 оны эхэн үеэс эхэлсэн цар тахалын нас баралтын хэмжээг хугацааны таамаглал дэвшүүлэх даалгавар.\n",
    "Энэхүү даалгавар нь үндсэн 3 хэсэгтэй бөгөөд үүнд:\n",
    "1. Өгөгдлийг татах болон боловсруулах\n",
    "2. Сургалтын загварыг боловсруулах\n",
    "3. Сургалт болон дүгнэлт"
   ]
  },
  {
   "cell_type": "code",
   "execution_count": null,
   "metadata": {},
   "outputs": [],
   "source": []
  },
  {
   "cell_type": "markdown",
   "metadata": {},
   "source": [
    "##  Өгөгдлийг татах болон боловсруулах\n",
    "https://ourworldindata.org/coronavirus/country/mongolia"
   ]
  },
  {
   "cell_type": "code",
   "execution_count": 1,
   "metadata": {},
   "outputs": [],
   "source": [
    "import pandas as pd\n",
    "import torch\n",
    "import numpy as np\n",
    "import plotly.express as px\n",
    "\n",
    "from sklearn.preprocessing import LabelEncoder, Normalizer, OneHotEncoder\n",
    "\n",
    "from sklearn.model_selection import train_test_split\n"
   ]
  },
  {
   "cell_type": "code",
   "execution_count": 2,
   "metadata": {},
   "outputs": [
    {
     "data": {
      "text/html": [
       "<div>\n",
       "<style scoped>\n",
       "    .dataframe tbody tr th:only-of-type {\n",
       "        vertical-align: middle;\n",
       "    }\n",
       "\n",
       "    .dataframe tbody tr th {\n",
       "        vertical-align: top;\n",
       "    }\n",
       "\n",
       "    .dataframe thead th {\n",
       "        text-align: right;\n",
       "    }\n",
       "</style>\n",
       "<table border=\"1\" class=\"dataframe\">\n",
       "  <thead>\n",
       "    <tr style=\"text-align: right;\">\n",
       "      <th></th>\n",
       "      <th>iso_code</th>\n",
       "      <th>continent</th>\n",
       "      <th>location</th>\n",
       "      <th>date</th>\n",
       "      <th>total_cases</th>\n",
       "      <th>new_cases</th>\n",
       "      <th>new_cases_smoothed</th>\n",
       "      <th>total_deaths</th>\n",
       "      <th>new_deaths</th>\n",
       "      <th>new_deaths_smoothed</th>\n",
       "      <th>...</th>\n",
       "      <th>female_smokers</th>\n",
       "      <th>male_smokers</th>\n",
       "      <th>handwashing_facilities</th>\n",
       "      <th>hospital_beds_per_thousand</th>\n",
       "      <th>life_expectancy</th>\n",
       "      <th>human_development_index</th>\n",
       "      <th>excess_mortality_cumulative_absolute</th>\n",
       "      <th>excess_mortality_cumulative</th>\n",
       "      <th>excess_mortality</th>\n",
       "      <th>excess_mortality_cumulative_per_million</th>\n",
       "    </tr>\n",
       "  </thead>\n",
       "  <tbody>\n",
       "    <tr>\n",
       "      <th>0</th>\n",
       "      <td>AFG</td>\n",
       "      <td>Asia</td>\n",
       "      <td>Afghanistan</td>\n",
       "      <td>2020-02-24</td>\n",
       "      <td>5.0</td>\n",
       "      <td>5.0</td>\n",
       "      <td>NaN</td>\n",
       "      <td>NaN</td>\n",
       "      <td>NaN</td>\n",
       "      <td>NaN</td>\n",
       "      <td>...</td>\n",
       "      <td>NaN</td>\n",
       "      <td>NaN</td>\n",
       "      <td>37.746</td>\n",
       "      <td>0.5</td>\n",
       "      <td>64.83</td>\n",
       "      <td>0.511</td>\n",
       "      <td>NaN</td>\n",
       "      <td>NaN</td>\n",
       "      <td>NaN</td>\n",
       "      <td>NaN</td>\n",
       "    </tr>\n",
       "    <tr>\n",
       "      <th>1</th>\n",
       "      <td>AFG</td>\n",
       "      <td>Asia</td>\n",
       "      <td>Afghanistan</td>\n",
       "      <td>2020-02-25</td>\n",
       "      <td>5.0</td>\n",
       "      <td>0.0</td>\n",
       "      <td>NaN</td>\n",
       "      <td>NaN</td>\n",
       "      <td>NaN</td>\n",
       "      <td>NaN</td>\n",
       "      <td>...</td>\n",
       "      <td>NaN</td>\n",
       "      <td>NaN</td>\n",
       "      <td>37.746</td>\n",
       "      <td>0.5</td>\n",
       "      <td>64.83</td>\n",
       "      <td>0.511</td>\n",
       "      <td>NaN</td>\n",
       "      <td>NaN</td>\n",
       "      <td>NaN</td>\n",
       "      <td>NaN</td>\n",
       "    </tr>\n",
       "    <tr>\n",
       "      <th>2</th>\n",
       "      <td>AFG</td>\n",
       "      <td>Asia</td>\n",
       "      <td>Afghanistan</td>\n",
       "      <td>2020-02-26</td>\n",
       "      <td>5.0</td>\n",
       "      <td>0.0</td>\n",
       "      <td>NaN</td>\n",
       "      <td>NaN</td>\n",
       "      <td>NaN</td>\n",
       "      <td>NaN</td>\n",
       "      <td>...</td>\n",
       "      <td>NaN</td>\n",
       "      <td>NaN</td>\n",
       "      <td>37.746</td>\n",
       "      <td>0.5</td>\n",
       "      <td>64.83</td>\n",
       "      <td>0.511</td>\n",
       "      <td>NaN</td>\n",
       "      <td>NaN</td>\n",
       "      <td>NaN</td>\n",
       "      <td>NaN</td>\n",
       "    </tr>\n",
       "    <tr>\n",
       "      <th>3</th>\n",
       "      <td>AFG</td>\n",
       "      <td>Asia</td>\n",
       "      <td>Afghanistan</td>\n",
       "      <td>2020-02-27</td>\n",
       "      <td>5.0</td>\n",
       "      <td>0.0</td>\n",
       "      <td>NaN</td>\n",
       "      <td>NaN</td>\n",
       "      <td>NaN</td>\n",
       "      <td>NaN</td>\n",
       "      <td>...</td>\n",
       "      <td>NaN</td>\n",
       "      <td>NaN</td>\n",
       "      <td>37.746</td>\n",
       "      <td>0.5</td>\n",
       "      <td>64.83</td>\n",
       "      <td>0.511</td>\n",
       "      <td>NaN</td>\n",
       "      <td>NaN</td>\n",
       "      <td>NaN</td>\n",
       "      <td>NaN</td>\n",
       "    </tr>\n",
       "    <tr>\n",
       "      <th>4</th>\n",
       "      <td>AFG</td>\n",
       "      <td>Asia</td>\n",
       "      <td>Afghanistan</td>\n",
       "      <td>2020-02-28</td>\n",
       "      <td>5.0</td>\n",
       "      <td>0.0</td>\n",
       "      <td>NaN</td>\n",
       "      <td>NaN</td>\n",
       "      <td>NaN</td>\n",
       "      <td>NaN</td>\n",
       "      <td>...</td>\n",
       "      <td>NaN</td>\n",
       "      <td>NaN</td>\n",
       "      <td>37.746</td>\n",
       "      <td>0.5</td>\n",
       "      <td>64.83</td>\n",
       "      <td>0.511</td>\n",
       "      <td>NaN</td>\n",
       "      <td>NaN</td>\n",
       "      <td>NaN</td>\n",
       "      <td>NaN</td>\n",
       "    </tr>\n",
       "  </tbody>\n",
       "</table>\n",
       "<p>5 rows × 67 columns</p>\n",
       "</div>"
      ],
      "text/plain": [
       "  iso_code continent     location        date  total_cases  new_cases  \\\n",
       "0      AFG      Asia  Afghanistan  2020-02-24          5.0        5.0   \n",
       "1      AFG      Asia  Afghanistan  2020-02-25          5.0        0.0   \n",
       "2      AFG      Asia  Afghanistan  2020-02-26          5.0        0.0   \n",
       "3      AFG      Asia  Afghanistan  2020-02-27          5.0        0.0   \n",
       "4      AFG      Asia  Afghanistan  2020-02-28          5.0        0.0   \n",
       "\n",
       "   new_cases_smoothed  total_deaths  new_deaths  new_deaths_smoothed  ...  \\\n",
       "0                 NaN           NaN         NaN                  NaN  ...   \n",
       "1                 NaN           NaN         NaN                  NaN  ...   \n",
       "2                 NaN           NaN         NaN                  NaN  ...   \n",
       "3                 NaN           NaN         NaN                  NaN  ...   \n",
       "4                 NaN           NaN         NaN                  NaN  ...   \n",
       "\n",
       "   female_smokers  male_smokers  handwashing_facilities  \\\n",
       "0             NaN           NaN                  37.746   \n",
       "1             NaN           NaN                  37.746   \n",
       "2             NaN           NaN                  37.746   \n",
       "3             NaN           NaN                  37.746   \n",
       "4             NaN           NaN                  37.746   \n",
       "\n",
       "   hospital_beds_per_thousand  life_expectancy  human_development_index  \\\n",
       "0                         0.5            64.83                    0.511   \n",
       "1                         0.5            64.83                    0.511   \n",
       "2                         0.5            64.83                    0.511   \n",
       "3                         0.5            64.83                    0.511   \n",
       "4                         0.5            64.83                    0.511   \n",
       "\n",
       "   excess_mortality_cumulative_absolute  excess_mortality_cumulative  \\\n",
       "0                                   NaN                          NaN   \n",
       "1                                   NaN                          NaN   \n",
       "2                                   NaN                          NaN   \n",
       "3                                   NaN                          NaN   \n",
       "4                                   NaN                          NaN   \n",
       "\n",
       "   excess_mortality  excess_mortality_cumulative_per_million  \n",
       "0               NaN                                      NaN  \n",
       "1               NaN                                      NaN  \n",
       "2               NaN                                      NaN  \n",
       "3               NaN                                      NaN  \n",
       "4               NaN                                      NaN  \n",
       "\n",
       "[5 rows x 67 columns]"
      ]
     },
     "execution_count": 2,
     "metadata": {},
     "output_type": "execute_result"
    }
   ],
   "source": [
    "covid=pd.read_csv(\"owid-covid-data.csv\")\n",
    "covid.head()"
   ]
  },
  {
   "cell_type": "code",
   "execution_count": 3,
   "metadata": {},
   "outputs": [],
   "source": [
    "covid_mongolia=covid[covid['location']==\"Mongolia\"]"
   ]
  },
  {
   "cell_type": "code",
   "execution_count": 4,
   "metadata": {},
   "outputs": [
    {
     "data": {
      "text/html": [
       "<div>\n",
       "<style scoped>\n",
       "    .dataframe tbody tr th:only-of-type {\n",
       "        vertical-align: middle;\n",
       "    }\n",
       "\n",
       "    .dataframe tbody tr th {\n",
       "        vertical-align: top;\n",
       "    }\n",
       "\n",
       "    .dataframe thead th {\n",
       "        text-align: right;\n",
       "    }\n",
       "</style>\n",
       "<table border=\"1\" class=\"dataframe\">\n",
       "  <thead>\n",
       "    <tr style=\"text-align: right;\">\n",
       "      <th></th>\n",
       "      <th>iso_code</th>\n",
       "      <th>continent</th>\n",
       "      <th>location</th>\n",
       "      <th>date</th>\n",
       "      <th>total_cases</th>\n",
       "      <th>new_cases</th>\n",
       "      <th>new_cases_smoothed</th>\n",
       "      <th>total_deaths</th>\n",
       "      <th>new_deaths</th>\n",
       "      <th>new_deaths_smoothed</th>\n",
       "      <th>...</th>\n",
       "      <th>female_smokers</th>\n",
       "      <th>male_smokers</th>\n",
       "      <th>handwashing_facilities</th>\n",
       "      <th>hospital_beds_per_thousand</th>\n",
       "      <th>life_expectancy</th>\n",
       "      <th>human_development_index</th>\n",
       "      <th>excess_mortality_cumulative_absolute</th>\n",
       "      <th>excess_mortality_cumulative</th>\n",
       "      <th>excess_mortality</th>\n",
       "      <th>excess_mortality_cumulative_per_million</th>\n",
       "    </tr>\n",
       "  </thead>\n",
       "  <tbody>\n",
       "    <tr>\n",
       "      <th>131667</th>\n",
       "      <td>MNG</td>\n",
       "      <td>Asia</td>\n",
       "      <td>Mongolia</td>\n",
       "      <td>2020-03-10</td>\n",
       "      <td>1.0</td>\n",
       "      <td>1.0</td>\n",
       "      <td>NaN</td>\n",
       "      <td>NaN</td>\n",
       "      <td>NaN</td>\n",
       "      <td>NaN</td>\n",
       "      <td>...</td>\n",
       "      <td>5.5</td>\n",
       "      <td>46.5</td>\n",
       "      <td>71.18</td>\n",
       "      <td>7.0</td>\n",
       "      <td>69.87</td>\n",
       "      <td>0.737</td>\n",
       "      <td>NaN</td>\n",
       "      <td>NaN</td>\n",
       "      <td>NaN</td>\n",
       "      <td>NaN</td>\n",
       "    </tr>\n",
       "    <tr>\n",
       "      <th>131668</th>\n",
       "      <td>MNG</td>\n",
       "      <td>Asia</td>\n",
       "      <td>Mongolia</td>\n",
       "      <td>2020-03-11</td>\n",
       "      <td>1.0</td>\n",
       "      <td>0.0</td>\n",
       "      <td>NaN</td>\n",
       "      <td>NaN</td>\n",
       "      <td>NaN</td>\n",
       "      <td>NaN</td>\n",
       "      <td>...</td>\n",
       "      <td>5.5</td>\n",
       "      <td>46.5</td>\n",
       "      <td>71.18</td>\n",
       "      <td>7.0</td>\n",
       "      <td>69.87</td>\n",
       "      <td>0.737</td>\n",
       "      <td>NaN</td>\n",
       "      <td>NaN</td>\n",
       "      <td>NaN</td>\n",
       "      <td>NaN</td>\n",
       "    </tr>\n",
       "    <tr>\n",
       "      <th>131669</th>\n",
       "      <td>MNG</td>\n",
       "      <td>Asia</td>\n",
       "      <td>Mongolia</td>\n",
       "      <td>2020-03-12</td>\n",
       "      <td>1.0</td>\n",
       "      <td>0.0</td>\n",
       "      <td>NaN</td>\n",
       "      <td>NaN</td>\n",
       "      <td>NaN</td>\n",
       "      <td>NaN</td>\n",
       "      <td>...</td>\n",
       "      <td>5.5</td>\n",
       "      <td>46.5</td>\n",
       "      <td>71.18</td>\n",
       "      <td>7.0</td>\n",
       "      <td>69.87</td>\n",
       "      <td>0.737</td>\n",
       "      <td>NaN</td>\n",
       "      <td>NaN</td>\n",
       "      <td>NaN</td>\n",
       "      <td>NaN</td>\n",
       "    </tr>\n",
       "    <tr>\n",
       "      <th>131670</th>\n",
       "      <td>MNG</td>\n",
       "      <td>Asia</td>\n",
       "      <td>Mongolia</td>\n",
       "      <td>2020-03-13</td>\n",
       "      <td>1.0</td>\n",
       "      <td>0.0</td>\n",
       "      <td>NaN</td>\n",
       "      <td>NaN</td>\n",
       "      <td>NaN</td>\n",
       "      <td>NaN</td>\n",
       "      <td>...</td>\n",
       "      <td>5.5</td>\n",
       "      <td>46.5</td>\n",
       "      <td>71.18</td>\n",
       "      <td>7.0</td>\n",
       "      <td>69.87</td>\n",
       "      <td>0.737</td>\n",
       "      <td>NaN</td>\n",
       "      <td>NaN</td>\n",
       "      <td>NaN</td>\n",
       "      <td>NaN</td>\n",
       "    </tr>\n",
       "    <tr>\n",
       "      <th>131671</th>\n",
       "      <td>MNG</td>\n",
       "      <td>Asia</td>\n",
       "      <td>Mongolia</td>\n",
       "      <td>2020-03-14</td>\n",
       "      <td>1.0</td>\n",
       "      <td>0.0</td>\n",
       "      <td>NaN</td>\n",
       "      <td>NaN</td>\n",
       "      <td>NaN</td>\n",
       "      <td>NaN</td>\n",
       "      <td>...</td>\n",
       "      <td>5.5</td>\n",
       "      <td>46.5</td>\n",
       "      <td>71.18</td>\n",
       "      <td>7.0</td>\n",
       "      <td>69.87</td>\n",
       "      <td>0.737</td>\n",
       "      <td>NaN</td>\n",
       "      <td>NaN</td>\n",
       "      <td>NaN</td>\n",
       "      <td>NaN</td>\n",
       "    </tr>\n",
       "  </tbody>\n",
       "</table>\n",
       "<p>5 rows × 67 columns</p>\n",
       "</div>"
      ],
      "text/plain": [
       "       iso_code continent  location        date  total_cases  new_cases  \\\n",
       "131667      MNG      Asia  Mongolia  2020-03-10          1.0        1.0   \n",
       "131668      MNG      Asia  Mongolia  2020-03-11          1.0        0.0   \n",
       "131669      MNG      Asia  Mongolia  2020-03-12          1.0        0.0   \n",
       "131670      MNG      Asia  Mongolia  2020-03-13          1.0        0.0   \n",
       "131671      MNG      Asia  Mongolia  2020-03-14          1.0        0.0   \n",
       "\n",
       "        new_cases_smoothed  total_deaths  new_deaths  new_deaths_smoothed  \\\n",
       "131667                 NaN           NaN         NaN                  NaN   \n",
       "131668                 NaN           NaN         NaN                  NaN   \n",
       "131669                 NaN           NaN         NaN                  NaN   \n",
       "131670                 NaN           NaN         NaN                  NaN   \n",
       "131671                 NaN           NaN         NaN                  NaN   \n",
       "\n",
       "        ...  female_smokers  male_smokers  handwashing_facilities  \\\n",
       "131667  ...             5.5          46.5                   71.18   \n",
       "131668  ...             5.5          46.5                   71.18   \n",
       "131669  ...             5.5          46.5                   71.18   \n",
       "131670  ...             5.5          46.5                   71.18   \n",
       "131671  ...             5.5          46.5                   71.18   \n",
       "\n",
       "        hospital_beds_per_thousand  life_expectancy  human_development_index  \\\n",
       "131667                         7.0            69.87                    0.737   \n",
       "131668                         7.0            69.87                    0.737   \n",
       "131669                         7.0            69.87                    0.737   \n",
       "131670                         7.0            69.87                    0.737   \n",
       "131671                         7.0            69.87                    0.737   \n",
       "\n",
       "        excess_mortality_cumulative_absolute  excess_mortality_cumulative  \\\n",
       "131667                                   NaN                          NaN   \n",
       "131668                                   NaN                          NaN   \n",
       "131669                                   NaN                          NaN   \n",
       "131670                                   NaN                          NaN   \n",
       "131671                                   NaN                          NaN   \n",
       "\n",
       "        excess_mortality  excess_mortality_cumulative_per_million  \n",
       "131667               NaN                                      NaN  \n",
       "131668               NaN                                      NaN  \n",
       "131669               NaN                                      NaN  \n",
       "131670               NaN                                      NaN  \n",
       "131671               NaN                                      NaN  \n",
       "\n",
       "[5 rows x 67 columns]"
      ]
     },
     "execution_count": 4,
     "metadata": {},
     "output_type": "execute_result"
    }
   ],
   "source": [
    "covid_mongolia.head()"
   ]
  },
  {
   "cell_type": "code",
   "execution_count": 5,
   "metadata": {},
   "outputs": [
    {
     "name": "stderr",
     "output_type": "stream",
     "text": [
      "C:\\Users\\User\\AppData\\Local\\Temp/ipykernel_9788/411385338.py:1: SettingWithCopyWarning: \n",
      "A value is trying to be set on a copy of a slice from a DataFrame.\n",
      "Try using .loc[row_indexer,col_indexer] = value instead\n",
      "\n",
      "See the caveats in the documentation: https://pandas.pydata.org/pandas-docs/stable/user_guide/indexing.html#returning-a-view-versus-a-copy\n",
      "  covid_mongolia[\"date\"]=pd.to_datetime(covid_mongolia[\"date\"])\n"
     ]
    }
   ],
   "source": [
    "covid_mongolia[\"date\"]=pd.to_datetime(covid_mongolia[\"date\"])"
   ]
  },
  {
   "cell_type": "code",
   "execution_count": 6,
   "metadata": {},
   "outputs": [
    {
     "name": "stderr",
     "output_type": "stream",
     "text": [
      "C:\\Users\\User\\AppData\\Local\\Temp/ipykernel_9788/2975275824.py:5: SettingWithCopyWarning: \n",
      "A value is trying to be set on a copy of a slice from a DataFrame.\n",
      "Try using .loc[row_indexer,col_indexer] = value instead\n",
      "\n",
      "See the caveats in the documentation: https://pandas.pydata.org/pandas-docs/stable/user_guide/indexing.html#returning-a-view-versus-a-copy\n",
      "  train_data[\"Year\"] = dates.dt.year\n",
      "C:\\Users\\User\\AppData\\Local\\Temp/ipykernel_9788/2975275824.py:6: SettingWithCopyWarning: \n",
      "A value is trying to be set on a copy of a slice from a DataFrame.\n",
      "Try using .loc[row_indexer,col_indexer] = value instead\n",
      "\n",
      "See the caveats in the documentation: https://pandas.pydata.org/pandas-docs/stable/user_guide/indexing.html#returning-a-view-versus-a-copy\n",
      "  train_data[\"Month\"] = dates.dt.month\n",
      "C:\\Users\\User\\AppData\\Local\\Temp/ipykernel_9788/2975275824.py:7: SettingWithCopyWarning: \n",
      "A value is trying to be set on a copy of a slice from a DataFrame.\n",
      "Try using .loc[row_indexer,col_indexer] = value instead\n",
      "\n",
      "See the caveats in the documentation: https://pandas.pydata.org/pandas-docs/stable/user_guide/indexing.html#returning-a-view-versus-a-copy\n",
      "  train_data[\"Day\"] = dates.dt.day\n"
     ]
    }
   ],
   "source": [
    "dates = pd.to_datetime(covid_mongolia[\"date\"])\n",
    "\n",
    "train_data = covid_mongolia[[\"date\",\"new_deaths_smoothed\"]] #oorchilno\n",
    "# new_people_vaccinated_smoothed, new_cases_smoothed, new_deaths_smoothed\n",
    "train_data[\"Year\"] = dates.dt.year\n",
    "train_data[\"Month\"] = dates.dt.month\n",
    "train_data[\"Day\"] = dates.dt.day"
   ]
  },
  {
   "cell_type": "code",
   "execution_count": 7,
   "metadata": {},
   "outputs": [
    {
     "data": {
      "text/html": [
       "<div>\n",
       "<style scoped>\n",
       "    .dataframe tbody tr th:only-of-type {\n",
       "        vertical-align: middle;\n",
       "    }\n",
       "\n",
       "    .dataframe tbody tr th {\n",
       "        vertical-align: top;\n",
       "    }\n",
       "\n",
       "    .dataframe thead th {\n",
       "        text-align: right;\n",
       "    }\n",
       "</style>\n",
       "<table border=\"1\" class=\"dataframe\">\n",
       "  <thead>\n",
       "    <tr style=\"text-align: right;\">\n",
       "      <th></th>\n",
       "      <th>date</th>\n",
       "      <th>new_deaths_smoothed</th>\n",
       "      <th>Year</th>\n",
       "      <th>Month</th>\n",
       "      <th>Day</th>\n",
       "    </tr>\n",
       "  </thead>\n",
       "  <tbody>\n",
       "    <tr>\n",
       "      <th>131667</th>\n",
       "      <td>2020-03-10</td>\n",
       "      <td>NaN</td>\n",
       "      <td>2020</td>\n",
       "      <td>3</td>\n",
       "      <td>10</td>\n",
       "    </tr>\n",
       "    <tr>\n",
       "      <th>131668</th>\n",
       "      <td>2020-03-11</td>\n",
       "      <td>NaN</td>\n",
       "      <td>2020</td>\n",
       "      <td>3</td>\n",
       "      <td>11</td>\n",
       "    </tr>\n",
       "    <tr>\n",
       "      <th>131669</th>\n",
       "      <td>2020-03-12</td>\n",
       "      <td>NaN</td>\n",
       "      <td>2020</td>\n",
       "      <td>3</td>\n",
       "      <td>12</td>\n",
       "    </tr>\n",
       "    <tr>\n",
       "      <th>131670</th>\n",
       "      <td>2020-03-13</td>\n",
       "      <td>NaN</td>\n",
       "      <td>2020</td>\n",
       "      <td>3</td>\n",
       "      <td>13</td>\n",
       "    </tr>\n",
       "    <tr>\n",
       "      <th>131671</th>\n",
       "      <td>2020-03-14</td>\n",
       "      <td>NaN</td>\n",
       "      <td>2020</td>\n",
       "      <td>3</td>\n",
       "      <td>14</td>\n",
       "    </tr>\n",
       "  </tbody>\n",
       "</table>\n",
       "</div>"
      ],
      "text/plain": [
       "             date  new_deaths_smoothed  Year  Month  Day\n",
       "131667 2020-03-10                  NaN  2020      3   10\n",
       "131668 2020-03-11                  NaN  2020      3   11\n",
       "131669 2020-03-12                  NaN  2020      3   12\n",
       "131670 2020-03-13                  NaN  2020      3   13\n",
       "131671 2020-03-14                  NaN  2020      3   14"
      ]
     },
     "execution_count": 7,
     "metadata": {},
     "output_type": "execute_result"
    }
   ],
   "source": [
    "train_data.head()"
   ]
  },
  {
   "cell_type": "code",
   "execution_count": 8,
   "metadata": {},
   "outputs": [
    {
     "data": {
      "text/html": [
       "<div>\n",
       "<style scoped>\n",
       "    .dataframe tbody tr th:only-of-type {\n",
       "        vertical-align: middle;\n",
       "    }\n",
       "\n",
       "    .dataframe tbody tr th {\n",
       "        vertical-align: top;\n",
       "    }\n",
       "\n",
       "    .dataframe thead th {\n",
       "        text-align: right;\n",
       "    }\n",
       "</style>\n",
       "<table border=\"1\" class=\"dataframe\">\n",
       "  <thead>\n",
       "    <tr style=\"text-align: right;\">\n",
       "      <th></th>\n",
       "      <th>date</th>\n",
       "      <th>new_deaths_smoothed</th>\n",
       "      <th>Year</th>\n",
       "      <th>Month</th>\n",
       "      <th>Day</th>\n",
       "    </tr>\n",
       "  </thead>\n",
       "  <tbody>\n",
       "    <tr>\n",
       "      <th>131955</th>\n",
       "      <td>2020-12-23</td>\n",
       "      <td>0.143</td>\n",
       "      <td>2020</td>\n",
       "      <td>12</td>\n",
       "      <td>23</td>\n",
       "    </tr>\n",
       "    <tr>\n",
       "      <th>131956</th>\n",
       "      <td>2020-12-24</td>\n",
       "      <td>0.143</td>\n",
       "      <td>2020</td>\n",
       "      <td>12</td>\n",
       "      <td>24</td>\n",
       "    </tr>\n",
       "    <tr>\n",
       "      <th>131957</th>\n",
       "      <td>2020-12-25</td>\n",
       "      <td>0.000</td>\n",
       "      <td>2020</td>\n",
       "      <td>12</td>\n",
       "      <td>25</td>\n",
       "    </tr>\n",
       "    <tr>\n",
       "      <th>131958</th>\n",
       "      <td>2020-12-26</td>\n",
       "      <td>0.000</td>\n",
       "      <td>2020</td>\n",
       "      <td>12</td>\n",
       "      <td>26</td>\n",
       "    </tr>\n",
       "    <tr>\n",
       "      <th>131959</th>\n",
       "      <td>2020-12-27</td>\n",
       "      <td>0.000</td>\n",
       "      <td>2020</td>\n",
       "      <td>12</td>\n",
       "      <td>27</td>\n",
       "    </tr>\n",
       "  </tbody>\n",
       "</table>\n",
       "</div>"
      ],
      "text/plain": [
       "             date  new_deaths_smoothed  Year  Month  Day\n",
       "131955 2020-12-23                0.143  2020     12   23\n",
       "131956 2020-12-24                0.143  2020     12   24\n",
       "131957 2020-12-25                0.000  2020     12   25\n",
       "131958 2020-12-26                0.000  2020     12   26\n",
       "131959 2020-12-27                0.000  2020     12   27"
      ]
     },
     "execution_count": 8,
     "metadata": {},
     "output_type": "execute_result"
    }
   ],
   "source": [
    "train_data = train_data.dropna()\n",
    "train_data.head()"
   ]
  },
  {
   "cell_type": "code",
   "execution_count": 9,
   "metadata": {},
   "outputs": [
    {
     "name": "stdout",
     "output_type": "stream",
     "text": [
      "Number of Confirmed Cases 983430.0 2022-10-06 00:00:00\n",
      "Number of Recovered Cases 2131.0 2022-10-06 00:00:00\n"
     ]
    }
   ],
   "source": [
    "print(\"Number of Confirmed Cases\",covid_mongolia[\"total_cases\"].iloc[-1], covid_mongolia[\"date\"].iloc[-1])\n",
    "print(\"Number of Recovered Cases\",covid_mongolia[\"total_deaths\"].iloc[-1], covid_mongolia[\"date\"].iloc[-1])"
   ]
  },
  {
   "cell_type": "code",
   "execution_count": 10,
   "metadata": {},
   "outputs": [
    {
     "data": {
      "text/html": [
       "<div>\n",
       "<style scoped>\n",
       "    .dataframe tbody tr th:only-of-type {\n",
       "        vertical-align: middle;\n",
       "    }\n",
       "\n",
       "    .dataframe tbody tr th {\n",
       "        vertical-align: top;\n",
       "    }\n",
       "\n",
       "    .dataframe thead th {\n",
       "        text-align: right;\n",
       "    }\n",
       "</style>\n",
       "<table border=\"1\" class=\"dataframe\">\n",
       "  <thead>\n",
       "    <tr style=\"text-align: right;\">\n",
       "      <th></th>\n",
       "      <th>date</th>\n",
       "      <th>new_deaths_smoothed</th>\n",
       "      <th>Year</th>\n",
       "      <th>Month</th>\n",
       "      <th>Day</th>\n",
       "    </tr>\n",
       "  </thead>\n",
       "  <tbody>\n",
       "    <tr>\n",
       "      <th>131955</th>\n",
       "      <td>2020-12-23</td>\n",
       "      <td>0.143</td>\n",
       "      <td>2020</td>\n",
       "      <td>12</td>\n",
       "      <td>23</td>\n",
       "    </tr>\n",
       "    <tr>\n",
       "      <th>131956</th>\n",
       "      <td>2020-12-24</td>\n",
       "      <td>0.143</td>\n",
       "      <td>2020</td>\n",
       "      <td>12</td>\n",
       "      <td>24</td>\n",
       "    </tr>\n",
       "    <tr>\n",
       "      <th>131957</th>\n",
       "      <td>2020-12-25</td>\n",
       "      <td>0.000</td>\n",
       "      <td>2020</td>\n",
       "      <td>12</td>\n",
       "      <td>25</td>\n",
       "    </tr>\n",
       "    <tr>\n",
       "      <th>131958</th>\n",
       "      <td>2020-12-26</td>\n",
       "      <td>0.000</td>\n",
       "      <td>2020</td>\n",
       "      <td>12</td>\n",
       "      <td>26</td>\n",
       "    </tr>\n",
       "    <tr>\n",
       "      <th>131959</th>\n",
       "      <td>2020-12-27</td>\n",
       "      <td>0.000</td>\n",
       "      <td>2020</td>\n",
       "      <td>12</td>\n",
       "      <td>27</td>\n",
       "    </tr>\n",
       "  </tbody>\n",
       "</table>\n",
       "</div>"
      ],
      "text/plain": [
       "             date  new_deaths_smoothed  Year  Month  Day\n",
       "131955 2020-12-23                0.143  2020     12   23\n",
       "131956 2020-12-24                0.143  2020     12   24\n",
       "131957 2020-12-25                0.000  2020     12   25\n",
       "131958 2020-12-26                0.000  2020     12   26\n",
       "131959 2020-12-27                0.000  2020     12   27"
      ]
     },
     "execution_count": 10,
     "metadata": {},
     "output_type": "execute_result"
    }
   ],
   "source": [
    "train_data.head()"
   ]
  },
  {
   "cell_type": "code",
   "execution_count": 11,
   "metadata": {},
   "outputs": [],
   "source": [
    "# train_data = train_data.drop(columns=\"date\")"
   ]
  },
  {
   "cell_type": "code",
   "execution_count": 12,
   "metadata": {},
   "outputs": [
    {
     "data": {
      "text/html": [
       "<div>\n",
       "<style scoped>\n",
       "    .dataframe tbody tr th:only-of-type {\n",
       "        vertical-align: middle;\n",
       "    }\n",
       "\n",
       "    .dataframe tbody tr th {\n",
       "        vertical-align: top;\n",
       "    }\n",
       "\n",
       "    .dataframe thead th {\n",
       "        text-align: right;\n",
       "    }\n",
       "</style>\n",
       "<table border=\"1\" class=\"dataframe\">\n",
       "  <thead>\n",
       "    <tr style=\"text-align: right;\">\n",
       "      <th></th>\n",
       "      <th>date</th>\n",
       "      <th>new_deaths_smoothed</th>\n",
       "      <th>Year</th>\n",
       "      <th>Month</th>\n",
       "      <th>Day</th>\n",
       "    </tr>\n",
       "  </thead>\n",
       "  <tbody>\n",
       "    <tr>\n",
       "      <th>131955</th>\n",
       "      <td>2020-12-23</td>\n",
       "      <td>0.007882</td>\n",
       "      <td>2020</td>\n",
       "      <td>12</td>\n",
       "      <td>23</td>\n",
       "    </tr>\n",
       "    <tr>\n",
       "      <th>131956</th>\n",
       "      <td>2020-12-24</td>\n",
       "      <td>0.007882</td>\n",
       "      <td>2020</td>\n",
       "      <td>12</td>\n",
       "      <td>24</td>\n",
       "    </tr>\n",
       "    <tr>\n",
       "      <th>131957</th>\n",
       "      <td>2020-12-25</td>\n",
       "      <td>0.000000</td>\n",
       "      <td>2020</td>\n",
       "      <td>12</td>\n",
       "      <td>25</td>\n",
       "    </tr>\n",
       "    <tr>\n",
       "      <th>131958</th>\n",
       "      <td>2020-12-26</td>\n",
       "      <td>0.000000</td>\n",
       "      <td>2020</td>\n",
       "      <td>12</td>\n",
       "      <td>26</td>\n",
       "    </tr>\n",
       "    <tr>\n",
       "      <th>131959</th>\n",
       "      <td>2020-12-27</td>\n",
       "      <td>0.000000</td>\n",
       "      <td>2020</td>\n",
       "      <td>12</td>\n",
       "      <td>27</td>\n",
       "    </tr>\n",
       "  </tbody>\n",
       "</table>\n",
       "</div>"
      ],
      "text/plain": [
       "             date  new_deaths_smoothed  Year  Month  Day\n",
       "131955 2020-12-23             0.007882  2020     12   23\n",
       "131956 2020-12-24             0.007882  2020     12   24\n",
       "131957 2020-12-25             0.000000  2020     12   25\n",
       "131958 2020-12-26             0.000000  2020     12   26\n",
       "131959 2020-12-27             0.000000  2020     12   27"
      ]
     },
     "execution_count": 12,
     "metadata": {},
     "output_type": "execute_result"
    }
   ],
   "source": [
    "le = LabelEncoder()\n",
    "normalizer = Normalizer()\n",
    "onehot = OneHotEncoder()\n",
    "# train_data[\"Year\"] = le.fit_transform(train_data[\"Year\"])\n",
    "# train_data[\"Month\"] = onehot.fit_transform(train_data[\"Month\"])\n",
    "# train_data[\"Day\"] = onehot.fit_transform(train_data[\"Day\"])\n",
    "train_data[\"new_deaths_smoothed\"] = train_data[\"new_deaths_smoothed\"] / np.max(train_data[\"new_deaths_smoothed\"])\n",
    "train_data.head()"
   ]
  },
  {
   "cell_type": "code",
   "execution_count": 13,
   "metadata": {},
   "outputs": [],
   "source": [
    "X, y = train_data[[\"new_deaths_smoothed\"]].to_numpy(), train_data[\"new_deaths_smoothed\"].to_numpy()\n",
    "X_train, y_train = X[:int(len(X)*0.7)], y[:int(len(y)*0.7)]\n",
    "X_test, y_test = X[int(len(X)*0.7):], y[int(len(y)*0.7):]\n",
    "train_x = torch.tensor(X_train, dtype=torch.float32) \n",
    "train_y = torch.tensor(y_train, dtype=torch.float32)\n",
    "test_x = torch.tensor(X_test, dtype=torch.float32) \n",
    "test_y = torch.tensor(y_test, dtype=torch.float32)"
   ]
  },
  {
   "cell_type": "code",
   "execution_count": 14,
   "metadata": {},
   "outputs": [
    {
     "name": "stdout",
     "output_type": "stream",
     "text": [
      "(457, 1) (457,) (196, 1) (196,)\n",
      "[[0.00788183]] [0.00788183] [[0.01576366]] [0.01576366]\n"
     ]
    }
   ],
   "source": [
    "print(X_train.shape, y_train.shape, X_test.shape, y_test.shape)\n",
    "print(X_train[:1], y_train[:1], X_test[:1], y_test[:1])\n"
   ]
  },
  {
   "cell_type": "code",
   "execution_count": 15,
   "metadata": {},
   "outputs": [],
   "source": [
    "from sklearn.linear_model import LinearRegression, ARDRegression, GammaRegressor, HuberRegressor, LogisticRegression, ridge_regression, PassiveAggressiveRegressor, PoissonRegressor,QuantileRegressor,RANSACRegressor,SGDRegressor\n",
    "from sklearn.ensemble import RandomForestRegressor, AdaBoostRegressor, GradientBoostingRegressor, BaggingRegressor, HistGradientBoostingRegressor, StackingRegressor, VotingRegressor\n",
    "import sklearn"
   ]
  },
  {
   "cell_type": "code",
   "execution_count": null,
   "metadata": {},
   "outputs": [],
   "source": []
  },
  {
   "cell_type": "code",
   "execution_count": 16,
   "metadata": {},
   "outputs": [],
   "source": [
    "model = LinearRegression()\n"
   ]
  },
  {
   "cell_type": "code",
   "execution_count": 17,
   "metadata": {},
   "outputs": [
    {
     "data": {
      "text/plain": [
       "LinearRegression()"
      ]
     },
     "execution_count": 17,
     "metadata": {},
     "output_type": "execute_result"
    }
   ],
   "source": [
    "model.fit(X_train,y_train)"
   ]
  },
  {
   "cell_type": "code",
   "execution_count": 18,
   "metadata": {},
   "outputs": [],
   "source": [
    "preds = model.predict(X_test)"
   ]
  },
  {
   "cell_type": "code",
   "execution_count": 19,
   "metadata": {},
   "outputs": [],
   "source": [
    "from matplotlib import pyplot as plt"
   ]
  },
  {
   "cell_type": "code",
   "execution_count": 20,
   "metadata": {},
   "outputs": [
    {
     "data": {
      "image/png": "[encoded data removed]",
      "text/plain": [
       "<Figure size 432x288 with 1 Axes>"
      ]
     },
     "metadata": {
      "needs_background": "light"
     },
     "output_type": "display_data"
    }
   ],
   "source": [
    "plt.plot(preds)\n",
    "plt.plot(y_test)\n",
    "plt.grid()\n",
    "plt.show()\n"
   ]
  },
  {
   "cell_type": "code",
   "execution_count": 21,
   "metadata": {},
   "outputs": [],
   "source": [
    "from sklearn.metrics import mean_squared_error as mse"
   ]
  },
  {
   "cell_type": "code",
   "execution_count": 22,
   "metadata": {},
   "outputs": [
    {
     "name": "stdout",
     "output_type": "stream",
     "text": [
      "2.9196784747640203e-33\n",
      "0.11888775510203985\n"
     ]
    }
   ],
   "source": [
    "print(mse(preds, y_test))\n",
    "print(np.average(preds)*np.max(covid_mongolia[\"new_deaths_smoothed\"]))"
   ]
  },
  {
   "cell_type": "code",
   "execution_count": 23,
   "metadata": {},
   "outputs": [
    {
     "data": {
      "image/png": "[encoded data removed]",
      "text/plain": [
       "<Figure size 432x288 with 1 Axes>"
      ]
     },
     "metadata": {
      "needs_background": "light"
     },
     "output_type": "display_data"
    }
   ],
   "source": [
    "model = RandomForestRegressor()\n",
    "model.fit(X_train,y_train)\n",
    "preds = model.predict(X_test)\n",
    "plt.plot(preds)\n",
    "plt.plot(y_test)\n",
    "plt.grid()\n",
    "plt.show()\n"
   ]
  },
  {
   "cell_type": "code",
   "execution_count": 24,
   "metadata": {},
   "outputs": [
    {
     "data": {
      "text/plain": [
       "3.5004222759764053e-09"
      ]
     },
     "execution_count": 24,
     "metadata": {},
     "output_type": "execute_result"
    }
   ],
   "source": [
    "mse(preds, y_test)"
   ]
  },
  {
   "cell_type": "code",
   "execution_count": 25,
   "metadata": {},
   "outputs": [
    {
     "data": {
      "image/png": "[encoded data removed]",
      "text/plain": [
       "<Figure size 432x288 with 1 Axes>"
      ]
     },
     "metadata": {
      "needs_background": "light"
     },
     "output_type": "display_data"
    },
    {
     "data": {
      "text/plain": [
       "0.0006835488896713735"
      ]
     },
     "execution_count": 25,
     "metadata": {},
     "output_type": "execute_result"
    }
   ],
   "source": [
    "\n",
    "model = AdaBoostRegressor()\n",
    "model.fit(X_train,y_train)\n",
    "preds = model.predict(X_test)\n",
    "plt.plot(preds)\n",
    "plt.plot(y_test)\n",
    "plt.grid()\n",
    "plt.show()\n",
    "mse(preds, y_test)"
   ]
  },
  {
   "cell_type": "code",
   "execution_count": 26,
   "metadata": {},
   "outputs": [],
   "source": [
    "models = [\"LinearRegression\", \"ARDRegression\", #\"GammaRegressor\", \"LogisticRegression\",\"ridge_regression\",\"StackingRegressor\",, \"VotingRegressor\"\n",
    "        \"PassiveAggressiveRegressor\", \n",
    "        \"PoissonRegressor\",\"QuantileRegressor\",\"RANSACRegressor\",\"SGDRegressor\",\n",
    "        \"RandomForestRegressor\", \"AdaBoostRegressor\", \"GradientBoostingRegressor\", \n",
    "        \"BaggingRegressor\", \"HistGradientBoostingRegressor\"]\n",
    "def get_model(model_name):\n",
    "    if model_name == \"LinearRegression\":\n",
    "        return LinearRegression()\n",
    "    elif model_name == \"ARDRegression\":\n",
    "        return ARDRegression()\n",
    "    elif model_name == \"GammaRegressor\":\n",
    "        return GammaRegressor()\n",
    "    elif model_name == \"LogisticRegression\":\n",
    "        return LogisticRegression()\n",
    "    elif model_name == \"ridge_regression\":\n",
    "        return ridge_regression()\n",
    "    elif model_name == \"PassiveAggressiveRegressor\":\n",
    "        return PassiveAggressiveRegressor()\n",
    "    elif model_name == \"PoissonRegressor\":\n",
    "        return PoissonRegressor()\n",
    "    elif model_name == \"QuantileRegressor\":\n",
    "        return QuantileRegressor()\n",
    "    elif model_name == \"RANSACRegressor\":\n",
    "        return RANSACRegressor()\n",
    "    elif model_name == \"SGDRegressor\":\n",
    "        return SGDRegressor()\n",
    "    elif model_name == \"RandomForestRegressor\":\n",
    "        return RandomForestRegressor()\n",
    "    elif model_name == \"AdaBoostRegressor\":\n",
    "        return AdaBoostRegressor()\n",
    "    elif model_name == \"GradientBoostingRegressor\":\n",
    "        return GradientBoostingRegressor()\n",
    "    elif model_name == \"BaggingRegressor\":\n",
    "        return BaggingRegressor()\n",
    "    elif model_name == \"HistGradientBoostingRegressor\":\n",
    "        return HistGradientBoostingRegressor()\n",
    "    elif model_name == \"StackingRegressor\":\n",
    "        return StackingRegressor()\n",
    "    else:\n",
    "        return VotingRegressor()\n",
    "\n",
    "\n",
    "def train_models():\n",
    "    for model_name in models:\n",
    "        print(model_name)\n",
    "        model = get_model(model_name)\n",
    "        model.fit(X_train,y_train)\n",
    "        preds = model.predict(X_test)\n",
    "        plt.plot(covid_mongolia[\"date\"][-len(y_test):],preds)\n",
    "        plt.plot(covid_mongolia[\"date\"][-len(y_test):],y_test)\n",
    "        plt.title(model_name + \": {:.4f} average: {:.2f}\".format(mse(preds, y_test), mse(preds, y_test)*np.max(covid_mongolia[\"new_deaths_smoothed\"])))\n",
    "        plt.grid()\n",
    "        plt.show()\n",
    "        "
   ]
  },
  {
   "cell_type": "code",
   "execution_count": 27,
   "metadata": {},
   "outputs": [
    {
     "name": "stdout",
     "output_type": "stream",
     "text": [
      "LinearRegression\n"
     ]
    },
    {
     "data": {
      "image/png": "[encoded data removed]",
      "text/plain": [
       "<Figure size 432x288 with 1 Axes>"
      ]
     },
     "metadata": {
      "needs_background": "light"
     },
     "output_type": "display_data"
    },
    {
     "name": "stdout",
     "output_type": "stream",
     "text": [
      "ARDRegression\n"
     ]
    },
    {
     "data": {
      "image/png": "[encoded data removed]",
      "text/plain": [
       "<Figure size 432x288 with 1 Axes>"
      ]
     },
     "metadata": {
      "needs_background": "light"
     },
     "output_type": "display_data"
    },
    {
     "name": "stdout",
     "output_type": "stream",
     "text": [
      "PassiveAggressiveRegressor\n"
     ]
    },
    {
     "data": {
      "image/png": "[encoded data removed]",
      "text/plain": [
       "<Figure size 432x288 with 1 Axes>"
      ]
     },
     "metadata": {
      "needs_background": "light"
     },
     "output_type": "display_data"
    },
    {
     "name": "stdout",
     "output_type": "stream",
     "text": [
      "PoissonRegressor\n"
     ]
    },
    {
     "data": {
      "image/png": "[encoded data removed]",
      "text/plain": [
       "<Figure size 432x288 with 1 Axes>"
      ]
     },
     "metadata": {
      "needs_background": "light"
     },
     "output_type": "display_data"
    },
    {
     "name": "stdout",
     "output_type": "stream",
     "text": [
      "QuantileRegressor\n"
     ]
    },
    {
     "data": {
      "image/png": "[encoded data removed]",
      "text/plain": [
       "<Figure size 432x288 with 1 Axes>"
      ]
     },
     "metadata": {
      "needs_background": "light"
     },
     "output_type": "display_data"
    },
    {
     "name": "stdout",
     "output_type": "stream",
     "text": [
      "RANSACRegressor\n"
     ]
    },
    {
     "data": {
      "image/png": "[encoded data removed]",
      "text/plain": [
       "<Figure size 432x288 with 1 Axes>"
      ]
     },
     "metadata": {
      "needs_background": "light"
     },
     "output_type": "display_data"
    },
    {
     "name": "stdout",
     "output_type": "stream",
     "text": [
      "SGDRegressor\n"
     ]
    },
    {
     "data": {
      "image/png": "[encoded data removed]",
      "text/plain": [
       "<Figure size 432x288 with 1 Axes>"
      ]
     },
     "metadata": {
      "needs_background": "light"
     },
     "output_type": "display_data"
    },
    {
     "name": "stdout",
     "output_type": "stream",
     "text": [
      "RandomForestRegressor\n"
     ]
    },
    {
     "data": {
      "image/png": "[encoded data removed]",
      "text/plain": [
       "<Figure size 432x288 with 1 Axes>"
      ]
     },
     "metadata": {
      "needs_background": "light"
     },
     "output_type": "display_data"
    },
    {
     "name": "stdout",
     "output_type": "stream",
     "text": [
      "AdaBoostRegressor\n"
     ]
    },
    {
     "data": {
      "image/png": "[encoded data removed]",
      "text/plain": [
       "<Figure size 432x288 with 1 Axes>"
      ]
     },
     "metadata": {
      "needs_background": "light"
     },
     "output_type": "display_data"
    },
    {
     "name": "stdout",
     "output_type": "stream",
     "text": [
      "GradientBoostingRegressor\n"
     ]
    },
    {
     "data": {
      "image/png": "[encoded data removed]",
      "text/plain": [
       "<Figure size 432x288 with 1 Axes>"
      ]
     },
     "metadata": {
      "needs_background": "light"
     },
     "output_type": "display_data"
    },
    {
     "name": "stdout",
     "output_type": "stream",
     "text": [
      "BaggingRegressor\n"
     ]
    },
    {
     "data": {
      "image/png": "[encoded data removed]",
      "text/plain": [
       "<Figure size 432x288 with 1 Axes>"
      ]
     },
     "metadata": {
      "needs_background": "light"
     },
     "output_type": "display_data"
    },
    {
     "name": "stdout",
     "output_type": "stream",
     "text": [
      "HistGradientBoostingRegressor\n"
     ]
    },
    {
     "data": {
      "image/png": "[encoded data removed]",
      "text/plain": [
       "<Figure size 432x288 with 1 Axes>"
      ]
     },
     "metadata": {
      "needs_background": "light"
     },
     "output_type": "display_data"
    }
   ],
   "source": [
    "train_models()"
   ]
  },
  {
   "cell_type": "markdown",
   "metadata": {},
   "source": [
    "# Лаборатори 7"
   ]
  },
  {
   "cell_type": "code",
   "execution_count": 28,
   "metadata": {},
   "outputs": [],
   "source": [
    "X_train, y_train = X[:int(len(X)*0.7)], y[:int(len(y)*0.7)]\n",
    "X_test, y_test = X[int(len(X)*0.7):], y[int(len(y)*0.7):]"
   ]
  },
  {
   "cell_type": "code",
   "execution_count": 29,
   "metadata": {},
   "outputs": [
    {
     "name": "stdout",
     "output_type": "stream",
     "text": [
      "(457, 1) (457,) (196, 1) (196,)\n"
     ]
    }
   ],
   "source": [
    "print(X_train.shape, y_train.shape, X_test.shape, y_test.shape)"
   ]
  },
  {
   "cell_type": "code",
   "execution_count": 30,
   "metadata": {},
   "outputs": [],
   "source": [
    "class covid_dataset(torch.utils.data.Dataset):   \n",
    "    def __init__(self, X, y, seq_len=10):\n",
    "        self.X = X\n",
    "        self.y = y\n",
    "        self.seq_len = seq_len #10 udriin ugugdliig harna\n",
    "\n",
    "    def __len__(self):\n",
    "        return self.X.__len__() - (self.seq_len-1)\n",
    "\n",
    "    def __getitem__(self, index):\n",
    "        return (self.X[index:index+self.seq_len], self.y[index+self.seq_len+1]) #utga avma"
   ]
  },
  {
   "cell_type": "code",
   "execution_count": 31,
   "metadata": {},
   "outputs": [],
   "source": [
    "import torch.nn as nn\n",
    "class LSTM(nn.Module):\n",
    "    def __init__(self, input_size, hidden_size, num_layers, output_size):\n",
    "        super(LSTM, self).__init__()\n",
    "        self.hidden_size = hidden_size\n",
    "        self.num_layers = num_layers\n",
    "        self.lstm = nn.LSTM(input_size=input_size, hidden_size=hidden_size,\n",
    "                            num_layers=num_layers, batch_first=True).double()\n",
    "        self.linear = nn.Linear(hidden_size, output_size).double()\n",
    "        \n",
    "    def forward(self, x, hidden=None):\n",
    "        if hidden==None:\n",
    "            self.hidden = (torch.zeros(self.num_layers,x.shape[0],self.hidden_size).double(),\n",
    "                           torch.zeros(self.num_layers,x.shape[0],self.hidden_size).double())\n",
    "        else:\n",
    "            self.hidden = hidden\n",
    "        lstm_out, self.hidden = self.lstm(x, self.hidden)\n",
    "        b,s,f = lstm_out.shape\n",
    "        predictions = self.linear(lstm_out.reshape(b*s, -1))\n",
    "        predictions = predictions.reshape(b,s, -1)\n",
    "        return predictions[:,-1,:].reshape(-1), self.hidden"
   ]
  },
  {
   "cell_type": "code",
   "execution_count": 32,
   "metadata": {},
   "outputs": [],
   "source": [
    "model = LSTM(2,20,2,1)\n",
    "model.double()\n",
    "train_dataset = covid_dataset(X_train, y_train, seq_len=7)\n",
    "test_dataset = covid_dataset(X_test, y_test, seq_len=7)\n",
    "test_loader = torch.utils.data.DataLoader(test_dataset, batch_size=4, shuffle=False, drop_last=True)\n",
    "train_loader = torch.utils.data.DataLoader(train_dataset, batch_size = 4, shuffle = False, drop_last=True)"
   ]
  },
  {
   "cell_type": "code",
   "execution_count": 33,
   "metadata": {},
   "outputs": [
    {
     "name": "stdout",
     "output_type": "stream",
     "text": [
      "0.0504663868555761\n",
      "0.03960472436834698\n",
      "0.03579573353200593\n",
      "0.030898401613104663\n",
      "0.025126131970567893\n",
      "0.019586984675586283\n",
      "0.014949170836601645\n",
      "0.011381491947775782\n",
      "0.008867583761191832\n",
      "0.007167057410816289\n",
      "0.006049892198568225\n",
      "0.005326919984265543\n",
      "0.004861261585267842\n",
      "0.0045595738229428475\n",
      "0.0043606703114636245\n",
      "0.004225452774712711\n",
      "0.004129289040556601\n",
      "0.004056774250029701\n",
      "0.003998329522061248\n",
      "0.003948052966686876\n",
      "0.0039023745642894113\n",
      "0.0038592144299258954\n",
      "0.003817450561602718\n",
      "0.003776570115153931\n",
      "0.0037364235636255386\n",
      "0.003697035900082065\n",
      "0.0036584607886542236\n",
      "0.003620691769916826\n",
      "0.0035836511516342817\n",
      "0.0035472449096349136\n",
      "0.0035114293450499356\n",
      "0.0034762374462811935\n",
      "0.003441758514002008\n",
      "0.0034080987276681506\n",
      "0.0033753485579732594\n",
      "0.003343565980134573\n",
      "0.0033127729503370554\n",
      "0.003282959607994213\n",
      "0.00325409177231316\n",
      "0.003226119126551827\n",
      "0.003198982848004386\n",
      "0.003172622275527166\n",
      "0.0031469807668955264\n",
      "0.003122011565546801\n",
      "0.003097685974503109\n",
      "0.003074010277474415\n",
      "0.0030510699631671433\n",
      "0.003029148411064952\n",
      "0.003008921421034386\n",
      "0.0029905400893489678\n",
      "0.002969197795093129\n",
      "0.0029434907219440106\n",
      "0.0029201574617300054\n",
      "0.002898435124423243\n",
      "0.0028777801656489415\n",
      "0.0028572060487619846\n",
      "0.0028345780701638902\n",
      "0.002807925706955488\n",
      "0.0027824498405849625\n",
      "0.002752069954679473\n",
      "0.002741122959314452\n",
      "0.002649571131063992\n",
      "0.002718205863068825\n",
      "0.002608033756192373\n",
      "0.002658675071511777\n",
      "0.0025561581801615114\n",
      "0.0025888469711682935\n",
      "0.002509054117359557\n",
      "0.0025320868084540973\n",
      "0.0024620252256856543\n",
      "0.002478172591273462\n",
      "0.002410932925987206\n",
      "0.0024190392201359095\n",
      "0.0023573887579055827\n",
      "0.002355355266927078\n",
      "0.002302307732523172\n",
      "0.002288483379656095\n",
      "0.0022453256789396444\n",
      "0.0022199089325125013\n",
      "0.0021860055478934463\n",
      "0.002152027098923671\n",
      "0.0021246574663178843\n",
      "0.0020878276063809307\n",
      "0.00206395982949789\n",
      "0.0020304471762568844\n",
      "0.0020090456988705097\n",
      "0.0019827289986393093\n",
      "0.0019647929006911743\n",
      "0.0019466694177311668\n",
      "0.0019337991765104542\n",
      "0.0019234578899780038\n",
      "0.0019170672912680977\n",
      "0.0019141391306371801\n",
      "0.0019154218839818337\n",
      "0.0019179137299637264\n",
      "0.0019260478161389621\n",
      "0.0019118363630909326\n",
      "0.00193294051928774\n",
      "0.0019000948396525874\n",
      "0.0020281598161545197\n"
     ]
    }
   ],
   "source": [
    "num_epochs = 100\n",
    "learning_rate = 0.003\n",
    "output_size = 1\n",
    "input_size = 1\n",
    "hidden_size = 10\n",
    "num_layers = 1\n",
    "\n",
    "lstm = LSTM(input_size, hidden_size, num_layers, output_size)\n",
    "criterion = torch.nn.MSELoss()    # mean-squared error for regression\n",
    "optimizer = torch.optim.Adam(lstm.parameters(), lr=learning_rate)\n",
    "# Train the model\n",
    "for epoch in range(num_epochs):\n",
    "    epoch_loss = []\n",
    "    for x, y in train_loader:\n",
    "        outputs,_ = lstm(x)\n",
    "        optimizer.zero_grad()\n",
    "        # obtain the loss function\n",
    "        loss = criterion(outputs, y)\n",
    "        loss.backward()\n",
    "        optimizer.step()\n",
    "        epoch_loss.append(loss.item())\n",
    "        #if (epoch +1) % 2 == 0:\n",
    "           # print(\"Epoch: %d, loss: %1.5f\" % (epoch, loss.item()))\n",
    "    epoch_avg = sum(epoch_loss) / len(epoch_loss)\n",
    "    print(epoch_avg)\n",
    "        "
   ]
  },
  {
   "cell_type": "code",
   "execution_count": 34,
   "metadata": {},
   "outputs": [
    {
     "name": "stdout",
     "output_type": "stream",
     "text": [
      "Epoch: 99, loss: 0.00029\n",
      "tensor([0.0165, 0.0173, 0.0173, 0.0173], dtype=torch.float64,\n",
      "       grad_fn=<CatBackward0>)\n",
      "tensor([0., 0., 0., 0.], dtype=torch.float64)\n",
      "Epoch: 99, loss: 0.00030\n",
      "tensor([0.0165, 0.0173, 0.0173, 0.0173, 0.0173, 0.0173, 0.0173, 0.0173],\n",
      "       dtype=torch.float64, grad_fn=<CatBackward0>)\n",
      "tensor([0., 0., 0., 0., 0., 0., 0., 0.], dtype=torch.float64)\n",
      "Epoch: 99, loss: 0.00030\n",
      "tensor([0.0165, 0.0173, 0.0173, 0.0173, 0.0173, 0.0173, 0.0173, 0.0173, 0.0173,\n",
      "        0.0173, 0.0173, 0.0173], dtype=torch.float64, grad_fn=<CatBackward0>)\n",
      "tensor([0., 0., 0., 0., 0., 0., 0., 0., 0., 0., 0., 0.], dtype=torch.float64)\n",
      "Epoch: 99, loss: 0.00030\n",
      "tensor([0.0165, 0.0173, 0.0173, 0.0173, 0.0173, 0.0173, 0.0173, 0.0173, 0.0173,\n",
      "        0.0173, 0.0173, 0.0173, 0.0173, 0.0173, 0.0173, 0.0173],\n",
      "       dtype=torch.float64, grad_fn=<CatBackward0>)\n",
      "tensor([0., 0., 0., 0., 0., 0., 0., 0., 0., 0., 0., 0., 0., 0., 0., 0.],\n",
      "       dtype=torch.float64)\n",
      "Epoch: 99, loss: 0.00030\n",
      "tensor([0.0165, 0.0173, 0.0173, 0.0173, 0.0173, 0.0173, 0.0173, 0.0173, 0.0173,\n",
      "        0.0173, 0.0173, 0.0173, 0.0173, 0.0173, 0.0173, 0.0173, 0.0173, 0.0173,\n",
      "        0.0173, 0.0173], dtype=torch.float64, grad_fn=<CatBackward0>)\n",
      "tensor([0., 0., 0., 0., 0., 0., 0., 0., 0., 0., 0., 0., 0., 0., 0., 0., 0., 0., 0., 0.],\n",
      "       dtype=torch.float64)\n",
      "Epoch: 99, loss: 0.00030\n",
      "tensor([0.0165, 0.0173, 0.0173, 0.0173, 0.0173, 0.0173, 0.0173, 0.0173, 0.0173,\n",
      "        0.0173, 0.0173, 0.0173, 0.0173, 0.0173, 0.0173, 0.0173, 0.0173, 0.0173,\n",
      "        0.0173, 0.0173, 0.0173, 0.0173, 0.0173, 0.0173], dtype=torch.float64,\n",
      "       grad_fn=<CatBackward0>)\n",
      "tensor([0., 0., 0., 0., 0., 0., 0., 0., 0., 0., 0., 0., 0., 0., 0., 0., 0., 0., 0., 0., 0., 0., 0., 0.],\n",
      "       dtype=torch.float64)\n",
      "Epoch: 99, loss: 0.00023\n",
      "tensor([0.0165, 0.0173, 0.0173, 0.0173, 0.0173, 0.0173, 0.0173, 0.0173, 0.0173,\n",
      "        0.0173, 0.0173, 0.0173, 0.0173, 0.0173, 0.0173, 0.0173, 0.0173, 0.0173,\n",
      "        0.0173, 0.0173, 0.0173, 0.0173, 0.0173, 0.0173, 0.0173, 0.0173, 0.0173,\n",
      "        0.0173], dtype=torch.float64, grad_fn=<CatBackward0>)\n",
      "tensor([0.0000, 0.0000, 0.0000, 0.0000, 0.0000, 0.0000, 0.0000, 0.0000, 0.0000,\n",
      "        0.0000, 0.0000, 0.0000, 0.0000, 0.0000, 0.0000, 0.0000, 0.0000, 0.0000,\n",
      "        0.0000, 0.0000, 0.0000, 0.0000, 0.0000, 0.0000, 0.0000, 0.0000, 0.0000,\n",
      "        0.0158], dtype=torch.float64)\n",
      "Epoch: 99, loss: 0.00019\n",
      "tensor([0.0165, 0.0173, 0.0173, 0.0173, 0.0173, 0.0173, 0.0173, 0.0173, 0.0173,\n",
      "        0.0173, 0.0173, 0.0173, 0.0173, 0.0173, 0.0173, 0.0173, 0.0173, 0.0173,\n",
      "        0.0173, 0.0173, 0.0173, 0.0173, 0.0173, 0.0173, 0.0173, 0.0173, 0.0173,\n",
      "        0.0173, 0.0173, 0.0278, 0.0324, 0.0342], dtype=torch.float64,\n",
      "       grad_fn=<CatBackward0>)\n",
      "tensor([0.0000, 0.0000, 0.0000, 0.0000, 0.0000, 0.0000, 0.0000, 0.0000, 0.0000,\n",
      "        0.0000, 0.0000, 0.0000, 0.0000, 0.0000, 0.0000, 0.0000, 0.0000, 0.0000,\n",
      "        0.0000, 0.0000, 0.0000, 0.0000, 0.0000, 0.0000, 0.0000, 0.0000, 0.0000,\n",
      "        0.0158, 0.0158, 0.0158, 0.0158, 0.0158], dtype=torch.float64)\n",
      "Epoch: 99, loss: 0.00057\n",
      "tensor([0.0165, 0.0173, 0.0173, 0.0173, 0.0173, 0.0173, 0.0173, 0.0173, 0.0173,\n",
      "        0.0173, 0.0173, 0.0173, 0.0173, 0.0173, 0.0173, 0.0173, 0.0173, 0.0173,\n",
      "        0.0173, 0.0173, 0.0173, 0.0173, 0.0173, 0.0173, 0.0173, 0.0173, 0.0173,\n",
      "        0.0173, 0.0173, 0.0278, 0.0324, 0.0342, 0.0333, 0.0314, 0.0299, 0.0291],\n",
      "       dtype=torch.float64, grad_fn=<CatBackward0>)\n",
      "tensor([0.0000, 0.0000, 0.0000, 0.0000, 0.0000, 0.0000, 0.0000, 0.0000, 0.0000,\n",
      "        0.0000, 0.0000, 0.0000, 0.0000, 0.0000, 0.0000, 0.0000, 0.0000, 0.0000,\n",
      "        0.0000, 0.0000, 0.0000, 0.0000, 0.0000, 0.0000, 0.0000, 0.0000, 0.0000,\n",
      "        0.0158, 0.0158, 0.0158, 0.0158, 0.0158, 0.0158, 0.0158, 0.0000, 0.0000],\n",
      "       dtype=torch.float64)\n",
      "Epoch: 99, loss: 0.00013\n",
      "tensor([0.0165, 0.0173, 0.0173, 0.0173, 0.0173, 0.0173, 0.0173, 0.0173, 0.0173,\n",
      "        0.0173, 0.0173, 0.0173, 0.0173, 0.0173, 0.0173, 0.0173, 0.0173, 0.0173,\n",
      "        0.0173, 0.0173, 0.0173, 0.0173, 0.0173, 0.0173, 0.0173, 0.0173, 0.0173,\n",
      "        0.0173, 0.0173, 0.0278, 0.0324, 0.0342, 0.0333, 0.0314, 0.0299, 0.0291,\n",
      "        0.0187, 0.0142, 0.0125, 0.0185], dtype=torch.float64,\n",
      "       grad_fn=<CatBackward0>)\n",
      "tensor([0.0000, 0.0000, 0.0000, 0.0000, 0.0000, 0.0000, 0.0000, 0.0000, 0.0000,\n",
      "        0.0000, 0.0000, 0.0000, 0.0000, 0.0000, 0.0000, 0.0000, 0.0000, 0.0000,\n",
      "        0.0000, 0.0000, 0.0000, 0.0000, 0.0000, 0.0000, 0.0000, 0.0000, 0.0000,\n",
      "        0.0158, 0.0158, 0.0158, 0.0158, 0.0158, 0.0158, 0.0158, 0.0000, 0.0000,\n",
      "        0.0000, 0.0079, 0.0079, 0.0079], dtype=torch.float64)\n",
      "Epoch: 99, loss: 0.00008\n",
      "tensor([0.0165, 0.0173, 0.0173, 0.0173, 0.0173, 0.0173, 0.0173, 0.0173, 0.0173,\n",
      "        0.0173, 0.0173, 0.0173, 0.0173, 0.0173, 0.0173, 0.0173, 0.0173, 0.0173,\n",
      "        0.0173, 0.0173, 0.0173, 0.0173, 0.0173, 0.0173, 0.0173, 0.0173, 0.0173,\n",
      "        0.0173, 0.0173, 0.0278, 0.0324, 0.0342, 0.0333, 0.0314, 0.0299, 0.0291,\n",
      "        0.0187, 0.0142, 0.0125, 0.0185, 0.0225, 0.0249, 0.0253, 0.0297],\n",
      "       dtype=torch.float64, grad_fn=<CatBackward0>)\n",
      "tensor([0.0000, 0.0000, 0.0000, 0.0000, 0.0000, 0.0000, 0.0000, 0.0000, 0.0000,\n",
      "        0.0000, 0.0000, 0.0000, 0.0000, 0.0000, 0.0000, 0.0000, 0.0000, 0.0000,\n",
      "        0.0000, 0.0000, 0.0000, 0.0000, 0.0000, 0.0000, 0.0000, 0.0000, 0.0000,\n",
      "        0.0158, 0.0158, 0.0158, 0.0158, 0.0158, 0.0158, 0.0158, 0.0000, 0.0000,\n",
      "        0.0000, 0.0079, 0.0079, 0.0079, 0.0079, 0.0158, 0.0236, 0.0236],\n",
      "       dtype=torch.float64)\n",
      "Epoch: 99, loss: 0.00029\n",
      "tensor([0.0165, 0.0173, 0.0173, 0.0173, 0.0173, 0.0173, 0.0173, 0.0173, 0.0173,\n",
      "        0.0173, 0.0173, 0.0173, 0.0173, 0.0173, 0.0173, 0.0173, 0.0173, 0.0173,\n",
      "        0.0173, 0.0173, 0.0173, 0.0173, 0.0173, 0.0173, 0.0173, 0.0173, 0.0173,\n",
      "        0.0173, 0.0173, 0.0278, 0.0324, 0.0342, 0.0333, 0.0314, 0.0299, 0.0291,\n",
      "        0.0187, 0.0142, 0.0125, 0.0185, 0.0225, 0.0249, 0.0253, 0.0297, 0.0365,\n",
      "        0.0393, 0.0344, 0.0307], dtype=torch.float64, grad_fn=<CatBackward0>)\n",
      "tensor([0.0000, 0.0000, 0.0000, 0.0000, 0.0000, 0.0000, 0.0000, 0.0000, 0.0000,\n",
      "        0.0000, 0.0000, 0.0000, 0.0000, 0.0000, 0.0000, 0.0000, 0.0000, 0.0000,\n",
      "        0.0000, 0.0000, 0.0000, 0.0000, 0.0000, 0.0000, 0.0000, 0.0000, 0.0000,\n",
      "        0.0158, 0.0158, 0.0158, 0.0158, 0.0158, 0.0158, 0.0158, 0.0000, 0.0000,\n",
      "        0.0000, 0.0079, 0.0079, 0.0079, 0.0079, 0.0158, 0.0236, 0.0236, 0.0158,\n",
      "        0.0158, 0.0236, 0.0236], dtype=torch.float64)\n",
      "Epoch: 99, loss: 0.00046\n",
      "tensor([0.0165, 0.0173, 0.0173, 0.0173, 0.0173, 0.0173, 0.0173, 0.0173, 0.0173,\n",
      "        0.0173, 0.0173, 0.0173, 0.0173, 0.0173, 0.0173, 0.0173, 0.0173, 0.0173,\n",
      "        0.0173, 0.0173, 0.0173, 0.0173, 0.0173, 0.0173, 0.0173, 0.0173, 0.0173,\n",
      "        0.0173, 0.0173, 0.0278, 0.0324, 0.0342, 0.0333, 0.0314, 0.0299, 0.0291,\n",
      "        0.0187, 0.0142, 0.0125, 0.0185, 0.0225, 0.0249, 0.0253, 0.0297, 0.0365,\n",
      "        0.0393, 0.0344, 0.0307, 0.0334, 0.0350, 0.0311, 0.0239],\n",
      "       dtype=torch.float64, grad_fn=<CatBackward0>)\n",
      "tensor([0.0000, 0.0000, 0.0000, 0.0000, 0.0000, 0.0000, 0.0000, 0.0000, 0.0000,\n",
      "        0.0000, 0.0000, 0.0000, 0.0000, 0.0000, 0.0000, 0.0000, 0.0000, 0.0000,\n",
      "        0.0000, 0.0000, 0.0000, 0.0000, 0.0000, 0.0000, 0.0000, 0.0000, 0.0000,\n",
      "        0.0158, 0.0158, 0.0158, 0.0158, 0.0158, 0.0158, 0.0158, 0.0000, 0.0000,\n",
      "        0.0000, 0.0079, 0.0079, 0.0079, 0.0079, 0.0158, 0.0236, 0.0236, 0.0158,\n",
      "        0.0158, 0.0236, 0.0236, 0.0158, 0.0079, 0.0079, 0.0079],\n",
      "       dtype=torch.float64)\n",
      "Epoch: 99, loss: 0.00030\n",
      "tensor([0.0165, 0.0173, 0.0173, 0.0173, 0.0173, 0.0173, 0.0173, 0.0173, 0.0173,\n",
      "        0.0173, 0.0173, 0.0173, 0.0173, 0.0173, 0.0173, 0.0173, 0.0173, 0.0173,\n",
      "        0.0173, 0.0173, 0.0173, 0.0173, 0.0173, 0.0173, 0.0173, 0.0173, 0.0173,\n",
      "        0.0173, 0.0173, 0.0278, 0.0324, 0.0342, 0.0333, 0.0314, 0.0299, 0.0291,\n",
      "        0.0187, 0.0142, 0.0125, 0.0185, 0.0225, 0.0249, 0.0253, 0.0297, 0.0365,\n",
      "        0.0393, 0.0344, 0.0307, 0.0334, 0.0350, 0.0311, 0.0239, 0.0203, 0.0191,\n",
      "        0.0200, 0.0165], dtype=torch.float64, grad_fn=<CatBackward0>)\n",
      "tensor([0.0000, 0.0000, 0.0000, 0.0000, 0.0000, 0.0000, 0.0000, 0.0000, 0.0000,\n",
      "        0.0000, 0.0000, 0.0000, 0.0000, 0.0000, 0.0000, 0.0000, 0.0000, 0.0000,\n",
      "        0.0000, 0.0000, 0.0000, 0.0000, 0.0000, 0.0000, 0.0000, 0.0000, 0.0000,\n",
      "        0.0158, 0.0158, 0.0158, 0.0158, 0.0158, 0.0158, 0.0158, 0.0000, 0.0000,\n",
      "        0.0000, 0.0079, 0.0079, 0.0079, 0.0079, 0.0158, 0.0236, 0.0236, 0.0158,\n",
      "        0.0158, 0.0236, 0.0236, 0.0158, 0.0079, 0.0079, 0.0079, 0.0079, 0.0000,\n",
      "        0.0000, 0.0000], dtype=torch.float64)\n",
      "Epoch: 99, loss: 0.00013\n",
      "tensor([0.0165, 0.0173, 0.0173, 0.0173, 0.0173, 0.0173, 0.0173, 0.0173, 0.0173,\n",
      "        0.0173, 0.0173, 0.0173, 0.0173, 0.0173, 0.0173, 0.0173, 0.0173, 0.0173,\n",
      "        0.0173, 0.0173, 0.0173, 0.0173, 0.0173, 0.0173, 0.0173, 0.0173, 0.0173,\n",
      "        0.0173, 0.0173, 0.0278, 0.0324, 0.0342, 0.0333, 0.0314, 0.0299, 0.0291,\n",
      "        0.0187, 0.0142, 0.0125, 0.0185, 0.0225, 0.0249, 0.0253, 0.0297, 0.0365,\n",
      "        0.0393, 0.0344, 0.0307, 0.0334, 0.0350, 0.0311, 0.0239, 0.0203, 0.0191,\n",
      "        0.0200, 0.0165, 0.0154, 0.0149, 0.0153, 0.0214], dtype=torch.float64,\n",
      "       grad_fn=<CatBackward0>)\n",
      "tensor([0.0000, 0.0000, 0.0000, 0.0000, 0.0000, 0.0000, 0.0000, 0.0000, 0.0000,\n",
      "        0.0000, 0.0000, 0.0000, 0.0000, 0.0000, 0.0000, 0.0000, 0.0000, 0.0000,\n",
      "        0.0000, 0.0000, 0.0000, 0.0000, 0.0000, 0.0000, 0.0000, 0.0000, 0.0000,\n",
      "        0.0158, 0.0158, 0.0158, 0.0158, 0.0158, 0.0158, 0.0158, 0.0000, 0.0000,\n",
      "        0.0000, 0.0079, 0.0079, 0.0079, 0.0079, 0.0158, 0.0236, 0.0236, 0.0158,\n",
      "        0.0158, 0.0236, 0.0236, 0.0158, 0.0079, 0.0079, 0.0079, 0.0079, 0.0000,\n",
      "        0.0000, 0.0000, 0.0000, 0.0079, 0.0079, 0.0079], dtype=torch.float64)\n",
      "Epoch: 99, loss: 0.00029\n",
      "tensor([0.0165, 0.0173, 0.0173, 0.0173, 0.0173, 0.0173, 0.0173, 0.0173, 0.0173,\n",
      "        0.0173, 0.0173, 0.0173, 0.0173, 0.0173, 0.0173, 0.0173, 0.0173, 0.0173,\n",
      "        0.0173, 0.0173, 0.0173, 0.0173, 0.0173, 0.0173, 0.0173, 0.0173, 0.0173,\n",
      "        0.0173, 0.0173, 0.0278, 0.0324, 0.0342, 0.0333, 0.0314, 0.0299, 0.0291,\n",
      "        0.0187, 0.0142, 0.0125, 0.0185, 0.0225, 0.0249, 0.0253, 0.0297, 0.0365,\n",
      "        0.0393, 0.0344, 0.0307, 0.0334, 0.0350, 0.0311, 0.0239, 0.0203, 0.0191,\n",
      "        0.0200, 0.0165, 0.0154, 0.0149, 0.0153, 0.0214, 0.0244, 0.0257, 0.0253,\n",
      "        0.0244], dtype=torch.float64, grad_fn=<CatBackward0>)\n",
      "tensor([0.0000, 0.0000, 0.0000, 0.0000, 0.0000, 0.0000, 0.0000, 0.0000, 0.0000,\n",
      "        0.0000, 0.0000, 0.0000, 0.0000, 0.0000, 0.0000, 0.0000, 0.0000, 0.0000,\n",
      "        0.0000, 0.0000, 0.0000, 0.0000, 0.0000, 0.0000, 0.0000, 0.0000, 0.0000,\n",
      "        0.0158, 0.0158, 0.0158, 0.0158, 0.0158, 0.0158, 0.0158, 0.0000, 0.0000,\n",
      "        0.0000, 0.0079, 0.0079, 0.0079, 0.0079, 0.0158, 0.0236, 0.0236, 0.0158,\n",
      "        0.0158, 0.0236, 0.0236, 0.0158, 0.0079, 0.0079, 0.0079, 0.0079, 0.0000,\n",
      "        0.0000, 0.0000, 0.0000, 0.0079, 0.0079, 0.0079, 0.0079, 0.0079, 0.0079,\n",
      "        0.0079], dtype=torch.float64)\n",
      "Epoch: 99, loss: 0.00042\n",
      "tensor([0.0165, 0.0173, 0.0173, 0.0173, 0.0173, 0.0173, 0.0173, 0.0173, 0.0173,\n",
      "        0.0173, 0.0173, 0.0173, 0.0173, 0.0173, 0.0173, 0.0173, 0.0173, 0.0173,\n",
      "        0.0173, 0.0173, 0.0173, 0.0173, 0.0173, 0.0173, 0.0173, 0.0173, 0.0173,\n",
      "        0.0173, 0.0173, 0.0278, 0.0324, 0.0342, 0.0333, 0.0314, 0.0299, 0.0291,\n",
      "        0.0187, 0.0142, 0.0125, 0.0185, 0.0225, 0.0249, 0.0253, 0.0297, 0.0365,\n",
      "        0.0393, 0.0344, 0.0307, 0.0334, 0.0350, 0.0311, 0.0239, 0.0203, 0.0191,\n",
      "        0.0200, 0.0165, 0.0154, 0.0149, 0.0153, 0.0214, 0.0244, 0.0257, 0.0253,\n",
      "        0.0244, 0.0236, 0.0232, 0.0180, 0.0158], dtype=torch.float64,\n",
      "       grad_fn=<CatBackward0>)\n",
      "tensor([0.0000, 0.0000, 0.0000, 0.0000, 0.0000, 0.0000, 0.0000, 0.0000, 0.0000,\n",
      "        0.0000, 0.0000, 0.0000, 0.0000, 0.0000, 0.0000, 0.0000, 0.0000, 0.0000,\n",
      "        0.0000, 0.0000, 0.0000, 0.0000, 0.0000, 0.0000, 0.0000, 0.0000, 0.0000,\n",
      "        0.0158, 0.0158, 0.0158, 0.0158, 0.0158, 0.0158, 0.0158, 0.0000, 0.0000,\n",
      "        0.0000, 0.0079, 0.0079, 0.0079, 0.0079, 0.0158, 0.0236, 0.0236, 0.0158,\n",
      "        0.0158, 0.0236, 0.0236, 0.0158, 0.0079, 0.0079, 0.0079, 0.0079, 0.0000,\n",
      "        0.0000, 0.0000, 0.0000, 0.0079, 0.0079, 0.0079, 0.0079, 0.0079, 0.0079,\n",
      "        0.0079, 0.0000, 0.0000, 0.0000, 0.0000], dtype=torch.float64)\n",
      "Epoch: 99, loss: 0.00014\n",
      "tensor([0.0165, 0.0173, 0.0173, 0.0173, 0.0173, 0.0173, 0.0173, 0.0173, 0.0173,\n",
      "        0.0173, 0.0173, 0.0173, 0.0173, 0.0173, 0.0173, 0.0173, 0.0173, 0.0173,\n",
      "        0.0173, 0.0173, 0.0173, 0.0173, 0.0173, 0.0173, 0.0173, 0.0173, 0.0173,\n",
      "        0.0173, 0.0173, 0.0278, 0.0324, 0.0342, 0.0333, 0.0314, 0.0299, 0.0291,\n",
      "        0.0187, 0.0142, 0.0125, 0.0185, 0.0225, 0.0249, 0.0253, 0.0297, 0.0365,\n",
      "        0.0393, 0.0344, 0.0307, 0.0334, 0.0350, 0.0311, 0.0239, 0.0203, 0.0191,\n",
      "        0.0200, 0.0165, 0.0154, 0.0149, 0.0153, 0.0214, 0.0244, 0.0257, 0.0253,\n",
      "        0.0244, 0.0236, 0.0232, 0.0180, 0.0158, 0.0149, 0.0153, 0.0214, 0.0244],\n",
      "       dtype=torch.float64, grad_fn=<CatBackward0>)\n",
      "tensor([0.0000, 0.0000, 0.0000, 0.0000, 0.0000, 0.0000, 0.0000, 0.0000, 0.0000,\n",
      "        0.0000, 0.0000, 0.0000, 0.0000, 0.0000, 0.0000, 0.0000, 0.0000, 0.0000,\n",
      "        0.0000, 0.0000, 0.0000, 0.0000, 0.0000, 0.0000, 0.0000, 0.0000, 0.0000,\n",
      "        0.0158, 0.0158, 0.0158, 0.0158, 0.0158, 0.0158, 0.0158, 0.0000, 0.0000,\n",
      "        0.0000, 0.0079, 0.0079, 0.0079, 0.0079, 0.0158, 0.0236, 0.0236, 0.0158,\n",
      "        0.0158, 0.0236, 0.0236, 0.0158, 0.0079, 0.0079, 0.0079, 0.0079, 0.0000,\n",
      "        0.0000, 0.0000, 0.0000, 0.0079, 0.0079, 0.0079, 0.0079, 0.0079, 0.0079,\n",
      "        0.0079, 0.0000, 0.0000, 0.0000, 0.0000, 0.0079, 0.0079, 0.0079, 0.0079],\n",
      "       dtype=torch.float64)\n",
      "Epoch: 99, loss: 0.00036\n",
      "tensor([0.0165, 0.0173, 0.0173, 0.0173, 0.0173, 0.0173, 0.0173, 0.0173, 0.0173,\n",
      "        0.0173, 0.0173, 0.0173, 0.0173, 0.0173, 0.0173, 0.0173, 0.0173, 0.0173,\n",
      "        0.0173, 0.0173, 0.0173, 0.0173, 0.0173, 0.0173, 0.0173, 0.0173, 0.0173,\n",
      "        0.0173, 0.0173, 0.0278, 0.0324, 0.0342, 0.0333, 0.0314, 0.0299, 0.0291,\n",
      "        0.0187, 0.0142, 0.0125, 0.0185, 0.0225, 0.0249, 0.0253, 0.0297, 0.0365,\n",
      "        0.0393, 0.0344, 0.0307, 0.0334, 0.0350, 0.0311, 0.0239, 0.0203, 0.0191,\n",
      "        0.0200, 0.0165, 0.0154, 0.0149, 0.0153, 0.0214, 0.0244, 0.0257, 0.0253,\n",
      "        0.0244, 0.0236, 0.0232, 0.0180, 0.0158, 0.0149, 0.0153, 0.0214, 0.0244,\n",
      "        0.0257, 0.0253, 0.0244, 0.0236], dtype=torch.float64,\n",
      "       grad_fn=<CatBackward0>)\n",
      "tensor([0.0000, 0.0000, 0.0000, 0.0000, 0.0000, 0.0000, 0.0000, 0.0000, 0.0000,\n",
      "        0.0000, 0.0000, 0.0000, 0.0000, 0.0000, 0.0000, 0.0000, 0.0000, 0.0000,\n",
      "        0.0000, 0.0000, 0.0000, 0.0000, 0.0000, 0.0000, 0.0000, 0.0000, 0.0000,\n",
      "        0.0158, 0.0158, 0.0158, 0.0158, 0.0158, 0.0158, 0.0158, 0.0000, 0.0000,\n",
      "        0.0000, 0.0079, 0.0079, 0.0079, 0.0079, 0.0158, 0.0236, 0.0236, 0.0158,\n",
      "        0.0158, 0.0236, 0.0236, 0.0158, 0.0079, 0.0079, 0.0079, 0.0079, 0.0000,\n",
      "        0.0000, 0.0000, 0.0000, 0.0079, 0.0079, 0.0079, 0.0079, 0.0079, 0.0079,\n",
      "        0.0079, 0.0000, 0.0000, 0.0000, 0.0000, 0.0079, 0.0079, 0.0079, 0.0079,\n",
      "        0.0079, 0.0079, 0.0079, 0.0000], dtype=torch.float64)\n",
      "Epoch: 99, loss: 0.00033\n",
      "tensor([0.0165, 0.0173, 0.0173, 0.0173, 0.0173, 0.0173, 0.0173, 0.0173, 0.0173,\n",
      "        0.0173, 0.0173, 0.0173, 0.0173, 0.0173, 0.0173, 0.0173, 0.0173, 0.0173,\n",
      "        0.0173, 0.0173, 0.0173, 0.0173, 0.0173, 0.0173, 0.0173, 0.0173, 0.0173,\n",
      "        0.0173, 0.0173, 0.0278, 0.0324, 0.0342, 0.0333, 0.0314, 0.0299, 0.0291,\n",
      "        0.0187, 0.0142, 0.0125, 0.0185, 0.0225, 0.0249, 0.0253, 0.0297, 0.0365,\n",
      "        0.0393, 0.0344, 0.0307, 0.0334, 0.0350, 0.0311, 0.0239, 0.0203, 0.0191,\n",
      "        0.0200, 0.0165, 0.0154, 0.0149, 0.0153, 0.0214, 0.0244, 0.0257, 0.0253,\n",
      "        0.0244, 0.0236, 0.0232, 0.0180, 0.0158, 0.0149, 0.0153, 0.0214, 0.0244,\n",
      "        0.0257, 0.0253, 0.0244, 0.0236, 0.0232, 0.0180, 0.0158, 0.0149],\n",
      "       dtype=torch.float64, grad_fn=<CatBackward0>)\n",
      "tensor([0.0000, 0.0000, 0.0000, 0.0000, 0.0000, 0.0000, 0.0000, 0.0000, 0.0000,\n",
      "        0.0000, 0.0000, 0.0000, 0.0000, 0.0000, 0.0000, 0.0000, 0.0000, 0.0000,\n",
      "        0.0000, 0.0000, 0.0000, 0.0000, 0.0000, 0.0000, 0.0000, 0.0000, 0.0000,\n",
      "        0.0158, 0.0158, 0.0158, 0.0158, 0.0158, 0.0158, 0.0158, 0.0000, 0.0000,\n",
      "        0.0000, 0.0079, 0.0079, 0.0079, 0.0079, 0.0158, 0.0236, 0.0236, 0.0158,\n",
      "        0.0158, 0.0236, 0.0236, 0.0158, 0.0079, 0.0079, 0.0079, 0.0079, 0.0000,\n",
      "        0.0000, 0.0000, 0.0000, 0.0079, 0.0079, 0.0079, 0.0079, 0.0079, 0.0079,\n",
      "        0.0079, 0.0000, 0.0000, 0.0000, 0.0000, 0.0079, 0.0079, 0.0079, 0.0079,\n",
      "        0.0079, 0.0079, 0.0079, 0.0000, 0.0000, 0.0000, 0.0000, 0.0000],\n",
      "       dtype=torch.float64)\n",
      "Epoch: 99, loss: 0.00027\n",
      "tensor([0.0165, 0.0173, 0.0173, 0.0173, 0.0173, 0.0173, 0.0173, 0.0173, 0.0173,\n",
      "        0.0173, 0.0173, 0.0173, 0.0173, 0.0173, 0.0173, 0.0173, 0.0173, 0.0173,\n",
      "        0.0173, 0.0173, 0.0173, 0.0173, 0.0173, 0.0173, 0.0173, 0.0173, 0.0173,\n",
      "        0.0173, 0.0173, 0.0278, 0.0324, 0.0342, 0.0333, 0.0314, 0.0299, 0.0291,\n",
      "        0.0187, 0.0142, 0.0125, 0.0185, 0.0225, 0.0249, 0.0253, 0.0297, 0.0365,\n",
      "        0.0393, 0.0344, 0.0307, 0.0334, 0.0350, 0.0311, 0.0239, 0.0203, 0.0191,\n",
      "        0.0200, 0.0165, 0.0154, 0.0149, 0.0153, 0.0214, 0.0244, 0.0257, 0.0253,\n",
      "        0.0244, 0.0236, 0.0232, 0.0180, 0.0158, 0.0149, 0.0153, 0.0214, 0.0244,\n",
      "        0.0257, 0.0253, 0.0244, 0.0236, 0.0232, 0.0180, 0.0158, 0.0149, 0.0153,\n",
      "        0.0162, 0.0169, 0.0173], dtype=torch.float64, grad_fn=<CatBackward0>)\n",
      "tensor([0.0000, 0.0000, 0.0000, 0.0000, 0.0000, 0.0000, 0.0000, 0.0000, 0.0000,\n",
      "        0.0000, 0.0000, 0.0000, 0.0000, 0.0000, 0.0000, 0.0000, 0.0000, 0.0000,\n",
      "        0.0000, 0.0000, 0.0000, 0.0000, 0.0000, 0.0000, 0.0000, 0.0000, 0.0000,\n",
      "        0.0158, 0.0158, 0.0158, 0.0158, 0.0158, 0.0158, 0.0158, 0.0000, 0.0000,\n",
      "        0.0000, 0.0079, 0.0079, 0.0079, 0.0079, 0.0158, 0.0236, 0.0236, 0.0158,\n",
      "        0.0158, 0.0236, 0.0236, 0.0158, 0.0079, 0.0079, 0.0079, 0.0079, 0.0000,\n",
      "        0.0000, 0.0000, 0.0000, 0.0079, 0.0079, 0.0079, 0.0079, 0.0079, 0.0079,\n",
      "        0.0079, 0.0000, 0.0000, 0.0000, 0.0000, 0.0079, 0.0079, 0.0079, 0.0079,\n",
      "        0.0079, 0.0079, 0.0079, 0.0000, 0.0000, 0.0000, 0.0000, 0.0000, 0.0000,\n",
      "        0.0000, 0.0000, 0.0000], dtype=torch.float64)\n",
      "Epoch: 99, loss: 0.00030\n",
      "tensor([0.0165, 0.0173, 0.0173, 0.0173, 0.0173, 0.0173, 0.0173, 0.0173, 0.0173,\n",
      "        0.0173, 0.0173, 0.0173, 0.0173, 0.0173, 0.0173, 0.0173, 0.0173, 0.0173,\n",
      "        0.0173, 0.0173, 0.0173, 0.0173, 0.0173, 0.0173, 0.0173, 0.0173, 0.0173,\n",
      "        0.0173, 0.0173, 0.0278, 0.0324, 0.0342, 0.0333, 0.0314, 0.0299, 0.0291,\n",
      "        0.0187, 0.0142, 0.0125, 0.0185, 0.0225, 0.0249, 0.0253, 0.0297, 0.0365,\n",
      "        0.0393, 0.0344, 0.0307, 0.0334, 0.0350, 0.0311, 0.0239, 0.0203, 0.0191,\n",
      "        0.0200, 0.0165, 0.0154, 0.0149, 0.0153, 0.0214, 0.0244, 0.0257, 0.0253,\n",
      "        0.0244, 0.0236, 0.0232, 0.0180, 0.0158, 0.0149, 0.0153, 0.0214, 0.0244,\n",
      "        0.0257, 0.0253, 0.0244, 0.0236, 0.0232, 0.0180, 0.0158, 0.0149, 0.0153,\n",
      "        0.0162, 0.0169, 0.0173, 0.0173, 0.0173, 0.0173, 0.0173],\n",
      "       dtype=torch.float64, grad_fn=<CatBackward0>)\n",
      "tensor([0.0000, 0.0000, 0.0000, 0.0000, 0.0000, 0.0000, 0.0000, 0.0000, 0.0000,\n",
      "        0.0000, 0.0000, 0.0000, 0.0000, 0.0000, 0.0000, 0.0000, 0.0000, 0.0000,\n",
      "        0.0000, 0.0000, 0.0000, 0.0000, 0.0000, 0.0000, 0.0000, 0.0000, 0.0000,\n",
      "        0.0158, 0.0158, 0.0158, 0.0158, 0.0158, 0.0158, 0.0158, 0.0000, 0.0000,\n",
      "        0.0000, 0.0079, 0.0079, 0.0079, 0.0079, 0.0158, 0.0236, 0.0236, 0.0158,\n",
      "        0.0158, 0.0236, 0.0236, 0.0158, 0.0079, 0.0079, 0.0079, 0.0079, 0.0000,\n",
      "        0.0000, 0.0000, 0.0000, 0.0079, 0.0079, 0.0079, 0.0079, 0.0079, 0.0079,\n",
      "        0.0079, 0.0000, 0.0000, 0.0000, 0.0000, 0.0079, 0.0079, 0.0079, 0.0079,\n",
      "        0.0079, 0.0079, 0.0079, 0.0000, 0.0000, 0.0000, 0.0000, 0.0000, 0.0000,\n",
      "        0.0000, 0.0000, 0.0000, 0.0000, 0.0000, 0.0000, 0.0000],\n",
      "       dtype=torch.float64)\n",
      "Epoch: 99, loss: 0.00011\n",
      "tensor([0.0165, 0.0173, 0.0173, 0.0173, 0.0173, 0.0173, 0.0173, 0.0173, 0.0173,\n",
      "        0.0173, 0.0173, 0.0173, 0.0173, 0.0173, 0.0173, 0.0173, 0.0173, 0.0173,\n",
      "        0.0173, 0.0173, 0.0173, 0.0173, 0.0173, 0.0173, 0.0173, 0.0173, 0.0173,\n",
      "        0.0173, 0.0173, 0.0278, 0.0324, 0.0342, 0.0333, 0.0314, 0.0299, 0.0291,\n",
      "        0.0187, 0.0142, 0.0125, 0.0185, 0.0225, 0.0249, 0.0253, 0.0297, 0.0365,\n",
      "        0.0393, 0.0344, 0.0307, 0.0334, 0.0350, 0.0311, 0.0239, 0.0203, 0.0191,\n",
      "        0.0200, 0.0165, 0.0154, 0.0149, 0.0153, 0.0214, 0.0244, 0.0257, 0.0253,\n",
      "        0.0244, 0.0236, 0.0232, 0.0180, 0.0158, 0.0149, 0.0153, 0.0214, 0.0244,\n",
      "        0.0257, 0.0253, 0.0244, 0.0236, 0.0232, 0.0180, 0.0158, 0.0149, 0.0153,\n",
      "        0.0162, 0.0169, 0.0173, 0.0173, 0.0173, 0.0173, 0.0173, 0.0173, 0.0173,\n",
      "        0.0278, 0.0324], dtype=torch.float64, grad_fn=<CatBackward0>)\n",
      "tensor([0.0000, 0.0000, 0.0000, 0.0000, 0.0000, 0.0000, 0.0000, 0.0000, 0.0000,\n",
      "        0.0000, 0.0000, 0.0000, 0.0000, 0.0000, 0.0000, 0.0000, 0.0000, 0.0000,\n",
      "        0.0000, 0.0000, 0.0000, 0.0000, 0.0000, 0.0000, 0.0000, 0.0000, 0.0000,\n",
      "        0.0158, 0.0158, 0.0158, 0.0158, 0.0158, 0.0158, 0.0158, 0.0000, 0.0000,\n",
      "        0.0000, 0.0079, 0.0079, 0.0079, 0.0079, 0.0158, 0.0236, 0.0236, 0.0158,\n",
      "        0.0158, 0.0236, 0.0236, 0.0158, 0.0079, 0.0079, 0.0079, 0.0079, 0.0000,\n",
      "        0.0000, 0.0000, 0.0000, 0.0079, 0.0079, 0.0079, 0.0079, 0.0079, 0.0079,\n",
      "        0.0079, 0.0000, 0.0000, 0.0000, 0.0000, 0.0079, 0.0079, 0.0079, 0.0079,\n",
      "        0.0079, 0.0079, 0.0079, 0.0000, 0.0000, 0.0000, 0.0000, 0.0000, 0.0000,\n",
      "        0.0000, 0.0000, 0.0000, 0.0000, 0.0000, 0.0000, 0.0000, 0.0158, 0.0158,\n",
      "        0.0158, 0.0158], dtype=torch.float64)\n",
      "Epoch: 99, loss: 0.00045\n",
      "tensor([0.0165, 0.0173, 0.0173, 0.0173, 0.0173, 0.0173, 0.0173, 0.0173, 0.0173,\n",
      "        0.0173, 0.0173, 0.0173, 0.0173, 0.0173, 0.0173, 0.0173, 0.0173, 0.0173,\n",
      "        0.0173, 0.0173, 0.0173, 0.0173, 0.0173, 0.0173, 0.0173, 0.0173, 0.0173,\n",
      "        0.0173, 0.0173, 0.0278, 0.0324, 0.0342, 0.0333, 0.0314, 0.0299, 0.0291,\n",
      "        0.0187, 0.0142, 0.0125, 0.0185, 0.0225, 0.0249, 0.0253, 0.0297, 0.0365,\n",
      "        0.0393, 0.0344, 0.0307, 0.0334, 0.0350, 0.0311, 0.0239, 0.0203, 0.0191,\n",
      "        0.0200, 0.0165, 0.0154, 0.0149, 0.0153, 0.0214, 0.0244, 0.0257, 0.0253,\n",
      "        0.0244, 0.0236, 0.0232, 0.0180, 0.0158, 0.0149, 0.0153, 0.0214, 0.0244,\n",
      "        0.0257, 0.0253, 0.0244, 0.0236, 0.0232, 0.0180, 0.0158, 0.0149, 0.0153,\n",
      "        0.0162, 0.0169, 0.0173, 0.0173, 0.0173, 0.0173, 0.0173, 0.0173, 0.0173,\n",
      "        0.0278, 0.0324, 0.0342, 0.0333, 0.0314, 0.0299], dtype=torch.float64,\n",
      "       grad_fn=<CatBackward0>)\n",
      "tensor([0.0000, 0.0000, 0.0000, 0.0000, 0.0000, 0.0000, 0.0000, 0.0000, 0.0000,\n",
      "        0.0000, 0.0000, 0.0000, 0.0000, 0.0000, 0.0000, 0.0000, 0.0000, 0.0000,\n",
      "        0.0000, 0.0000, 0.0000, 0.0000, 0.0000, 0.0000, 0.0000, 0.0000, 0.0000,\n",
      "        0.0158, 0.0158, 0.0158, 0.0158, 0.0158, 0.0158, 0.0158, 0.0000, 0.0000,\n",
      "        0.0000, 0.0079, 0.0079, 0.0079, 0.0079, 0.0158, 0.0236, 0.0236, 0.0158,\n",
      "        0.0158, 0.0236, 0.0236, 0.0158, 0.0079, 0.0079, 0.0079, 0.0079, 0.0000,\n",
      "        0.0000, 0.0000, 0.0000, 0.0079, 0.0079, 0.0079, 0.0079, 0.0079, 0.0079,\n",
      "        0.0079, 0.0000, 0.0000, 0.0000, 0.0000, 0.0079, 0.0079, 0.0079, 0.0079,\n",
      "        0.0079, 0.0079, 0.0079, 0.0000, 0.0000, 0.0000, 0.0000, 0.0000, 0.0000,\n",
      "        0.0000, 0.0000, 0.0000, 0.0000, 0.0000, 0.0000, 0.0000, 0.0158, 0.0158,\n",
      "        0.0158, 0.0158, 0.0158, 0.0158, 0.0158, 0.0000], dtype=torch.float64)\n",
      "Epoch: 99, loss: 0.00021\n",
      "tensor([0.0165, 0.0173, 0.0173, 0.0173, 0.0173, 0.0173, 0.0173, 0.0173, 0.0173,\n",
      "        0.0173, 0.0173, 0.0173, 0.0173, 0.0173, 0.0173, 0.0173, 0.0173, 0.0173,\n",
      "        0.0173, 0.0173, 0.0173, 0.0173, 0.0173, 0.0173, 0.0173, 0.0173, 0.0173,\n",
      "        0.0173, 0.0173, 0.0278, 0.0324, 0.0342, 0.0333, 0.0314, 0.0299, 0.0291,\n",
      "        0.0187, 0.0142, 0.0125, 0.0185, 0.0225, 0.0249, 0.0253, 0.0297, 0.0365,\n",
      "        0.0393, 0.0344, 0.0307, 0.0334, 0.0350, 0.0311, 0.0239, 0.0203, 0.0191,\n",
      "        0.0200, 0.0165, 0.0154, 0.0149, 0.0153, 0.0214, 0.0244, 0.0257, 0.0253,\n",
      "        0.0244, 0.0236, 0.0232, 0.0180, 0.0158, 0.0149, 0.0153, 0.0214, 0.0244,\n",
      "        0.0257, 0.0253, 0.0244, 0.0236, 0.0232, 0.0180, 0.0158, 0.0149, 0.0153,\n",
      "        0.0162, 0.0169, 0.0173, 0.0173, 0.0173, 0.0173, 0.0173, 0.0173, 0.0173,\n",
      "        0.0278, 0.0324, 0.0342, 0.0333, 0.0314, 0.0299, 0.0291, 0.0187, 0.0194,\n",
      "        0.0199], dtype=torch.float64, grad_fn=<CatBackward0>)\n",
      "tensor([0.0000, 0.0000, 0.0000, 0.0000, 0.0000, 0.0000, 0.0000, 0.0000, 0.0000,\n",
      "        0.0000, 0.0000, 0.0000, 0.0000, 0.0000, 0.0000, 0.0000, 0.0000, 0.0000,\n",
      "        0.0000, 0.0000, 0.0000, 0.0000, 0.0000, 0.0000, 0.0000, 0.0000, 0.0000,\n",
      "        0.0158, 0.0158, 0.0158, 0.0158, 0.0158, 0.0158, 0.0158, 0.0000, 0.0000,\n",
      "        0.0000, 0.0079, 0.0079, 0.0079, 0.0079, 0.0158, 0.0236, 0.0236, 0.0158,\n",
      "        0.0158, 0.0236, 0.0236, 0.0158, 0.0079, 0.0079, 0.0079, 0.0079, 0.0000,\n",
      "        0.0000, 0.0000, 0.0000, 0.0079, 0.0079, 0.0079, 0.0079, 0.0079, 0.0079,\n",
      "        0.0079, 0.0000, 0.0000, 0.0000, 0.0000, 0.0079, 0.0079, 0.0079, 0.0079,\n",
      "        0.0079, 0.0079, 0.0079, 0.0000, 0.0000, 0.0000, 0.0000, 0.0000, 0.0000,\n",
      "        0.0000, 0.0000, 0.0000, 0.0000, 0.0000, 0.0000, 0.0000, 0.0158, 0.0158,\n",
      "        0.0158, 0.0158, 0.0158, 0.0158, 0.0158, 0.0000, 0.0079, 0.0079, 0.0079,\n",
      "        0.0079], dtype=torch.float64)\n",
      "Epoch: 99, loss: 0.00031\n",
      "tensor([0.0165, 0.0173, 0.0173, 0.0173, 0.0173, 0.0173, 0.0173, 0.0173, 0.0173,\n",
      "        0.0173, 0.0173, 0.0173, 0.0173, 0.0173, 0.0173, 0.0173, 0.0173, 0.0173,\n",
      "        0.0173, 0.0173, 0.0173, 0.0173, 0.0173, 0.0173, 0.0173, 0.0173, 0.0173,\n",
      "        0.0173, 0.0173, 0.0278, 0.0324, 0.0342, 0.0333, 0.0314, 0.0299, 0.0291,\n",
      "        0.0187, 0.0142, 0.0125, 0.0185, 0.0225, 0.0249, 0.0253, 0.0297, 0.0365,\n",
      "        0.0393, 0.0344, 0.0307, 0.0334, 0.0350, 0.0311, 0.0239, 0.0203, 0.0191,\n",
      "        0.0200, 0.0165, 0.0154, 0.0149, 0.0153, 0.0214, 0.0244, 0.0257, 0.0253,\n",
      "        0.0244, 0.0236, 0.0232, 0.0180, 0.0158, 0.0149, 0.0153, 0.0214, 0.0244,\n",
      "        0.0257, 0.0253, 0.0244, 0.0236, 0.0232, 0.0180, 0.0158, 0.0149, 0.0153,\n",
      "        0.0162, 0.0169, 0.0173, 0.0173, 0.0173, 0.0173, 0.0173, 0.0173, 0.0173,\n",
      "        0.0278, 0.0324, 0.0342, 0.0333, 0.0314, 0.0299, 0.0291, 0.0187, 0.0194,\n",
      "        0.0199, 0.0216, 0.0230, 0.0236, 0.0236], dtype=torch.float64,\n",
      "       grad_fn=<CatBackward0>)\n",
      "tensor([0.0000, 0.0000, 0.0000, 0.0000, 0.0000, 0.0000, 0.0000, 0.0000, 0.0000,\n",
      "        0.0000, 0.0000, 0.0000, 0.0000, 0.0000, 0.0000, 0.0000, 0.0000, 0.0000,\n",
      "        0.0000, 0.0000, 0.0000, 0.0000, 0.0000, 0.0000, 0.0000, 0.0000, 0.0000,\n",
      "        0.0158, 0.0158, 0.0158, 0.0158, 0.0158, 0.0158, 0.0158, 0.0000, 0.0000,\n",
      "        0.0000, 0.0079, 0.0079, 0.0079, 0.0079, 0.0158, 0.0236, 0.0236, 0.0158,\n",
      "        0.0158, 0.0236, 0.0236, 0.0158, 0.0079, 0.0079, 0.0079, 0.0079, 0.0000,\n",
      "        0.0000, 0.0000, 0.0000, 0.0079, 0.0079, 0.0079, 0.0079, 0.0079, 0.0079,\n",
      "        0.0079, 0.0000, 0.0000, 0.0000, 0.0000, 0.0079, 0.0079, 0.0079, 0.0079,\n",
      "        0.0079, 0.0079, 0.0079, 0.0000, 0.0000, 0.0000, 0.0000, 0.0000, 0.0000,\n",
      "        0.0000, 0.0000, 0.0000, 0.0000, 0.0000, 0.0000, 0.0000, 0.0158, 0.0158,\n",
      "        0.0158, 0.0158, 0.0158, 0.0158, 0.0158, 0.0000, 0.0079, 0.0079, 0.0079,\n",
      "        0.0079, 0.0079, 0.0079, 0.0079, 0.0000], dtype=torch.float64)\n",
      "Epoch: 99, loss: 0.00033\n",
      "tensor([0.0165, 0.0173, 0.0173, 0.0173, 0.0173, 0.0173, 0.0173, 0.0173, 0.0173,\n",
      "        0.0173, 0.0173, 0.0173, 0.0173, 0.0173, 0.0173, 0.0173, 0.0173, 0.0173,\n",
      "        0.0173, 0.0173, 0.0173, 0.0173, 0.0173, 0.0173, 0.0173, 0.0173, 0.0173,\n",
      "        0.0173, 0.0173, 0.0278, 0.0324, 0.0342, 0.0333, 0.0314, 0.0299, 0.0291,\n",
      "        0.0187, 0.0142, 0.0125, 0.0185, 0.0225, 0.0249, 0.0253, 0.0297, 0.0365,\n",
      "        0.0393, 0.0344, 0.0307, 0.0334, 0.0350, 0.0311, 0.0239, 0.0203, 0.0191,\n",
      "        0.0200, 0.0165, 0.0154, 0.0149, 0.0153, 0.0214, 0.0244, 0.0257, 0.0253,\n",
      "        0.0244, 0.0236, 0.0232, 0.0180, 0.0158, 0.0149, 0.0153, 0.0214, 0.0244,\n",
      "        0.0257, 0.0253, 0.0244, 0.0236, 0.0232, 0.0180, 0.0158, 0.0149, 0.0153,\n",
      "        0.0162, 0.0169, 0.0173, 0.0173, 0.0173, 0.0173, 0.0173, 0.0173, 0.0173,\n",
      "        0.0278, 0.0324, 0.0342, 0.0333, 0.0314, 0.0299, 0.0291, 0.0187, 0.0194,\n",
      "        0.0199, 0.0216, 0.0230, 0.0236, 0.0236, 0.0232, 0.0180, 0.0158, 0.0149],\n",
      "       dtype=torch.float64, grad_fn=<CatBackward0>)\n",
      "tensor([0.0000, 0.0000, 0.0000, 0.0000, 0.0000, 0.0000, 0.0000, 0.0000, 0.0000,\n",
      "        0.0000, 0.0000, 0.0000, 0.0000, 0.0000, 0.0000, 0.0000, 0.0000, 0.0000,\n",
      "        0.0000, 0.0000, 0.0000, 0.0000, 0.0000, 0.0000, 0.0000, 0.0000, 0.0000,\n",
      "        0.0158, 0.0158, 0.0158, 0.0158, 0.0158, 0.0158, 0.0158, 0.0000, 0.0000,\n",
      "        0.0000, 0.0079, 0.0079, 0.0079, 0.0079, 0.0158, 0.0236, 0.0236, 0.0158,\n",
      "        0.0158, 0.0236, 0.0236, 0.0158, 0.0079, 0.0079, 0.0079, 0.0079, 0.0000,\n",
      "        0.0000, 0.0000, 0.0000, 0.0079, 0.0079, 0.0079, 0.0079, 0.0079, 0.0079,\n",
      "        0.0079, 0.0000, 0.0000, 0.0000, 0.0000, 0.0079, 0.0079, 0.0079, 0.0079,\n",
      "        0.0079, 0.0079, 0.0079, 0.0000, 0.0000, 0.0000, 0.0000, 0.0000, 0.0000,\n",
      "        0.0000, 0.0000, 0.0000, 0.0000, 0.0000, 0.0000, 0.0000, 0.0158, 0.0158,\n",
      "        0.0158, 0.0158, 0.0158, 0.0158, 0.0158, 0.0000, 0.0079, 0.0079, 0.0079,\n",
      "        0.0079, 0.0079, 0.0079, 0.0079, 0.0000, 0.0000, 0.0000, 0.0000, 0.0000],\n",
      "       dtype=torch.float64)\n",
      "Epoch: 99, loss: 0.00027\n",
      "tensor([0.0165, 0.0173, 0.0173, 0.0173, 0.0173, 0.0173, 0.0173, 0.0173, 0.0173,\n",
      "        0.0173, 0.0173, 0.0173, 0.0173, 0.0173, 0.0173, 0.0173, 0.0173, 0.0173,\n",
      "        0.0173, 0.0173, 0.0173, 0.0173, 0.0173, 0.0173, 0.0173, 0.0173, 0.0173,\n",
      "        0.0173, 0.0173, 0.0278, 0.0324, 0.0342, 0.0333, 0.0314, 0.0299, 0.0291,\n",
      "        0.0187, 0.0142, 0.0125, 0.0185, 0.0225, 0.0249, 0.0253, 0.0297, 0.0365,\n",
      "        0.0393, 0.0344, 0.0307, 0.0334, 0.0350, 0.0311, 0.0239, 0.0203, 0.0191,\n",
      "        0.0200, 0.0165, 0.0154, 0.0149, 0.0153, 0.0214, 0.0244, 0.0257, 0.0253,\n",
      "        0.0244, 0.0236, 0.0232, 0.0180, 0.0158, 0.0149, 0.0153, 0.0214, 0.0244,\n",
      "        0.0257, 0.0253, 0.0244, 0.0236, 0.0232, 0.0180, 0.0158, 0.0149, 0.0153,\n",
      "        0.0162, 0.0169, 0.0173, 0.0173, 0.0173, 0.0173, 0.0173, 0.0173, 0.0173,\n",
      "        0.0278, 0.0324, 0.0342, 0.0333, 0.0314, 0.0299, 0.0291, 0.0187, 0.0194,\n",
      "        0.0199, 0.0216, 0.0230, 0.0236, 0.0236, 0.0232, 0.0180, 0.0158, 0.0149,\n",
      "        0.0153, 0.0162, 0.0169, 0.0173], dtype=torch.float64,\n",
      "       grad_fn=<CatBackward0>)\n",
      "tensor([0.0000, 0.0000, 0.0000, 0.0000, 0.0000, 0.0000, 0.0000, 0.0000, 0.0000,\n",
      "        0.0000, 0.0000, 0.0000, 0.0000, 0.0000, 0.0000, 0.0000, 0.0000, 0.0000,\n",
      "        0.0000, 0.0000, 0.0000, 0.0000, 0.0000, 0.0000, 0.0000, 0.0000, 0.0000,\n",
      "        0.0158, 0.0158, 0.0158, 0.0158, 0.0158, 0.0158, 0.0158, 0.0000, 0.0000,\n",
      "        0.0000, 0.0079, 0.0079, 0.0079, 0.0079, 0.0158, 0.0236, 0.0236, 0.0158,\n",
      "        0.0158, 0.0236, 0.0236, 0.0158, 0.0079, 0.0079, 0.0079, 0.0079, 0.0000,\n",
      "        0.0000, 0.0000, 0.0000, 0.0079, 0.0079, 0.0079, 0.0079, 0.0079, 0.0079,\n",
      "        0.0079, 0.0000, 0.0000, 0.0000, 0.0000, 0.0079, 0.0079, 0.0079, 0.0079,\n",
      "        0.0079, 0.0079, 0.0079, 0.0000, 0.0000, 0.0000, 0.0000, 0.0000, 0.0000,\n",
      "        0.0000, 0.0000, 0.0000, 0.0000, 0.0000, 0.0000, 0.0000, 0.0158, 0.0158,\n",
      "        0.0158, 0.0158, 0.0158, 0.0158, 0.0158, 0.0000, 0.0079, 0.0079, 0.0079,\n",
      "        0.0079, 0.0079, 0.0079, 0.0079, 0.0000, 0.0000, 0.0000, 0.0000, 0.0000,\n",
      "        0.0000, 0.0000, 0.0000, 0.0000], dtype=torch.float64)\n",
      "Epoch: 99, loss: 0.00030\n",
      "tensor([0.0165, 0.0173, 0.0173, 0.0173, 0.0173, 0.0173, 0.0173, 0.0173, 0.0173,\n",
      "        0.0173, 0.0173, 0.0173, 0.0173, 0.0173, 0.0173, 0.0173, 0.0173, 0.0173,\n",
      "        0.0173, 0.0173, 0.0173, 0.0173, 0.0173, 0.0173, 0.0173, 0.0173, 0.0173,\n",
      "        0.0173, 0.0173, 0.0278, 0.0324, 0.0342, 0.0333, 0.0314, 0.0299, 0.0291,\n",
      "        0.0187, 0.0142, 0.0125, 0.0185, 0.0225, 0.0249, 0.0253, 0.0297, 0.0365,\n",
      "        0.0393, 0.0344, 0.0307, 0.0334, 0.0350, 0.0311, 0.0239, 0.0203, 0.0191,\n",
      "        0.0200, 0.0165, 0.0154, 0.0149, 0.0153, 0.0214, 0.0244, 0.0257, 0.0253,\n",
      "        0.0244, 0.0236, 0.0232, 0.0180, 0.0158, 0.0149, 0.0153, 0.0214, 0.0244,\n",
      "        0.0257, 0.0253, 0.0244, 0.0236, 0.0232, 0.0180, 0.0158, 0.0149, 0.0153,\n",
      "        0.0162, 0.0169, 0.0173, 0.0173, 0.0173, 0.0173, 0.0173, 0.0173, 0.0173,\n",
      "        0.0278, 0.0324, 0.0342, 0.0333, 0.0314, 0.0299, 0.0291, 0.0187, 0.0194,\n",
      "        0.0199, 0.0216, 0.0230, 0.0236, 0.0236, 0.0232, 0.0180, 0.0158, 0.0149,\n",
      "        0.0153, 0.0162, 0.0169, 0.0173, 0.0173, 0.0173, 0.0173, 0.0173],\n",
      "       dtype=torch.float64, grad_fn=<CatBackward0>)\n",
      "tensor([0.0000, 0.0000, 0.0000, 0.0000, 0.0000, 0.0000, 0.0000, 0.0000, 0.0000,\n",
      "        0.0000, 0.0000, 0.0000, 0.0000, 0.0000, 0.0000, 0.0000, 0.0000, 0.0000,\n",
      "        0.0000, 0.0000, 0.0000, 0.0000, 0.0000, 0.0000, 0.0000, 0.0000, 0.0000,\n",
      "        0.0158, 0.0158, 0.0158, 0.0158, 0.0158, 0.0158, 0.0158, 0.0000, 0.0000,\n",
      "        0.0000, 0.0079, 0.0079, 0.0079, 0.0079, 0.0158, 0.0236, 0.0236, 0.0158,\n",
      "        0.0158, 0.0236, 0.0236, 0.0158, 0.0079, 0.0079, 0.0079, 0.0079, 0.0000,\n",
      "        0.0000, 0.0000, 0.0000, 0.0079, 0.0079, 0.0079, 0.0079, 0.0079, 0.0079,\n",
      "        0.0079, 0.0000, 0.0000, 0.0000, 0.0000, 0.0079, 0.0079, 0.0079, 0.0079,\n",
      "        0.0079, 0.0079, 0.0079, 0.0000, 0.0000, 0.0000, 0.0000, 0.0000, 0.0000,\n",
      "        0.0000, 0.0000, 0.0000, 0.0000, 0.0000, 0.0000, 0.0000, 0.0158, 0.0158,\n",
      "        0.0158, 0.0158, 0.0158, 0.0158, 0.0158, 0.0000, 0.0079, 0.0079, 0.0079,\n",
      "        0.0079, 0.0079, 0.0079, 0.0079, 0.0000, 0.0000, 0.0000, 0.0000, 0.0000,\n",
      "        0.0000, 0.0000, 0.0000, 0.0000, 0.0000, 0.0000, 0.0000, 0.0000],\n",
      "       dtype=torch.float64)\n",
      "Epoch: 99, loss: 0.00030\n",
      "tensor([0.0165, 0.0173, 0.0173, 0.0173, 0.0173, 0.0173, 0.0173, 0.0173, 0.0173,\n",
      "        0.0173, 0.0173, 0.0173, 0.0173, 0.0173, 0.0173, 0.0173, 0.0173, 0.0173,\n",
      "        0.0173, 0.0173, 0.0173, 0.0173, 0.0173, 0.0173, 0.0173, 0.0173, 0.0173,\n",
      "        0.0173, 0.0173, 0.0278, 0.0324, 0.0342, 0.0333, 0.0314, 0.0299, 0.0291,\n",
      "        0.0187, 0.0142, 0.0125, 0.0185, 0.0225, 0.0249, 0.0253, 0.0297, 0.0365,\n",
      "        0.0393, 0.0344, 0.0307, 0.0334, 0.0350, 0.0311, 0.0239, 0.0203, 0.0191,\n",
      "        0.0200, 0.0165, 0.0154, 0.0149, 0.0153, 0.0214, 0.0244, 0.0257, 0.0253,\n",
      "        0.0244, 0.0236, 0.0232, 0.0180, 0.0158, 0.0149, 0.0153, 0.0214, 0.0244,\n",
      "        0.0257, 0.0253, 0.0244, 0.0236, 0.0232, 0.0180, 0.0158, 0.0149, 0.0153,\n",
      "        0.0162, 0.0169, 0.0173, 0.0173, 0.0173, 0.0173, 0.0173, 0.0173, 0.0173,\n",
      "        0.0278, 0.0324, 0.0342, 0.0333, 0.0314, 0.0299, 0.0291, 0.0187, 0.0194,\n",
      "        0.0199, 0.0216, 0.0230, 0.0236, 0.0236, 0.0232, 0.0180, 0.0158, 0.0149,\n",
      "        0.0153, 0.0162, 0.0169, 0.0173, 0.0173, 0.0173, 0.0173, 0.0173, 0.0173,\n",
      "        0.0173, 0.0173, 0.0173], dtype=torch.float64, grad_fn=<CatBackward0>)\n",
      "tensor([0.0000, 0.0000, 0.0000, 0.0000, 0.0000, 0.0000, 0.0000, 0.0000, 0.0000,\n",
      "        0.0000, 0.0000, 0.0000, 0.0000, 0.0000, 0.0000, 0.0000, 0.0000, 0.0000,\n",
      "        0.0000, 0.0000, 0.0000, 0.0000, 0.0000, 0.0000, 0.0000, 0.0000, 0.0000,\n",
      "        0.0158, 0.0158, 0.0158, 0.0158, 0.0158, 0.0158, 0.0158, 0.0000, 0.0000,\n",
      "        0.0000, 0.0079, 0.0079, 0.0079, 0.0079, 0.0158, 0.0236, 0.0236, 0.0158,\n",
      "        0.0158, 0.0236, 0.0236, 0.0158, 0.0079, 0.0079, 0.0079, 0.0079, 0.0000,\n",
      "        0.0000, 0.0000, 0.0000, 0.0079, 0.0079, 0.0079, 0.0079, 0.0079, 0.0079,\n",
      "        0.0079, 0.0000, 0.0000, 0.0000, 0.0000, 0.0079, 0.0079, 0.0079, 0.0079,\n",
      "        0.0079, 0.0079, 0.0079, 0.0000, 0.0000, 0.0000, 0.0000, 0.0000, 0.0000,\n",
      "        0.0000, 0.0000, 0.0000, 0.0000, 0.0000, 0.0000, 0.0000, 0.0158, 0.0158,\n",
      "        0.0158, 0.0158, 0.0158, 0.0158, 0.0158, 0.0000, 0.0079, 0.0079, 0.0079,\n",
      "        0.0079, 0.0079, 0.0079, 0.0079, 0.0000, 0.0000, 0.0000, 0.0000, 0.0000,\n",
      "        0.0000, 0.0000, 0.0000, 0.0000, 0.0000, 0.0000, 0.0000, 0.0000, 0.0000,\n",
      "        0.0000, 0.0000, 0.0000], dtype=torch.float64)\n",
      "Epoch: 99, loss: 0.00025\n",
      "tensor([0.0165, 0.0173, 0.0173, 0.0173, 0.0173, 0.0173, 0.0173, 0.0173, 0.0173,\n",
      "        0.0173, 0.0173, 0.0173, 0.0173, 0.0173, 0.0173, 0.0173, 0.0173, 0.0173,\n",
      "        0.0173, 0.0173, 0.0173, 0.0173, 0.0173, 0.0173, 0.0173, 0.0173, 0.0173,\n",
      "        0.0173, 0.0173, 0.0278, 0.0324, 0.0342, 0.0333, 0.0314, 0.0299, 0.0291,\n",
      "        0.0187, 0.0142, 0.0125, 0.0185, 0.0225, 0.0249, 0.0253, 0.0297, 0.0365,\n",
      "        0.0393, 0.0344, 0.0307, 0.0334, 0.0350, 0.0311, 0.0239, 0.0203, 0.0191,\n",
      "        0.0200, 0.0165, 0.0154, 0.0149, 0.0153, 0.0214, 0.0244, 0.0257, 0.0253,\n",
      "        0.0244, 0.0236, 0.0232, 0.0180, 0.0158, 0.0149, 0.0153, 0.0214, 0.0244,\n",
      "        0.0257, 0.0253, 0.0244, 0.0236, 0.0232, 0.0180, 0.0158, 0.0149, 0.0153,\n",
      "        0.0162, 0.0169, 0.0173, 0.0173, 0.0173, 0.0173, 0.0173, 0.0173, 0.0173,\n",
      "        0.0278, 0.0324, 0.0342, 0.0333, 0.0314, 0.0299, 0.0291, 0.0187, 0.0194,\n",
      "        0.0199, 0.0216, 0.0230, 0.0236, 0.0236, 0.0232, 0.0180, 0.0158, 0.0149,\n",
      "        0.0153, 0.0162, 0.0169, 0.0173, 0.0173, 0.0173, 0.0173, 0.0173, 0.0173,\n",
      "        0.0173, 0.0173, 0.0173, 0.0173, 0.0173, 0.0173, 0.0173],\n",
      "       dtype=torch.float64, grad_fn=<CatBackward0>)\n",
      "tensor([0.0000, 0.0000, 0.0000, 0.0000, 0.0000, 0.0000, 0.0000, 0.0000, 0.0000,\n",
      "        0.0000, 0.0000, 0.0000, 0.0000, 0.0000, 0.0000, 0.0000, 0.0000, 0.0000,\n",
      "        0.0000, 0.0000, 0.0000, 0.0000, 0.0000, 0.0000, 0.0000, 0.0000, 0.0000,\n",
      "        0.0158, 0.0158, 0.0158, 0.0158, 0.0158, 0.0158, 0.0158, 0.0000, 0.0000,\n",
      "        0.0000, 0.0079, 0.0079, 0.0079, 0.0079, 0.0158, 0.0236, 0.0236, 0.0158,\n",
      "        0.0158, 0.0236, 0.0236, 0.0158, 0.0079, 0.0079, 0.0079, 0.0079, 0.0000,\n",
      "        0.0000, 0.0000, 0.0000, 0.0079, 0.0079, 0.0079, 0.0079, 0.0079, 0.0079,\n",
      "        0.0079, 0.0000, 0.0000, 0.0000, 0.0000, 0.0079, 0.0079, 0.0079, 0.0079,\n",
      "        0.0079, 0.0079, 0.0079, 0.0000, 0.0000, 0.0000, 0.0000, 0.0000, 0.0000,\n",
      "        0.0000, 0.0000, 0.0000, 0.0000, 0.0000, 0.0000, 0.0000, 0.0158, 0.0158,\n",
      "        0.0158, 0.0158, 0.0158, 0.0158, 0.0158, 0.0000, 0.0079, 0.0079, 0.0079,\n",
      "        0.0079, 0.0079, 0.0079, 0.0079, 0.0000, 0.0000, 0.0000, 0.0000, 0.0000,\n",
      "        0.0000, 0.0000, 0.0000, 0.0000, 0.0000, 0.0000, 0.0000, 0.0000, 0.0000,\n",
      "        0.0000, 0.0000, 0.0000, 0.0000, 0.0000, 0.0000, 0.0079],\n",
      "       dtype=torch.float64)\n",
      "Epoch: 99, loss: 0.00011\n",
      "tensor([0.0165, 0.0173, 0.0173, 0.0173, 0.0173, 0.0173, 0.0173, 0.0173, 0.0173,\n",
      "        0.0173, 0.0173, 0.0173, 0.0173, 0.0173, 0.0173, 0.0173, 0.0173, 0.0173,\n",
      "        0.0173, 0.0173, 0.0173, 0.0173, 0.0173, 0.0173, 0.0173, 0.0173, 0.0173,\n",
      "        0.0173, 0.0173, 0.0278, 0.0324, 0.0342, 0.0333, 0.0314, 0.0299, 0.0291,\n",
      "        0.0187, 0.0142, 0.0125, 0.0185, 0.0225, 0.0249, 0.0253, 0.0297, 0.0365,\n",
      "        0.0393, 0.0344, 0.0307, 0.0334, 0.0350, 0.0311, 0.0239, 0.0203, 0.0191,\n",
      "        0.0200, 0.0165, 0.0154, 0.0149, 0.0153, 0.0214, 0.0244, 0.0257, 0.0253,\n",
      "        0.0244, 0.0236, 0.0232, 0.0180, 0.0158, 0.0149, 0.0153, 0.0214, 0.0244,\n",
      "        0.0257, 0.0253, 0.0244, 0.0236, 0.0232, 0.0180, 0.0158, 0.0149, 0.0153,\n",
      "        0.0162, 0.0169, 0.0173, 0.0173, 0.0173, 0.0173, 0.0173, 0.0173, 0.0173,\n",
      "        0.0278, 0.0324, 0.0342, 0.0333, 0.0314, 0.0299, 0.0291, 0.0187, 0.0194,\n",
      "        0.0199, 0.0216, 0.0230, 0.0236, 0.0236, 0.0232, 0.0180, 0.0158, 0.0149,\n",
      "        0.0153, 0.0162, 0.0169, 0.0173, 0.0173, 0.0173, 0.0173, 0.0173, 0.0173,\n",
      "        0.0173, 0.0173, 0.0173, 0.0173, 0.0173, 0.0173, 0.0173, 0.0173, 0.0225,\n",
      "        0.0248, 0.0310], dtype=torch.float64, grad_fn=<CatBackward0>)\n",
      "tensor([0.0000, 0.0000, 0.0000, 0.0000, 0.0000, 0.0000, 0.0000, 0.0000, 0.0000,\n",
      "        0.0000, 0.0000, 0.0000, 0.0000, 0.0000, 0.0000, 0.0000, 0.0000, 0.0000,\n",
      "        0.0000, 0.0000, 0.0000, 0.0000, 0.0000, 0.0000, 0.0000, 0.0000, 0.0000,\n",
      "        0.0158, 0.0158, 0.0158, 0.0158, 0.0158, 0.0158, 0.0158, 0.0000, 0.0000,\n",
      "        0.0000, 0.0079, 0.0079, 0.0079, 0.0079, 0.0158, 0.0236, 0.0236, 0.0158,\n",
      "        0.0158, 0.0236, 0.0236, 0.0158, 0.0079, 0.0079, 0.0079, 0.0079, 0.0000,\n",
      "        0.0000, 0.0000, 0.0000, 0.0079, 0.0079, 0.0079, 0.0079, 0.0079, 0.0079,\n",
      "        0.0079, 0.0000, 0.0000, 0.0000, 0.0000, 0.0079, 0.0079, 0.0079, 0.0079,\n",
      "        0.0079, 0.0079, 0.0079, 0.0000, 0.0000, 0.0000, 0.0000, 0.0000, 0.0000,\n",
      "        0.0000, 0.0000, 0.0000, 0.0000, 0.0000, 0.0000, 0.0000, 0.0158, 0.0158,\n",
      "        0.0158, 0.0158, 0.0158, 0.0158, 0.0158, 0.0000, 0.0079, 0.0079, 0.0079,\n",
      "        0.0079, 0.0079, 0.0079, 0.0079, 0.0000, 0.0000, 0.0000, 0.0000, 0.0000,\n",
      "        0.0000, 0.0000, 0.0000, 0.0000, 0.0000, 0.0000, 0.0000, 0.0000, 0.0000,\n",
      "        0.0000, 0.0000, 0.0000, 0.0000, 0.0000, 0.0000, 0.0079, 0.0079, 0.0158,\n",
      "        0.0158, 0.0158], dtype=torch.float64)\n",
      "Epoch: 99, loss: 0.00021\n",
      "tensor([0.0165, 0.0173, 0.0173, 0.0173, 0.0173, 0.0173, 0.0173, 0.0173, 0.0173,\n",
      "        0.0173, 0.0173, 0.0173, 0.0173, 0.0173, 0.0173, 0.0173, 0.0173, 0.0173,\n",
      "        0.0173, 0.0173, 0.0173, 0.0173, 0.0173, 0.0173, 0.0173, 0.0173, 0.0173,\n",
      "        0.0173, 0.0173, 0.0278, 0.0324, 0.0342, 0.0333, 0.0314, 0.0299, 0.0291,\n",
      "        0.0187, 0.0142, 0.0125, 0.0185, 0.0225, 0.0249, 0.0253, 0.0297, 0.0365,\n",
      "        0.0393, 0.0344, 0.0307, 0.0334, 0.0350, 0.0311, 0.0239, 0.0203, 0.0191,\n",
      "        0.0200, 0.0165, 0.0154, 0.0149, 0.0153, 0.0214, 0.0244, 0.0257, 0.0253,\n",
      "        0.0244, 0.0236, 0.0232, 0.0180, 0.0158, 0.0149, 0.0153, 0.0214, 0.0244,\n",
      "        0.0257, 0.0253, 0.0244, 0.0236, 0.0232, 0.0180, 0.0158, 0.0149, 0.0153,\n",
      "        0.0162, 0.0169, 0.0173, 0.0173, 0.0173, 0.0173, 0.0173, 0.0173, 0.0173,\n",
      "        0.0278, 0.0324, 0.0342, 0.0333, 0.0314, 0.0299, 0.0291, 0.0187, 0.0194,\n",
      "        0.0199, 0.0216, 0.0230, 0.0236, 0.0236, 0.0232, 0.0180, 0.0158, 0.0149,\n",
      "        0.0153, 0.0162, 0.0169, 0.0173, 0.0173, 0.0173, 0.0173, 0.0173, 0.0173,\n",
      "        0.0173, 0.0173, 0.0173, 0.0173, 0.0173, 0.0173, 0.0173, 0.0173, 0.0225,\n",
      "        0.0248, 0.0310, 0.0328, 0.0328, 0.0423, 0.0456], dtype=torch.float64,\n",
      "       grad_fn=<CatBackward0>)\n",
      "tensor([0.0000, 0.0000, 0.0000, 0.0000, 0.0000, 0.0000, 0.0000, 0.0000, 0.0000,\n",
      "        0.0000, 0.0000, 0.0000, 0.0000, 0.0000, 0.0000, 0.0000, 0.0000, 0.0000,\n",
      "        0.0000, 0.0000, 0.0000, 0.0000, 0.0000, 0.0000, 0.0000, 0.0000, 0.0000,\n",
      "        0.0158, 0.0158, 0.0158, 0.0158, 0.0158, 0.0158, 0.0158, 0.0000, 0.0000,\n",
      "        0.0000, 0.0079, 0.0079, 0.0079, 0.0079, 0.0158, 0.0236, 0.0236, 0.0158,\n",
      "        0.0158, 0.0236, 0.0236, 0.0158, 0.0079, 0.0079, 0.0079, 0.0079, 0.0000,\n",
      "        0.0000, 0.0000, 0.0000, 0.0079, 0.0079, 0.0079, 0.0079, 0.0079, 0.0079,\n",
      "        0.0079, 0.0000, 0.0000, 0.0000, 0.0000, 0.0079, 0.0079, 0.0079, 0.0079,\n",
      "        0.0079, 0.0079, 0.0079, 0.0000, 0.0000, 0.0000, 0.0000, 0.0000, 0.0000,\n",
      "        0.0000, 0.0000, 0.0000, 0.0000, 0.0000, 0.0000, 0.0000, 0.0158, 0.0158,\n",
      "        0.0158, 0.0158, 0.0158, 0.0158, 0.0158, 0.0000, 0.0079, 0.0079, 0.0079,\n",
      "        0.0079, 0.0079, 0.0079, 0.0079, 0.0000, 0.0000, 0.0000, 0.0000, 0.0000,\n",
      "        0.0000, 0.0000, 0.0000, 0.0000, 0.0000, 0.0000, 0.0000, 0.0000, 0.0000,\n",
      "        0.0000, 0.0000, 0.0000, 0.0000, 0.0000, 0.0000, 0.0079, 0.0079, 0.0158,\n",
      "        0.0158, 0.0158, 0.0315, 0.0315, 0.0236, 0.0236], dtype=torch.float64)\n",
      "Epoch: 99, loss: 0.00050\n",
      "tensor([0.0165, 0.0173, 0.0173, 0.0173, 0.0173, 0.0173, 0.0173, 0.0173, 0.0173,\n",
      "        0.0173, 0.0173, 0.0173, 0.0173, 0.0173, 0.0173, 0.0173, 0.0173, 0.0173,\n",
      "        0.0173, 0.0173, 0.0173, 0.0173, 0.0173, 0.0173, 0.0173, 0.0173, 0.0173,\n",
      "        0.0173, 0.0173, 0.0278, 0.0324, 0.0342, 0.0333, 0.0314, 0.0299, 0.0291,\n",
      "        0.0187, 0.0142, 0.0125, 0.0185, 0.0225, 0.0249, 0.0253, 0.0297, 0.0365,\n",
      "        0.0393, 0.0344, 0.0307, 0.0334, 0.0350, 0.0311, 0.0239, 0.0203, 0.0191,\n",
      "        0.0200, 0.0165, 0.0154, 0.0149, 0.0153, 0.0214, 0.0244, 0.0257, 0.0253,\n",
      "        0.0244, 0.0236, 0.0232, 0.0180, 0.0158, 0.0149, 0.0153, 0.0214, 0.0244,\n",
      "        0.0257, 0.0253, 0.0244, 0.0236, 0.0232, 0.0180, 0.0158, 0.0149, 0.0153,\n",
      "        0.0162, 0.0169, 0.0173, 0.0173, 0.0173, 0.0173, 0.0173, 0.0173, 0.0173,\n",
      "        0.0278, 0.0324, 0.0342, 0.0333, 0.0314, 0.0299, 0.0291, 0.0187, 0.0194,\n",
      "        0.0199, 0.0216, 0.0230, 0.0236, 0.0236, 0.0232, 0.0180, 0.0158, 0.0149,\n",
      "        0.0153, 0.0162, 0.0169, 0.0173, 0.0173, 0.0173, 0.0173, 0.0173, 0.0173,\n",
      "        0.0173, 0.0173, 0.0173, 0.0173, 0.0173, 0.0173, 0.0173, 0.0173, 0.0225,\n",
      "        0.0248, 0.0310, 0.0328, 0.0328, 0.0423, 0.0456, 0.0412, 0.0375, 0.0294,\n",
      "        0.0261], dtype=torch.float64, grad_fn=<CatBackward0>)\n",
      "tensor([0.0000, 0.0000, 0.0000, 0.0000, 0.0000, 0.0000, 0.0000, 0.0000, 0.0000,\n",
      "        0.0000, 0.0000, 0.0000, 0.0000, 0.0000, 0.0000, 0.0000, 0.0000, 0.0000,\n",
      "        0.0000, 0.0000, 0.0000, 0.0000, 0.0000, 0.0000, 0.0000, 0.0000, 0.0000,\n",
      "        0.0158, 0.0158, 0.0158, 0.0158, 0.0158, 0.0158, 0.0158, 0.0000, 0.0000,\n",
      "        0.0000, 0.0079, 0.0079, 0.0079, 0.0079, 0.0158, 0.0236, 0.0236, 0.0158,\n",
      "        0.0158, 0.0236, 0.0236, 0.0158, 0.0079, 0.0079, 0.0079, 0.0079, 0.0000,\n",
      "        0.0000, 0.0000, 0.0000, 0.0079, 0.0079, 0.0079, 0.0079, 0.0079, 0.0079,\n",
      "        0.0079, 0.0000, 0.0000, 0.0000, 0.0000, 0.0079, 0.0079, 0.0079, 0.0079,\n",
      "        0.0079, 0.0079, 0.0079, 0.0000, 0.0000, 0.0000, 0.0000, 0.0000, 0.0000,\n",
      "        0.0000, 0.0000, 0.0000, 0.0000, 0.0000, 0.0000, 0.0000, 0.0158, 0.0158,\n",
      "        0.0158, 0.0158, 0.0158, 0.0158, 0.0158, 0.0000, 0.0079, 0.0079, 0.0079,\n",
      "        0.0079, 0.0079, 0.0079, 0.0079, 0.0000, 0.0000, 0.0000, 0.0000, 0.0000,\n",
      "        0.0000, 0.0000, 0.0000, 0.0000, 0.0000, 0.0000, 0.0000, 0.0000, 0.0000,\n",
      "        0.0000, 0.0000, 0.0000, 0.0000, 0.0000, 0.0000, 0.0079, 0.0079, 0.0158,\n",
      "        0.0158, 0.0158, 0.0315, 0.0315, 0.0236, 0.0236, 0.0158, 0.0158, 0.0158,\n",
      "        0.0000], dtype=torch.float64)\n",
      "Epoch: 99, loss: 0.00021\n",
      "tensor([0.0165, 0.0173, 0.0173, 0.0173, 0.0173, 0.0173, 0.0173, 0.0173, 0.0173,\n",
      "        0.0173, 0.0173, 0.0173, 0.0173, 0.0173, 0.0173, 0.0173, 0.0173, 0.0173,\n",
      "        0.0173, 0.0173, 0.0173, 0.0173, 0.0173, 0.0173, 0.0173, 0.0173, 0.0173,\n",
      "        0.0173, 0.0173, 0.0278, 0.0324, 0.0342, 0.0333, 0.0314, 0.0299, 0.0291,\n",
      "        0.0187, 0.0142, 0.0125, 0.0185, 0.0225, 0.0249, 0.0253, 0.0297, 0.0365,\n",
      "        0.0393, 0.0344, 0.0307, 0.0334, 0.0350, 0.0311, 0.0239, 0.0203, 0.0191,\n",
      "        0.0200, 0.0165, 0.0154, 0.0149, 0.0153, 0.0214, 0.0244, 0.0257, 0.0253,\n",
      "        0.0244, 0.0236, 0.0232, 0.0180, 0.0158, 0.0149, 0.0153, 0.0214, 0.0244,\n",
      "        0.0257, 0.0253, 0.0244, 0.0236, 0.0232, 0.0180, 0.0158, 0.0149, 0.0153,\n",
      "        0.0162, 0.0169, 0.0173, 0.0173, 0.0173, 0.0173, 0.0173, 0.0173, 0.0173,\n",
      "        0.0278, 0.0324, 0.0342, 0.0333, 0.0314, 0.0299, 0.0291, 0.0187, 0.0194,\n",
      "        0.0199, 0.0216, 0.0230, 0.0236, 0.0236, 0.0232, 0.0180, 0.0158, 0.0149,\n",
      "        0.0153, 0.0162, 0.0169, 0.0173, 0.0173, 0.0173, 0.0173, 0.0173, 0.0173,\n",
      "        0.0173, 0.0173, 0.0173, 0.0173, 0.0173, 0.0173, 0.0173, 0.0173, 0.0225,\n",
      "        0.0248, 0.0310, 0.0328, 0.0328, 0.0423, 0.0456, 0.0412, 0.0375, 0.0294,\n",
      "        0.0261, 0.0254, 0.0162, 0.0131, 0.0173], dtype=torch.float64,\n",
      "       grad_fn=<CatBackward0>)\n",
      "tensor([0.0000, 0.0000, 0.0000, 0.0000, 0.0000, 0.0000, 0.0000, 0.0000, 0.0000,\n",
      "        0.0000, 0.0000, 0.0000, 0.0000, 0.0000, 0.0000, 0.0000, 0.0000, 0.0000,\n",
      "        0.0000, 0.0000, 0.0000, 0.0000, 0.0000, 0.0000, 0.0000, 0.0000, 0.0000,\n",
      "        0.0158, 0.0158, 0.0158, 0.0158, 0.0158, 0.0158, 0.0158, 0.0000, 0.0000,\n",
      "        0.0000, 0.0079, 0.0079, 0.0079, 0.0079, 0.0158, 0.0236, 0.0236, 0.0158,\n",
      "        0.0158, 0.0236, 0.0236, 0.0158, 0.0079, 0.0079, 0.0079, 0.0079, 0.0000,\n",
      "        0.0000, 0.0000, 0.0000, 0.0079, 0.0079, 0.0079, 0.0079, 0.0079, 0.0079,\n",
      "        0.0079, 0.0000, 0.0000, 0.0000, 0.0000, 0.0079, 0.0079, 0.0079, 0.0079,\n",
      "        0.0079, 0.0079, 0.0079, 0.0000, 0.0000, 0.0000, 0.0000, 0.0000, 0.0000,\n",
      "        0.0000, 0.0000, 0.0000, 0.0000, 0.0000, 0.0000, 0.0000, 0.0158, 0.0158,\n",
      "        0.0158, 0.0158, 0.0158, 0.0158, 0.0158, 0.0000, 0.0079, 0.0079, 0.0079,\n",
      "        0.0079, 0.0079, 0.0079, 0.0079, 0.0000, 0.0000, 0.0000, 0.0000, 0.0000,\n",
      "        0.0000, 0.0000, 0.0000, 0.0000, 0.0000, 0.0000, 0.0000, 0.0000, 0.0000,\n",
      "        0.0000, 0.0000, 0.0000, 0.0000, 0.0000, 0.0000, 0.0079, 0.0079, 0.0158,\n",
      "        0.0158, 0.0158, 0.0315, 0.0315, 0.0236, 0.0236, 0.0158, 0.0158, 0.0158,\n",
      "        0.0000, 0.0000, 0.0079, 0.0079, 0.0079], dtype=torch.float64)\n",
      "Epoch: 99, loss: 0.00014\n",
      "tensor([0.0165, 0.0173, 0.0173, 0.0173, 0.0173, 0.0173, 0.0173, 0.0173, 0.0173,\n",
      "        0.0173, 0.0173, 0.0173, 0.0173, 0.0173, 0.0173, 0.0173, 0.0173, 0.0173,\n",
      "        0.0173, 0.0173, 0.0173, 0.0173, 0.0173, 0.0173, 0.0173, 0.0173, 0.0173,\n",
      "        0.0173, 0.0173, 0.0278, 0.0324, 0.0342, 0.0333, 0.0314, 0.0299, 0.0291,\n",
      "        0.0187, 0.0142, 0.0125, 0.0185, 0.0225, 0.0249, 0.0253, 0.0297, 0.0365,\n",
      "        0.0393, 0.0344, 0.0307, 0.0334, 0.0350, 0.0311, 0.0239, 0.0203, 0.0191,\n",
      "        0.0200, 0.0165, 0.0154, 0.0149, 0.0153, 0.0214, 0.0244, 0.0257, 0.0253,\n",
      "        0.0244, 0.0236, 0.0232, 0.0180, 0.0158, 0.0149, 0.0153, 0.0214, 0.0244,\n",
      "        0.0257, 0.0253, 0.0244, 0.0236, 0.0232, 0.0180, 0.0158, 0.0149, 0.0153,\n",
      "        0.0162, 0.0169, 0.0173, 0.0173, 0.0173, 0.0173, 0.0173, 0.0173, 0.0173,\n",
      "        0.0278, 0.0324, 0.0342, 0.0333, 0.0314, 0.0299, 0.0291, 0.0187, 0.0194,\n",
      "        0.0199, 0.0216, 0.0230, 0.0236, 0.0236, 0.0232, 0.0180, 0.0158, 0.0149,\n",
      "        0.0153, 0.0162, 0.0169, 0.0173, 0.0173, 0.0173, 0.0173, 0.0173, 0.0173,\n",
      "        0.0173, 0.0173, 0.0173, 0.0173, 0.0173, 0.0173, 0.0173, 0.0173, 0.0225,\n",
      "        0.0248, 0.0310, 0.0328, 0.0328, 0.0423, 0.0456, 0.0412, 0.0375, 0.0294,\n",
      "        0.0261, 0.0254, 0.0162, 0.0131, 0.0173, 0.0207, 0.0234, 0.0245, 0.0244],\n",
      "       dtype=torch.float64, grad_fn=<CatBackward0>)\n",
      "tensor([0.0000, 0.0000, 0.0000, 0.0000, 0.0000, 0.0000, 0.0000, 0.0000, 0.0000,\n",
      "        0.0000, 0.0000, 0.0000, 0.0000, 0.0000, 0.0000, 0.0000, 0.0000, 0.0000,\n",
      "        0.0000, 0.0000, 0.0000, 0.0000, 0.0000, 0.0000, 0.0000, 0.0000, 0.0000,\n",
      "        0.0158, 0.0158, 0.0158, 0.0158, 0.0158, 0.0158, 0.0158, 0.0000, 0.0000,\n",
      "        0.0000, 0.0079, 0.0079, 0.0079, 0.0079, 0.0158, 0.0236, 0.0236, 0.0158,\n",
      "        0.0158, 0.0236, 0.0236, 0.0158, 0.0079, 0.0079, 0.0079, 0.0079, 0.0000,\n",
      "        0.0000, 0.0000, 0.0000, 0.0079, 0.0079, 0.0079, 0.0079, 0.0079, 0.0079,\n",
      "        0.0079, 0.0000, 0.0000, 0.0000, 0.0000, 0.0079, 0.0079, 0.0079, 0.0079,\n",
      "        0.0079, 0.0079, 0.0079, 0.0000, 0.0000, 0.0000, 0.0000, 0.0000, 0.0000,\n",
      "        0.0000, 0.0000, 0.0000, 0.0000, 0.0000, 0.0000, 0.0000, 0.0158, 0.0158,\n",
      "        0.0158, 0.0158, 0.0158, 0.0158, 0.0158, 0.0000, 0.0079, 0.0079, 0.0079,\n",
      "        0.0079, 0.0079, 0.0079, 0.0079, 0.0000, 0.0000, 0.0000, 0.0000, 0.0000,\n",
      "        0.0000, 0.0000, 0.0000, 0.0000, 0.0000, 0.0000, 0.0000, 0.0000, 0.0000,\n",
      "        0.0000, 0.0000, 0.0000, 0.0000, 0.0000, 0.0000, 0.0079, 0.0079, 0.0158,\n",
      "        0.0158, 0.0158, 0.0315, 0.0315, 0.0236, 0.0236, 0.0158, 0.0158, 0.0158,\n",
      "        0.0000, 0.0000, 0.0079, 0.0079, 0.0079, 0.0079, 0.0079, 0.0158, 0.0158],\n",
      "       dtype=torch.float64)\n",
      "Epoch: 99, loss: 0.00039\n",
      "tensor([0.0165, 0.0173, 0.0173, 0.0173, 0.0173, 0.0173, 0.0173, 0.0173, 0.0173,\n",
      "        0.0173, 0.0173, 0.0173, 0.0173, 0.0173, 0.0173, 0.0173, 0.0173, 0.0173,\n",
      "        0.0173, 0.0173, 0.0173, 0.0173, 0.0173, 0.0173, 0.0173, 0.0173, 0.0173,\n",
      "        0.0173, 0.0173, 0.0278, 0.0324, 0.0342, 0.0333, 0.0314, 0.0299, 0.0291,\n",
      "        0.0187, 0.0142, 0.0125, 0.0185, 0.0225, 0.0249, 0.0253, 0.0297, 0.0365,\n",
      "        0.0393, 0.0344, 0.0307, 0.0334, 0.0350, 0.0311, 0.0239, 0.0203, 0.0191,\n",
      "        0.0200, 0.0165, 0.0154, 0.0149, 0.0153, 0.0214, 0.0244, 0.0257, 0.0253,\n",
      "        0.0244, 0.0236, 0.0232, 0.0180, 0.0158, 0.0149, 0.0153, 0.0214, 0.0244,\n",
      "        0.0257, 0.0253, 0.0244, 0.0236, 0.0232, 0.0180, 0.0158, 0.0149, 0.0153,\n",
      "        0.0162, 0.0169, 0.0173, 0.0173, 0.0173, 0.0173, 0.0173, 0.0173, 0.0173,\n",
      "        0.0278, 0.0324, 0.0342, 0.0333, 0.0314, 0.0299, 0.0291, 0.0187, 0.0194,\n",
      "        0.0199, 0.0216, 0.0230, 0.0236, 0.0236, 0.0232, 0.0180, 0.0158, 0.0149,\n",
      "        0.0153, 0.0162, 0.0169, 0.0173, 0.0173, 0.0173, 0.0173, 0.0173, 0.0173,\n",
      "        0.0173, 0.0173, 0.0173, 0.0173, 0.0173, 0.0173, 0.0173, 0.0173, 0.0225,\n",
      "        0.0248, 0.0310, 0.0328, 0.0328, 0.0423, 0.0456, 0.0412, 0.0375, 0.0294,\n",
      "        0.0261, 0.0254, 0.0162, 0.0131, 0.0173, 0.0207, 0.0234, 0.0245, 0.0244,\n",
      "        0.0289, 0.0308, 0.0264, 0.0237], dtype=torch.float64,\n",
      "       grad_fn=<CatBackward0>)\n",
      "tensor([0.0000, 0.0000, 0.0000, 0.0000, 0.0000, 0.0000, 0.0000, 0.0000, 0.0000,\n",
      "        0.0000, 0.0000, 0.0000, 0.0000, 0.0000, 0.0000, 0.0000, 0.0000, 0.0000,\n",
      "        0.0000, 0.0000, 0.0000, 0.0000, 0.0000, 0.0000, 0.0000, 0.0000, 0.0000,\n",
      "        0.0158, 0.0158, 0.0158, 0.0158, 0.0158, 0.0158, 0.0158, 0.0000, 0.0000,\n",
      "        0.0000, 0.0079, 0.0079, 0.0079, 0.0079, 0.0158, 0.0236, 0.0236, 0.0158,\n",
      "        0.0158, 0.0236, 0.0236, 0.0158, 0.0079, 0.0079, 0.0079, 0.0079, 0.0000,\n",
      "        0.0000, 0.0000, 0.0000, 0.0079, 0.0079, 0.0079, 0.0079, 0.0079, 0.0079,\n",
      "        0.0079, 0.0000, 0.0000, 0.0000, 0.0000, 0.0079, 0.0079, 0.0079, 0.0079,\n",
      "        0.0079, 0.0079, 0.0079, 0.0000, 0.0000, 0.0000, 0.0000, 0.0000, 0.0000,\n",
      "        0.0000, 0.0000, 0.0000, 0.0000, 0.0000, 0.0000, 0.0000, 0.0158, 0.0158,\n",
      "        0.0158, 0.0158, 0.0158, 0.0158, 0.0158, 0.0000, 0.0079, 0.0079, 0.0079,\n",
      "        0.0079, 0.0079, 0.0079, 0.0079, 0.0000, 0.0000, 0.0000, 0.0000, 0.0000,\n",
      "        0.0000, 0.0000, 0.0000, 0.0000, 0.0000, 0.0000, 0.0000, 0.0000, 0.0000,\n",
      "        0.0000, 0.0000, 0.0000, 0.0000, 0.0000, 0.0000, 0.0079, 0.0079, 0.0158,\n",
      "        0.0158, 0.0158, 0.0315, 0.0315, 0.0236, 0.0236, 0.0158, 0.0158, 0.0158,\n",
      "        0.0000, 0.0000, 0.0079, 0.0079, 0.0079, 0.0079, 0.0079, 0.0158, 0.0158,\n",
      "        0.0079, 0.0079, 0.0079, 0.0079], dtype=torch.float64)\n",
      "Epoch: 99, loss: 0.00018\n",
      "tensor([0.0165, 0.0173, 0.0173, 0.0173, 0.0173, 0.0173, 0.0173, 0.0173, 0.0173,\n",
      "        0.0173, 0.0173, 0.0173, 0.0173, 0.0173, 0.0173, 0.0173, 0.0173, 0.0173,\n",
      "        0.0173, 0.0173, 0.0173, 0.0173, 0.0173, 0.0173, 0.0173, 0.0173, 0.0173,\n",
      "        0.0173, 0.0173, 0.0278, 0.0324, 0.0342, 0.0333, 0.0314, 0.0299, 0.0291,\n",
      "        0.0187, 0.0142, 0.0125, 0.0185, 0.0225, 0.0249, 0.0253, 0.0297, 0.0365,\n",
      "        0.0393, 0.0344, 0.0307, 0.0334, 0.0350, 0.0311, 0.0239, 0.0203, 0.0191,\n",
      "        0.0200, 0.0165, 0.0154, 0.0149, 0.0153, 0.0214, 0.0244, 0.0257, 0.0253,\n",
      "        0.0244, 0.0236, 0.0232, 0.0180, 0.0158, 0.0149, 0.0153, 0.0214, 0.0244,\n",
      "        0.0257, 0.0253, 0.0244, 0.0236, 0.0232, 0.0180, 0.0158, 0.0149, 0.0153,\n",
      "        0.0162, 0.0169, 0.0173, 0.0173, 0.0173, 0.0173, 0.0173, 0.0173, 0.0173,\n",
      "        0.0278, 0.0324, 0.0342, 0.0333, 0.0314, 0.0299, 0.0291, 0.0187, 0.0194,\n",
      "        0.0199, 0.0216, 0.0230, 0.0236, 0.0236, 0.0232, 0.0180, 0.0158, 0.0149,\n",
      "        0.0153, 0.0162, 0.0169, 0.0173, 0.0173, 0.0173, 0.0173, 0.0173, 0.0173,\n",
      "        0.0173, 0.0173, 0.0173, 0.0173, 0.0173, 0.0173, 0.0173, 0.0173, 0.0225,\n",
      "        0.0248, 0.0310, 0.0328, 0.0328, 0.0423, 0.0456, 0.0412, 0.0375, 0.0294,\n",
      "        0.0261, 0.0254, 0.0162, 0.0131, 0.0173, 0.0207, 0.0234, 0.0245, 0.0244,\n",
      "        0.0289, 0.0308, 0.0264, 0.0237, 0.0219, 0.0216, 0.0221, 0.0176],\n",
      "       dtype=torch.float64, grad_fn=<CatBackward0>)\n",
      "tensor([0.0000, 0.0000, 0.0000, 0.0000, 0.0000, 0.0000, 0.0000, 0.0000, 0.0000,\n",
      "        0.0000, 0.0000, 0.0000, 0.0000, 0.0000, 0.0000, 0.0000, 0.0000, 0.0000,\n",
      "        0.0000, 0.0000, 0.0000, 0.0000, 0.0000, 0.0000, 0.0000, 0.0000, 0.0000,\n",
      "        0.0158, 0.0158, 0.0158, 0.0158, 0.0158, 0.0158, 0.0158, 0.0000, 0.0000,\n",
      "        0.0000, 0.0079, 0.0079, 0.0079, 0.0079, 0.0158, 0.0236, 0.0236, 0.0158,\n",
      "        0.0158, 0.0236, 0.0236, 0.0158, 0.0079, 0.0079, 0.0079, 0.0079, 0.0000,\n",
      "        0.0000, 0.0000, 0.0000, 0.0079, 0.0079, 0.0079, 0.0079, 0.0079, 0.0079,\n",
      "        0.0079, 0.0000, 0.0000, 0.0000, 0.0000, 0.0079, 0.0079, 0.0079, 0.0079,\n",
      "        0.0079, 0.0079, 0.0079, 0.0000, 0.0000, 0.0000, 0.0000, 0.0000, 0.0000,\n",
      "        0.0000, 0.0000, 0.0000, 0.0000, 0.0000, 0.0000, 0.0000, 0.0158, 0.0158,\n",
      "        0.0158, 0.0158, 0.0158, 0.0158, 0.0158, 0.0000, 0.0079, 0.0079, 0.0079,\n",
      "        0.0079, 0.0079, 0.0079, 0.0079, 0.0000, 0.0000, 0.0000, 0.0000, 0.0000,\n",
      "        0.0000, 0.0000, 0.0000, 0.0000, 0.0000, 0.0000, 0.0000, 0.0000, 0.0000,\n",
      "        0.0000, 0.0000, 0.0000, 0.0000, 0.0000, 0.0000, 0.0079, 0.0079, 0.0158,\n",
      "        0.0158, 0.0158, 0.0315, 0.0315, 0.0236, 0.0236, 0.0158, 0.0158, 0.0158,\n",
      "        0.0000, 0.0000, 0.0079, 0.0079, 0.0079, 0.0079, 0.0079, 0.0158, 0.0158,\n",
      "        0.0079, 0.0079, 0.0079, 0.0079, 0.0079, 0.0000, 0.0236, 0.0236],\n",
      "       dtype=torch.float64)\n",
      "Epoch: 99, loss: 0.00013\n",
      "tensor([0.0165, 0.0173, 0.0173, 0.0173, 0.0173, 0.0173, 0.0173, 0.0173, 0.0173,\n",
      "        0.0173, 0.0173, 0.0173, 0.0173, 0.0173, 0.0173, 0.0173, 0.0173, 0.0173,\n",
      "        0.0173, 0.0173, 0.0173, 0.0173, 0.0173, 0.0173, 0.0173, 0.0173, 0.0173,\n",
      "        0.0173, 0.0173, 0.0278, 0.0324, 0.0342, 0.0333, 0.0314, 0.0299, 0.0291,\n",
      "        0.0187, 0.0142, 0.0125, 0.0185, 0.0225, 0.0249, 0.0253, 0.0297, 0.0365,\n",
      "        0.0393, 0.0344, 0.0307, 0.0334, 0.0350, 0.0311, 0.0239, 0.0203, 0.0191,\n",
      "        0.0200, 0.0165, 0.0154, 0.0149, 0.0153, 0.0214, 0.0244, 0.0257, 0.0253,\n",
      "        0.0244, 0.0236, 0.0232, 0.0180, 0.0158, 0.0149, 0.0153, 0.0214, 0.0244,\n",
      "        0.0257, 0.0253, 0.0244, 0.0236, 0.0232, 0.0180, 0.0158, 0.0149, 0.0153,\n",
      "        0.0162, 0.0169, 0.0173, 0.0173, 0.0173, 0.0173, 0.0173, 0.0173, 0.0173,\n",
      "        0.0278, 0.0324, 0.0342, 0.0333, 0.0314, 0.0299, 0.0291, 0.0187, 0.0194,\n",
      "        0.0199, 0.0216, 0.0230, 0.0236, 0.0236, 0.0232, 0.0180, 0.0158, 0.0149,\n",
      "        0.0153, 0.0162, 0.0169, 0.0173, 0.0173, 0.0173, 0.0173, 0.0173, 0.0173,\n",
      "        0.0173, 0.0173, 0.0173, 0.0173, 0.0173, 0.0173, 0.0173, 0.0173, 0.0225,\n",
      "        0.0248, 0.0310, 0.0328, 0.0328, 0.0423, 0.0456, 0.0412, 0.0375, 0.0294,\n",
      "        0.0261, 0.0254, 0.0162, 0.0131, 0.0173, 0.0207, 0.0234, 0.0245, 0.0244,\n",
      "        0.0289, 0.0308, 0.0264, 0.0237, 0.0219, 0.0216, 0.0221, 0.0176, 0.0316,\n",
      "        0.0375, 0.0461, 0.0479], dtype=torch.float64, grad_fn=<CatBackward0>)\n",
      "tensor([0.0000, 0.0000, 0.0000, 0.0000, 0.0000, 0.0000, 0.0000, 0.0000, 0.0000,\n",
      "        0.0000, 0.0000, 0.0000, 0.0000, 0.0000, 0.0000, 0.0000, 0.0000, 0.0000,\n",
      "        0.0000, 0.0000, 0.0000, 0.0000, 0.0000, 0.0000, 0.0000, 0.0000, 0.0000,\n",
      "        0.0158, 0.0158, 0.0158, 0.0158, 0.0158, 0.0158, 0.0158, 0.0000, 0.0000,\n",
      "        0.0000, 0.0079, 0.0079, 0.0079, 0.0079, 0.0158, 0.0236, 0.0236, 0.0158,\n",
      "        0.0158, 0.0236, 0.0236, 0.0158, 0.0079, 0.0079, 0.0079, 0.0079, 0.0000,\n",
      "        0.0000, 0.0000, 0.0000, 0.0079, 0.0079, 0.0079, 0.0079, 0.0079, 0.0079,\n",
      "        0.0079, 0.0000, 0.0000, 0.0000, 0.0000, 0.0079, 0.0079, 0.0079, 0.0079,\n",
      "        0.0079, 0.0079, 0.0079, 0.0000, 0.0000, 0.0000, 0.0000, 0.0000, 0.0000,\n",
      "        0.0000, 0.0000, 0.0000, 0.0000, 0.0000, 0.0000, 0.0000, 0.0158, 0.0158,\n",
      "        0.0158, 0.0158, 0.0158, 0.0158, 0.0158, 0.0000, 0.0079, 0.0079, 0.0079,\n",
      "        0.0079, 0.0079, 0.0079, 0.0079, 0.0000, 0.0000, 0.0000, 0.0000, 0.0000,\n",
      "        0.0000, 0.0000, 0.0000, 0.0000, 0.0000, 0.0000, 0.0000, 0.0000, 0.0000,\n",
      "        0.0000, 0.0000, 0.0000, 0.0000, 0.0000, 0.0000, 0.0079, 0.0079, 0.0158,\n",
      "        0.0158, 0.0158, 0.0315, 0.0315, 0.0236, 0.0236, 0.0158, 0.0158, 0.0158,\n",
      "        0.0000, 0.0000, 0.0079, 0.0079, 0.0079, 0.0079, 0.0079, 0.0158, 0.0158,\n",
      "        0.0079, 0.0079, 0.0079, 0.0079, 0.0079, 0.0000, 0.0236, 0.0236, 0.0315,\n",
      "        0.0315, 0.0315, 0.0315], dtype=torch.float64)\n",
      "Epoch: 99, loss: 0.00084\n",
      "tensor([0.0165, 0.0173, 0.0173, 0.0173, 0.0173, 0.0173, 0.0173, 0.0173, 0.0173,\n",
      "        0.0173, 0.0173, 0.0173, 0.0173, 0.0173, 0.0173, 0.0173, 0.0173, 0.0173,\n",
      "        0.0173, 0.0173, 0.0173, 0.0173, 0.0173, 0.0173, 0.0173, 0.0173, 0.0173,\n",
      "        0.0173, 0.0173, 0.0278, 0.0324, 0.0342, 0.0333, 0.0314, 0.0299, 0.0291,\n",
      "        0.0187, 0.0142, 0.0125, 0.0185, 0.0225, 0.0249, 0.0253, 0.0297, 0.0365,\n",
      "        0.0393, 0.0344, 0.0307, 0.0334, 0.0350, 0.0311, 0.0239, 0.0203, 0.0191,\n",
      "        0.0200, 0.0165, 0.0154, 0.0149, 0.0153, 0.0214, 0.0244, 0.0257, 0.0253,\n",
      "        0.0244, 0.0236, 0.0232, 0.0180, 0.0158, 0.0149, 0.0153, 0.0214, 0.0244,\n",
      "        0.0257, 0.0253, 0.0244, 0.0236, 0.0232, 0.0180, 0.0158, 0.0149, 0.0153,\n",
      "        0.0162, 0.0169, 0.0173, 0.0173, 0.0173, 0.0173, 0.0173, 0.0173, 0.0173,\n",
      "        0.0278, 0.0324, 0.0342, 0.0333, 0.0314, 0.0299, 0.0291, 0.0187, 0.0194,\n",
      "        0.0199, 0.0216, 0.0230, 0.0236, 0.0236, 0.0232, 0.0180, 0.0158, 0.0149,\n",
      "        0.0153, 0.0162, 0.0169, 0.0173, 0.0173, 0.0173, 0.0173, 0.0173, 0.0173,\n",
      "        0.0173, 0.0173, 0.0173, 0.0173, 0.0173, 0.0173, 0.0173, 0.0173, 0.0225,\n",
      "        0.0248, 0.0310, 0.0328, 0.0328, 0.0423, 0.0456, 0.0412, 0.0375, 0.0294,\n",
      "        0.0261, 0.0254, 0.0162, 0.0131, 0.0173, 0.0207, 0.0234, 0.0245, 0.0244,\n",
      "        0.0289, 0.0308, 0.0264, 0.0237, 0.0219, 0.0216, 0.0221, 0.0176, 0.0316,\n",
      "        0.0375, 0.0461, 0.0479, 0.0466, 0.0442, 0.0420, 0.0254],\n",
      "       dtype=torch.float64, grad_fn=<CatBackward0>)\n",
      "tensor([0.0000, 0.0000, 0.0000, 0.0000, 0.0000, 0.0000, 0.0000, 0.0000, 0.0000,\n",
      "        0.0000, 0.0000, 0.0000, 0.0000, 0.0000, 0.0000, 0.0000, 0.0000, 0.0000,\n",
      "        0.0000, 0.0000, 0.0000, 0.0000, 0.0000, 0.0000, 0.0000, 0.0000, 0.0000,\n",
      "        0.0158, 0.0158, 0.0158, 0.0158, 0.0158, 0.0158, 0.0158, 0.0000, 0.0000,\n",
      "        0.0000, 0.0079, 0.0079, 0.0079, 0.0079, 0.0158, 0.0236, 0.0236, 0.0158,\n",
      "        0.0158, 0.0236, 0.0236, 0.0158, 0.0079, 0.0079, 0.0079, 0.0079, 0.0000,\n",
      "        0.0000, 0.0000, 0.0000, 0.0079, 0.0079, 0.0079, 0.0079, 0.0079, 0.0079,\n",
      "        0.0079, 0.0000, 0.0000, 0.0000, 0.0000, 0.0079, 0.0079, 0.0079, 0.0079,\n",
      "        0.0079, 0.0079, 0.0079, 0.0000, 0.0000, 0.0000, 0.0000, 0.0000, 0.0000,\n",
      "        0.0000, 0.0000, 0.0000, 0.0000, 0.0000, 0.0000, 0.0000, 0.0158, 0.0158,\n",
      "        0.0158, 0.0158, 0.0158, 0.0158, 0.0158, 0.0000, 0.0079, 0.0079, 0.0079,\n",
      "        0.0079, 0.0079, 0.0079, 0.0079, 0.0000, 0.0000, 0.0000, 0.0000, 0.0000,\n",
      "        0.0000, 0.0000, 0.0000, 0.0000, 0.0000, 0.0000, 0.0000, 0.0000, 0.0000,\n",
      "        0.0000, 0.0000, 0.0000, 0.0000, 0.0000, 0.0000, 0.0079, 0.0079, 0.0158,\n",
      "        0.0158, 0.0158, 0.0315, 0.0315, 0.0236, 0.0236, 0.0158, 0.0158, 0.0158,\n",
      "        0.0000, 0.0000, 0.0079, 0.0079, 0.0079, 0.0079, 0.0079, 0.0158, 0.0158,\n",
      "        0.0079, 0.0079, 0.0079, 0.0079, 0.0079, 0.0000, 0.0236, 0.0236, 0.0315,\n",
      "        0.0315, 0.0315, 0.0315, 0.0315, 0.0079, 0.0079, 0.0000],\n",
      "       dtype=torch.float64)\n",
      "Epoch: 99, loss: 0.00014\n",
      "tensor([0.0165, 0.0173, 0.0173, 0.0173, 0.0173, 0.0173, 0.0173, 0.0173, 0.0173,\n",
      "        0.0173, 0.0173, 0.0173, 0.0173, 0.0173, 0.0173, 0.0173, 0.0173, 0.0173,\n",
      "        0.0173, 0.0173, 0.0173, 0.0173, 0.0173, 0.0173, 0.0173, 0.0173, 0.0173,\n",
      "        0.0173, 0.0173, 0.0278, 0.0324, 0.0342, 0.0333, 0.0314, 0.0299, 0.0291,\n",
      "        0.0187, 0.0142, 0.0125, 0.0185, 0.0225, 0.0249, 0.0253, 0.0297, 0.0365,\n",
      "        0.0393, 0.0344, 0.0307, 0.0334, 0.0350, 0.0311, 0.0239, 0.0203, 0.0191,\n",
      "        0.0200, 0.0165, 0.0154, 0.0149, 0.0153, 0.0214, 0.0244, 0.0257, 0.0253,\n",
      "        0.0244, 0.0236, 0.0232, 0.0180, 0.0158, 0.0149, 0.0153, 0.0214, 0.0244,\n",
      "        0.0257, 0.0253, 0.0244, 0.0236, 0.0232, 0.0180, 0.0158, 0.0149, 0.0153,\n",
      "        0.0162, 0.0169, 0.0173, 0.0173, 0.0173, 0.0173, 0.0173, 0.0173, 0.0173,\n",
      "        0.0278, 0.0324, 0.0342, 0.0333, 0.0314, 0.0299, 0.0291, 0.0187, 0.0194,\n",
      "        0.0199, 0.0216, 0.0230, 0.0236, 0.0236, 0.0232, 0.0180, 0.0158, 0.0149,\n",
      "        0.0153, 0.0162, 0.0169, 0.0173, 0.0173, 0.0173, 0.0173, 0.0173, 0.0173,\n",
      "        0.0173, 0.0173, 0.0173, 0.0173, 0.0173, 0.0173, 0.0173, 0.0173, 0.0225,\n",
      "        0.0248, 0.0310, 0.0328, 0.0328, 0.0423, 0.0456, 0.0412, 0.0375, 0.0294,\n",
      "        0.0261, 0.0254, 0.0162, 0.0131, 0.0173, 0.0207, 0.0234, 0.0245, 0.0244,\n",
      "        0.0289, 0.0308, 0.0264, 0.0237, 0.0219, 0.0216, 0.0221, 0.0176, 0.0316,\n",
      "        0.0375, 0.0461, 0.0479, 0.0466, 0.0442, 0.0420, 0.0254, 0.0183, 0.0106,\n",
      "        0.0097, 0.0115], dtype=torch.float64, grad_fn=<CatBackward0>)\n",
      "tensor([0.0000, 0.0000, 0.0000, 0.0000, 0.0000, 0.0000, 0.0000, 0.0000, 0.0000,\n",
      "        0.0000, 0.0000, 0.0000, 0.0000, 0.0000, 0.0000, 0.0000, 0.0000, 0.0000,\n",
      "        0.0000, 0.0000, 0.0000, 0.0000, 0.0000, 0.0000, 0.0000, 0.0000, 0.0000,\n",
      "        0.0158, 0.0158, 0.0158, 0.0158, 0.0158, 0.0158, 0.0158, 0.0000, 0.0000,\n",
      "        0.0000, 0.0079, 0.0079, 0.0079, 0.0079, 0.0158, 0.0236, 0.0236, 0.0158,\n",
      "        0.0158, 0.0236, 0.0236, 0.0158, 0.0079, 0.0079, 0.0079, 0.0079, 0.0000,\n",
      "        0.0000, 0.0000, 0.0000, 0.0079, 0.0079, 0.0079, 0.0079, 0.0079, 0.0079,\n",
      "        0.0079, 0.0000, 0.0000, 0.0000, 0.0000, 0.0079, 0.0079, 0.0079, 0.0079,\n",
      "        0.0079, 0.0079, 0.0079, 0.0000, 0.0000, 0.0000, 0.0000, 0.0000, 0.0000,\n",
      "        0.0000, 0.0000, 0.0000, 0.0000, 0.0000, 0.0000, 0.0000, 0.0158, 0.0158,\n",
      "        0.0158, 0.0158, 0.0158, 0.0158, 0.0158, 0.0000, 0.0079, 0.0079, 0.0079,\n",
      "        0.0079, 0.0079, 0.0079, 0.0079, 0.0000, 0.0000, 0.0000, 0.0000, 0.0000,\n",
      "        0.0000, 0.0000, 0.0000, 0.0000, 0.0000, 0.0000, 0.0000, 0.0000, 0.0000,\n",
      "        0.0000, 0.0000, 0.0000, 0.0000, 0.0000, 0.0000, 0.0079, 0.0079, 0.0158,\n",
      "        0.0158, 0.0158, 0.0315, 0.0315, 0.0236, 0.0236, 0.0158, 0.0158, 0.0158,\n",
      "        0.0000, 0.0000, 0.0079, 0.0079, 0.0079, 0.0079, 0.0079, 0.0158, 0.0158,\n",
      "        0.0079, 0.0079, 0.0079, 0.0079, 0.0079, 0.0000, 0.0236, 0.0236, 0.0315,\n",
      "        0.0315, 0.0315, 0.0315, 0.0315, 0.0079, 0.0079, 0.0000, 0.0000, 0.0000,\n",
      "        0.0000, 0.0079], dtype=torch.float64)\n",
      "Epoch: 99, loss: 0.00020\n",
      "tensor([0.0165, 0.0173, 0.0173, 0.0173, 0.0173, 0.0173, 0.0173, 0.0173, 0.0173,\n",
      "        0.0173, 0.0173, 0.0173, 0.0173, 0.0173, 0.0173, 0.0173, 0.0173, 0.0173,\n",
      "        0.0173, 0.0173, 0.0173, 0.0173, 0.0173, 0.0173, 0.0173, 0.0173, 0.0173,\n",
      "        0.0173, 0.0173, 0.0278, 0.0324, 0.0342, 0.0333, 0.0314, 0.0299, 0.0291,\n",
      "        0.0187, 0.0142, 0.0125, 0.0185, 0.0225, 0.0249, 0.0253, 0.0297, 0.0365,\n",
      "        0.0393, 0.0344, 0.0307, 0.0334, 0.0350, 0.0311, 0.0239, 0.0203, 0.0191,\n",
      "        0.0200, 0.0165, 0.0154, 0.0149, 0.0153, 0.0214, 0.0244, 0.0257, 0.0253,\n",
      "        0.0244, 0.0236, 0.0232, 0.0180, 0.0158, 0.0149, 0.0153, 0.0214, 0.0244,\n",
      "        0.0257, 0.0253, 0.0244, 0.0236, 0.0232, 0.0180, 0.0158, 0.0149, 0.0153,\n",
      "        0.0162, 0.0169, 0.0173, 0.0173, 0.0173, 0.0173, 0.0173, 0.0173, 0.0173,\n",
      "        0.0278, 0.0324, 0.0342, 0.0333, 0.0314, 0.0299, 0.0291, 0.0187, 0.0194,\n",
      "        0.0199, 0.0216, 0.0230, 0.0236, 0.0236, 0.0232, 0.0180, 0.0158, 0.0149,\n",
      "        0.0153, 0.0162, 0.0169, 0.0173, 0.0173, 0.0173, 0.0173, 0.0173, 0.0173,\n",
      "        0.0173, 0.0173, 0.0173, 0.0173, 0.0173, 0.0173, 0.0173, 0.0173, 0.0225,\n",
      "        0.0248, 0.0310, 0.0328, 0.0328, 0.0423, 0.0456, 0.0412, 0.0375, 0.0294,\n",
      "        0.0261, 0.0254, 0.0162, 0.0131, 0.0173, 0.0207, 0.0234, 0.0245, 0.0244,\n",
      "        0.0289, 0.0308, 0.0264, 0.0237, 0.0219, 0.0216, 0.0221, 0.0176, 0.0316,\n",
      "        0.0375, 0.0461, 0.0479, 0.0466, 0.0442, 0.0420, 0.0254, 0.0183, 0.0106,\n",
      "        0.0097, 0.0115, 0.0141, 0.0214, 0.0244, 0.0257], dtype=torch.float64,\n",
      "       grad_fn=<CatBackward0>)\n",
      "tensor([0.0000, 0.0000, 0.0000, 0.0000, 0.0000, 0.0000, 0.0000, 0.0000, 0.0000,\n",
      "        0.0000, 0.0000, 0.0000, 0.0000, 0.0000, 0.0000, 0.0000, 0.0000, 0.0000,\n",
      "        0.0000, 0.0000, 0.0000, 0.0000, 0.0000, 0.0000, 0.0000, 0.0000, 0.0000,\n",
      "        0.0158, 0.0158, 0.0158, 0.0158, 0.0158, 0.0158, 0.0158, 0.0000, 0.0000,\n",
      "        0.0000, 0.0079, 0.0079, 0.0079, 0.0079, 0.0158, 0.0236, 0.0236, 0.0158,\n",
      "        0.0158, 0.0236, 0.0236, 0.0158, 0.0079, 0.0079, 0.0079, 0.0079, 0.0000,\n",
      "        0.0000, 0.0000, 0.0000, 0.0079, 0.0079, 0.0079, 0.0079, 0.0079, 0.0079,\n",
      "        0.0079, 0.0000, 0.0000, 0.0000, 0.0000, 0.0079, 0.0079, 0.0079, 0.0079,\n",
      "        0.0079, 0.0079, 0.0079, 0.0000, 0.0000, 0.0000, 0.0000, 0.0000, 0.0000,\n",
      "        0.0000, 0.0000, 0.0000, 0.0000, 0.0000, 0.0000, 0.0000, 0.0158, 0.0158,\n",
      "        0.0158, 0.0158, 0.0158, 0.0158, 0.0158, 0.0000, 0.0079, 0.0079, 0.0079,\n",
      "        0.0079, 0.0079, 0.0079, 0.0079, 0.0000, 0.0000, 0.0000, 0.0000, 0.0000,\n",
      "        0.0000, 0.0000, 0.0000, 0.0000, 0.0000, 0.0000, 0.0000, 0.0000, 0.0000,\n",
      "        0.0000, 0.0000, 0.0000, 0.0000, 0.0000, 0.0000, 0.0079, 0.0079, 0.0158,\n",
      "        0.0158, 0.0158, 0.0315, 0.0315, 0.0236, 0.0236, 0.0158, 0.0158, 0.0158,\n",
      "        0.0000, 0.0000, 0.0079, 0.0079, 0.0079, 0.0079, 0.0079, 0.0158, 0.0158,\n",
      "        0.0079, 0.0079, 0.0079, 0.0079, 0.0079, 0.0000, 0.0236, 0.0236, 0.0315,\n",
      "        0.0315, 0.0315, 0.0315, 0.0315, 0.0079, 0.0079, 0.0000, 0.0000, 0.0000,\n",
      "        0.0000, 0.0079, 0.0079, 0.0079, 0.0079, 0.0079], dtype=torch.float64)\n",
      "Epoch: 99, loss: 0.00034\n",
      "tensor([0.0165, 0.0173, 0.0173, 0.0173, 0.0173, 0.0173, 0.0173, 0.0173, 0.0173,\n",
      "        0.0173, 0.0173, 0.0173, 0.0173, 0.0173, 0.0173, 0.0173, 0.0173, 0.0173,\n",
      "        0.0173, 0.0173, 0.0173, 0.0173, 0.0173, 0.0173, 0.0173, 0.0173, 0.0173,\n",
      "        0.0173, 0.0173, 0.0278, 0.0324, 0.0342, 0.0333, 0.0314, 0.0299, 0.0291,\n",
      "        0.0187, 0.0142, 0.0125, 0.0185, 0.0225, 0.0249, 0.0253, 0.0297, 0.0365,\n",
      "        0.0393, 0.0344, 0.0307, 0.0334, 0.0350, 0.0311, 0.0239, 0.0203, 0.0191,\n",
      "        0.0200, 0.0165, 0.0154, 0.0149, 0.0153, 0.0214, 0.0244, 0.0257, 0.0253,\n",
      "        0.0244, 0.0236, 0.0232, 0.0180, 0.0158, 0.0149, 0.0153, 0.0214, 0.0244,\n",
      "        0.0257, 0.0253, 0.0244, 0.0236, 0.0232, 0.0180, 0.0158, 0.0149, 0.0153,\n",
      "        0.0162, 0.0169, 0.0173, 0.0173, 0.0173, 0.0173, 0.0173, 0.0173, 0.0173,\n",
      "        0.0278, 0.0324, 0.0342, 0.0333, 0.0314, 0.0299, 0.0291, 0.0187, 0.0194,\n",
      "        0.0199, 0.0216, 0.0230, 0.0236, 0.0236, 0.0232, 0.0180, 0.0158, 0.0149,\n",
      "        0.0153, 0.0162, 0.0169, 0.0173, 0.0173, 0.0173, 0.0173, 0.0173, 0.0173,\n",
      "        0.0173, 0.0173, 0.0173, 0.0173, 0.0173, 0.0173, 0.0173, 0.0173, 0.0225,\n",
      "        0.0248, 0.0310, 0.0328, 0.0328, 0.0423, 0.0456, 0.0412, 0.0375, 0.0294,\n",
      "        0.0261, 0.0254, 0.0162, 0.0131, 0.0173, 0.0207, 0.0234, 0.0245, 0.0244,\n",
      "        0.0289, 0.0308, 0.0264, 0.0237, 0.0219, 0.0216, 0.0221, 0.0176, 0.0316,\n",
      "        0.0375, 0.0461, 0.0479, 0.0466, 0.0442, 0.0420, 0.0254, 0.0183, 0.0106,\n",
      "        0.0097, 0.0115, 0.0141, 0.0214, 0.0244, 0.0257, 0.0253, 0.0244, 0.0236,\n",
      "        0.0232], dtype=torch.float64, grad_fn=<CatBackward0>)\n",
      "tensor([0.0000, 0.0000, 0.0000, 0.0000, 0.0000, 0.0000, 0.0000, 0.0000, 0.0000,\n",
      "        0.0000, 0.0000, 0.0000, 0.0000, 0.0000, 0.0000, 0.0000, 0.0000, 0.0000,\n",
      "        0.0000, 0.0000, 0.0000, 0.0000, 0.0000, 0.0000, 0.0000, 0.0000, 0.0000,\n",
      "        0.0158, 0.0158, 0.0158, 0.0158, 0.0158, 0.0158, 0.0158, 0.0000, 0.0000,\n",
      "        0.0000, 0.0079, 0.0079, 0.0079, 0.0079, 0.0158, 0.0236, 0.0236, 0.0158,\n",
      "        0.0158, 0.0236, 0.0236, 0.0158, 0.0079, 0.0079, 0.0079, 0.0079, 0.0000,\n",
      "        0.0000, 0.0000, 0.0000, 0.0079, 0.0079, 0.0079, 0.0079, 0.0079, 0.0079,\n",
      "        0.0079, 0.0000, 0.0000, 0.0000, 0.0000, 0.0079, 0.0079, 0.0079, 0.0079,\n",
      "        0.0079, 0.0079, 0.0079, 0.0000, 0.0000, 0.0000, 0.0000, 0.0000, 0.0000,\n",
      "        0.0000, 0.0000, 0.0000, 0.0000, 0.0000, 0.0000, 0.0000, 0.0158, 0.0158,\n",
      "        0.0158, 0.0158, 0.0158, 0.0158, 0.0158, 0.0000, 0.0079, 0.0079, 0.0079,\n",
      "        0.0079, 0.0079, 0.0079, 0.0079, 0.0000, 0.0000, 0.0000, 0.0000, 0.0000,\n",
      "        0.0000, 0.0000, 0.0000, 0.0000, 0.0000, 0.0000, 0.0000, 0.0000, 0.0000,\n",
      "        0.0000, 0.0000, 0.0000, 0.0000, 0.0000, 0.0000, 0.0079, 0.0079, 0.0158,\n",
      "        0.0158, 0.0158, 0.0315, 0.0315, 0.0236, 0.0236, 0.0158, 0.0158, 0.0158,\n",
      "        0.0000, 0.0000, 0.0079, 0.0079, 0.0079, 0.0079, 0.0079, 0.0158, 0.0158,\n",
      "        0.0079, 0.0079, 0.0079, 0.0079, 0.0079, 0.0000, 0.0236, 0.0236, 0.0315,\n",
      "        0.0315, 0.0315, 0.0315, 0.0315, 0.0079, 0.0079, 0.0000, 0.0000, 0.0000,\n",
      "        0.0000, 0.0079, 0.0079, 0.0079, 0.0079, 0.0079, 0.0079, 0.0079, 0.0000,\n",
      "        0.0079], dtype=torch.float64)\n",
      "Epoch: 99, loss: 0.00018\n",
      "tensor([0.0165, 0.0173, 0.0173, 0.0173, 0.0173, 0.0173, 0.0173, 0.0173, 0.0173,\n",
      "        0.0173, 0.0173, 0.0173, 0.0173, 0.0173, 0.0173, 0.0173, 0.0173, 0.0173,\n",
      "        0.0173, 0.0173, 0.0173, 0.0173, 0.0173, 0.0173, 0.0173, 0.0173, 0.0173,\n",
      "        0.0173, 0.0173, 0.0278, 0.0324, 0.0342, 0.0333, 0.0314, 0.0299, 0.0291,\n",
      "        0.0187, 0.0142, 0.0125, 0.0185, 0.0225, 0.0249, 0.0253, 0.0297, 0.0365,\n",
      "        0.0393, 0.0344, 0.0307, 0.0334, 0.0350, 0.0311, 0.0239, 0.0203, 0.0191,\n",
      "        0.0200, 0.0165, 0.0154, 0.0149, 0.0153, 0.0214, 0.0244, 0.0257, 0.0253,\n",
      "        0.0244, 0.0236, 0.0232, 0.0180, 0.0158, 0.0149, 0.0153, 0.0214, 0.0244,\n",
      "        0.0257, 0.0253, 0.0244, 0.0236, 0.0232, 0.0180, 0.0158, 0.0149, 0.0153,\n",
      "        0.0162, 0.0169, 0.0173, 0.0173, 0.0173, 0.0173, 0.0173, 0.0173, 0.0173,\n",
      "        0.0278, 0.0324, 0.0342, 0.0333, 0.0314, 0.0299, 0.0291, 0.0187, 0.0194,\n",
      "        0.0199, 0.0216, 0.0230, 0.0236, 0.0236, 0.0232, 0.0180, 0.0158, 0.0149,\n",
      "        0.0153, 0.0162, 0.0169, 0.0173, 0.0173, 0.0173, 0.0173, 0.0173, 0.0173,\n",
      "        0.0173, 0.0173, 0.0173, 0.0173, 0.0173, 0.0173, 0.0173, 0.0173, 0.0225,\n",
      "        0.0248, 0.0310, 0.0328, 0.0328, 0.0423, 0.0456, 0.0412, 0.0375, 0.0294,\n",
      "        0.0261, 0.0254, 0.0162, 0.0131, 0.0173, 0.0207, 0.0234, 0.0245, 0.0244,\n",
      "        0.0289, 0.0308, 0.0264, 0.0237, 0.0219, 0.0216, 0.0221, 0.0176, 0.0316,\n",
      "        0.0375, 0.0461, 0.0479, 0.0466, 0.0442, 0.0420, 0.0254, 0.0183, 0.0106,\n",
      "        0.0097, 0.0115, 0.0141, 0.0214, 0.0244, 0.0257, 0.0253, 0.0244, 0.0236,\n",
      "        0.0232, 0.0180, 0.0210, 0.0224, 0.0237], dtype=torch.float64,\n",
      "       grad_fn=<CatBackward0>)\n",
      "tensor([0.0000, 0.0000, 0.0000, 0.0000, 0.0000, 0.0000, 0.0000, 0.0000, 0.0000,\n",
      "        0.0000, 0.0000, 0.0000, 0.0000, 0.0000, 0.0000, 0.0000, 0.0000, 0.0000,\n",
      "        0.0000, 0.0000, 0.0000, 0.0000, 0.0000, 0.0000, 0.0000, 0.0000, 0.0000,\n",
      "        0.0158, 0.0158, 0.0158, 0.0158, 0.0158, 0.0158, 0.0158, 0.0000, 0.0000,\n",
      "        0.0000, 0.0079, 0.0079, 0.0079, 0.0079, 0.0158, 0.0236, 0.0236, 0.0158,\n",
      "        0.0158, 0.0236, 0.0236, 0.0158, 0.0079, 0.0079, 0.0079, 0.0079, 0.0000,\n",
      "        0.0000, 0.0000, 0.0000, 0.0079, 0.0079, 0.0079, 0.0079, 0.0079, 0.0079,\n",
      "        0.0079, 0.0000, 0.0000, 0.0000, 0.0000, 0.0079, 0.0079, 0.0079, 0.0079,\n",
      "        0.0079, 0.0079, 0.0079, 0.0000, 0.0000, 0.0000, 0.0000, 0.0000, 0.0000,\n",
      "        0.0000, 0.0000, 0.0000, 0.0000, 0.0000, 0.0000, 0.0000, 0.0158, 0.0158,\n",
      "        0.0158, 0.0158, 0.0158, 0.0158, 0.0158, 0.0000, 0.0079, 0.0079, 0.0079,\n",
      "        0.0079, 0.0079, 0.0079, 0.0079, 0.0000, 0.0000, 0.0000, 0.0000, 0.0000,\n",
      "        0.0000, 0.0000, 0.0000, 0.0000, 0.0000, 0.0000, 0.0000, 0.0000, 0.0000,\n",
      "        0.0000, 0.0000, 0.0000, 0.0000, 0.0000, 0.0000, 0.0079, 0.0079, 0.0158,\n",
      "        0.0158, 0.0158, 0.0315, 0.0315, 0.0236, 0.0236, 0.0158, 0.0158, 0.0158,\n",
      "        0.0000, 0.0000, 0.0079, 0.0079, 0.0079, 0.0079, 0.0079, 0.0158, 0.0158,\n",
      "        0.0079, 0.0079, 0.0079, 0.0079, 0.0079, 0.0000, 0.0236, 0.0236, 0.0315,\n",
      "        0.0315, 0.0315, 0.0315, 0.0315, 0.0079, 0.0079, 0.0000, 0.0000, 0.0000,\n",
      "        0.0000, 0.0079, 0.0079, 0.0079, 0.0079, 0.0079, 0.0079, 0.0079, 0.0000,\n",
      "        0.0079, 0.0079, 0.0079, 0.0079, 0.0079], dtype=torch.float64)\n",
      "Epoch: 99, loss: 0.00041\n",
      "tensor([0.0165, 0.0173, 0.0173, 0.0173, 0.0173, 0.0173, 0.0173, 0.0173, 0.0173,\n",
      "        0.0173, 0.0173, 0.0173, 0.0173, 0.0173, 0.0173, 0.0173, 0.0173, 0.0173,\n",
      "        0.0173, 0.0173, 0.0173, 0.0173, 0.0173, 0.0173, 0.0173, 0.0173, 0.0173,\n",
      "        0.0173, 0.0173, 0.0278, 0.0324, 0.0342, 0.0333, 0.0314, 0.0299, 0.0291,\n",
      "        0.0187, 0.0142, 0.0125, 0.0185, 0.0225, 0.0249, 0.0253, 0.0297, 0.0365,\n",
      "        0.0393, 0.0344, 0.0307, 0.0334, 0.0350, 0.0311, 0.0239, 0.0203, 0.0191,\n",
      "        0.0200, 0.0165, 0.0154, 0.0149, 0.0153, 0.0214, 0.0244, 0.0257, 0.0253,\n",
      "        0.0244, 0.0236, 0.0232, 0.0180, 0.0158, 0.0149, 0.0153, 0.0214, 0.0244,\n",
      "        0.0257, 0.0253, 0.0244, 0.0236, 0.0232, 0.0180, 0.0158, 0.0149, 0.0153,\n",
      "        0.0162, 0.0169, 0.0173, 0.0173, 0.0173, 0.0173, 0.0173, 0.0173, 0.0173,\n",
      "        0.0278, 0.0324, 0.0342, 0.0333, 0.0314, 0.0299, 0.0291, 0.0187, 0.0194,\n",
      "        0.0199, 0.0216, 0.0230, 0.0236, 0.0236, 0.0232, 0.0180, 0.0158, 0.0149,\n",
      "        0.0153, 0.0162, 0.0169, 0.0173, 0.0173, 0.0173, 0.0173, 0.0173, 0.0173,\n",
      "        0.0173, 0.0173, 0.0173, 0.0173, 0.0173, 0.0173, 0.0173, 0.0173, 0.0225,\n",
      "        0.0248, 0.0310, 0.0328, 0.0328, 0.0423, 0.0456, 0.0412, 0.0375, 0.0294,\n",
      "        0.0261, 0.0254, 0.0162, 0.0131, 0.0173, 0.0207, 0.0234, 0.0245, 0.0244,\n",
      "        0.0289, 0.0308, 0.0264, 0.0237, 0.0219, 0.0216, 0.0221, 0.0176, 0.0316,\n",
      "        0.0375, 0.0461, 0.0479, 0.0466, 0.0442, 0.0420, 0.0254, 0.0183, 0.0106,\n",
      "        0.0097, 0.0115, 0.0141, 0.0214, 0.0244, 0.0257, 0.0253, 0.0244, 0.0236,\n",
      "        0.0232, 0.0180, 0.0210, 0.0224, 0.0237, 0.0241, 0.0240, 0.0236, 0.0232],\n",
      "       dtype=torch.float64, grad_fn=<CatBackward0>)\n",
      "tensor([0.0000, 0.0000, 0.0000, 0.0000, 0.0000, 0.0000, 0.0000, 0.0000, 0.0000,\n",
      "        0.0000, 0.0000, 0.0000, 0.0000, 0.0000, 0.0000, 0.0000, 0.0000, 0.0000,\n",
      "        0.0000, 0.0000, 0.0000, 0.0000, 0.0000, 0.0000, 0.0000, 0.0000, 0.0000,\n",
      "        0.0158, 0.0158, 0.0158, 0.0158, 0.0158, 0.0158, 0.0158, 0.0000, 0.0000,\n",
      "        0.0000, 0.0079, 0.0079, 0.0079, 0.0079, 0.0158, 0.0236, 0.0236, 0.0158,\n",
      "        0.0158, 0.0236, 0.0236, 0.0158, 0.0079, 0.0079, 0.0079, 0.0079, 0.0000,\n",
      "        0.0000, 0.0000, 0.0000, 0.0079, 0.0079, 0.0079, 0.0079, 0.0079, 0.0079,\n",
      "        0.0079, 0.0000, 0.0000, 0.0000, 0.0000, 0.0079, 0.0079, 0.0079, 0.0079,\n",
      "        0.0079, 0.0079, 0.0079, 0.0000, 0.0000, 0.0000, 0.0000, 0.0000, 0.0000,\n",
      "        0.0000, 0.0000, 0.0000, 0.0000, 0.0000, 0.0000, 0.0000, 0.0158, 0.0158,\n",
      "        0.0158, 0.0158, 0.0158, 0.0158, 0.0158, 0.0000, 0.0079, 0.0079, 0.0079,\n",
      "        0.0079, 0.0079, 0.0079, 0.0079, 0.0000, 0.0000, 0.0000, 0.0000, 0.0000,\n",
      "        0.0000, 0.0000, 0.0000, 0.0000, 0.0000, 0.0000, 0.0000, 0.0000, 0.0000,\n",
      "        0.0000, 0.0000, 0.0000, 0.0000, 0.0000, 0.0000, 0.0079, 0.0079, 0.0158,\n",
      "        0.0158, 0.0158, 0.0315, 0.0315, 0.0236, 0.0236, 0.0158, 0.0158, 0.0158,\n",
      "        0.0000, 0.0000, 0.0079, 0.0079, 0.0079, 0.0079, 0.0079, 0.0158, 0.0158,\n",
      "        0.0079, 0.0079, 0.0079, 0.0079, 0.0079, 0.0000, 0.0236, 0.0236, 0.0315,\n",
      "        0.0315, 0.0315, 0.0315, 0.0315, 0.0079, 0.0079, 0.0000, 0.0000, 0.0000,\n",
      "        0.0000, 0.0079, 0.0079, 0.0079, 0.0079, 0.0079, 0.0079, 0.0079, 0.0000,\n",
      "        0.0079, 0.0079, 0.0079, 0.0079, 0.0079, 0.0079, 0.0079, 0.0000, 0.0000],\n",
      "       dtype=torch.float64)\n",
      "Epoch: 99, loss: 0.00026\n",
      "tensor([0.0165, 0.0173, 0.0173, 0.0173, 0.0173, 0.0173, 0.0173, 0.0173, 0.0173,\n",
      "        0.0173, 0.0173, 0.0173, 0.0173, 0.0173, 0.0173, 0.0173, 0.0173, 0.0173,\n",
      "        0.0173, 0.0173, 0.0173, 0.0173, 0.0173, 0.0173, 0.0173, 0.0173, 0.0173,\n",
      "        0.0173, 0.0173, 0.0278, 0.0324, 0.0342, 0.0333, 0.0314, 0.0299, 0.0291,\n",
      "        0.0187, 0.0142, 0.0125, 0.0185, 0.0225, 0.0249, 0.0253, 0.0297, 0.0365,\n",
      "        0.0393, 0.0344, 0.0307, 0.0334, 0.0350, 0.0311, 0.0239, 0.0203, 0.0191,\n",
      "        0.0200, 0.0165, 0.0154, 0.0149, 0.0153, 0.0214, 0.0244, 0.0257, 0.0253,\n",
      "        0.0244, 0.0236, 0.0232, 0.0180, 0.0158, 0.0149, 0.0153, 0.0214, 0.0244,\n",
      "        0.0257, 0.0253, 0.0244, 0.0236, 0.0232, 0.0180, 0.0158, 0.0149, 0.0153,\n",
      "        0.0162, 0.0169, 0.0173, 0.0173, 0.0173, 0.0173, 0.0173, 0.0173, 0.0173,\n",
      "        0.0278, 0.0324, 0.0342, 0.0333, 0.0314, 0.0299, 0.0291, 0.0187, 0.0194,\n",
      "        0.0199, 0.0216, 0.0230, 0.0236, 0.0236, 0.0232, 0.0180, 0.0158, 0.0149,\n",
      "        0.0153, 0.0162, 0.0169, 0.0173, 0.0173, 0.0173, 0.0173, 0.0173, 0.0173,\n",
      "        0.0173, 0.0173, 0.0173, 0.0173, 0.0173, 0.0173, 0.0173, 0.0173, 0.0225,\n",
      "        0.0248, 0.0310, 0.0328, 0.0328, 0.0423, 0.0456, 0.0412, 0.0375, 0.0294,\n",
      "        0.0261, 0.0254, 0.0162, 0.0131, 0.0173, 0.0207, 0.0234, 0.0245, 0.0244,\n",
      "        0.0289, 0.0308, 0.0264, 0.0237, 0.0219, 0.0216, 0.0221, 0.0176, 0.0316,\n",
      "        0.0375, 0.0461, 0.0479, 0.0466, 0.0442, 0.0420, 0.0254, 0.0183, 0.0106,\n",
      "        0.0097, 0.0115, 0.0141, 0.0214, 0.0244, 0.0257, 0.0253, 0.0244, 0.0236,\n",
      "        0.0232, 0.0180, 0.0210, 0.0224, 0.0237, 0.0241, 0.0240, 0.0236, 0.0232,\n",
      "        0.0180, 0.0158, 0.0149, 0.0153], dtype=torch.float64,\n",
      "       grad_fn=<CatBackward0>)\n",
      "tensor([0.0000, 0.0000, 0.0000, 0.0000, 0.0000, 0.0000, 0.0000, 0.0000, 0.0000,\n",
      "        0.0000, 0.0000, 0.0000, 0.0000, 0.0000, 0.0000, 0.0000, 0.0000, 0.0000,\n",
      "        0.0000, 0.0000, 0.0000, 0.0000, 0.0000, 0.0000, 0.0000, 0.0000, 0.0000,\n",
      "        0.0158, 0.0158, 0.0158, 0.0158, 0.0158, 0.0158, 0.0158, 0.0000, 0.0000,\n",
      "        0.0000, 0.0079, 0.0079, 0.0079, 0.0079, 0.0158, 0.0236, 0.0236, 0.0158,\n",
      "        0.0158, 0.0236, 0.0236, 0.0158, 0.0079, 0.0079, 0.0079, 0.0079, 0.0000,\n",
      "        0.0000, 0.0000, 0.0000, 0.0079, 0.0079, 0.0079, 0.0079, 0.0079, 0.0079,\n",
      "        0.0079, 0.0000, 0.0000, 0.0000, 0.0000, 0.0079, 0.0079, 0.0079, 0.0079,\n",
      "        0.0079, 0.0079, 0.0079, 0.0000, 0.0000, 0.0000, 0.0000, 0.0000, 0.0000,\n",
      "        0.0000, 0.0000, 0.0000, 0.0000, 0.0000, 0.0000, 0.0000, 0.0158, 0.0158,\n",
      "        0.0158, 0.0158, 0.0158, 0.0158, 0.0158, 0.0000, 0.0079, 0.0079, 0.0079,\n",
      "        0.0079, 0.0079, 0.0079, 0.0079, 0.0000, 0.0000, 0.0000, 0.0000, 0.0000,\n",
      "        0.0000, 0.0000, 0.0000, 0.0000, 0.0000, 0.0000, 0.0000, 0.0000, 0.0000,\n",
      "        0.0000, 0.0000, 0.0000, 0.0000, 0.0000, 0.0000, 0.0079, 0.0079, 0.0158,\n",
      "        0.0158, 0.0158, 0.0315, 0.0315, 0.0236, 0.0236, 0.0158, 0.0158, 0.0158,\n",
      "        0.0000, 0.0000, 0.0079, 0.0079, 0.0079, 0.0079, 0.0079, 0.0158, 0.0158,\n",
      "        0.0079, 0.0079, 0.0079, 0.0079, 0.0079, 0.0000, 0.0236, 0.0236, 0.0315,\n",
      "        0.0315, 0.0315, 0.0315, 0.0315, 0.0079, 0.0079, 0.0000, 0.0000, 0.0000,\n",
      "        0.0000, 0.0079, 0.0079, 0.0079, 0.0079, 0.0079, 0.0079, 0.0079, 0.0000,\n",
      "        0.0079, 0.0079, 0.0079, 0.0079, 0.0079, 0.0079, 0.0079, 0.0000, 0.0000,\n",
      "        0.0000, 0.0000, 0.0000, 0.0000], dtype=torch.float64)\n",
      "Epoch: 99, loss: 0.00029\n",
      "tensor([0.0165, 0.0173, 0.0173, 0.0173, 0.0173, 0.0173, 0.0173, 0.0173, 0.0173,\n",
      "        0.0173, 0.0173, 0.0173, 0.0173, 0.0173, 0.0173, 0.0173, 0.0173, 0.0173,\n",
      "        0.0173, 0.0173, 0.0173, 0.0173, 0.0173, 0.0173, 0.0173, 0.0173, 0.0173,\n",
      "        0.0173, 0.0173, 0.0278, 0.0324, 0.0342, 0.0333, 0.0314, 0.0299, 0.0291,\n",
      "        0.0187, 0.0142, 0.0125, 0.0185, 0.0225, 0.0249, 0.0253, 0.0297, 0.0365,\n",
      "        0.0393, 0.0344, 0.0307, 0.0334, 0.0350, 0.0311, 0.0239, 0.0203, 0.0191,\n",
      "        0.0200, 0.0165, 0.0154, 0.0149, 0.0153, 0.0214, 0.0244, 0.0257, 0.0253,\n",
      "        0.0244, 0.0236, 0.0232, 0.0180, 0.0158, 0.0149, 0.0153, 0.0214, 0.0244,\n",
      "        0.0257, 0.0253, 0.0244, 0.0236, 0.0232, 0.0180, 0.0158, 0.0149, 0.0153,\n",
      "        0.0162, 0.0169, 0.0173, 0.0173, 0.0173, 0.0173, 0.0173, 0.0173, 0.0173,\n",
      "        0.0278, 0.0324, 0.0342, 0.0333, 0.0314, 0.0299, 0.0291, 0.0187, 0.0194,\n",
      "        0.0199, 0.0216, 0.0230, 0.0236, 0.0236, 0.0232, 0.0180, 0.0158, 0.0149,\n",
      "        0.0153, 0.0162, 0.0169, 0.0173, 0.0173, 0.0173, 0.0173, 0.0173, 0.0173,\n",
      "        0.0173, 0.0173, 0.0173, 0.0173, 0.0173, 0.0173, 0.0173, 0.0173, 0.0225,\n",
      "        0.0248, 0.0310, 0.0328, 0.0328, 0.0423, 0.0456, 0.0412, 0.0375, 0.0294,\n",
      "        0.0261, 0.0254, 0.0162, 0.0131, 0.0173, 0.0207, 0.0234, 0.0245, 0.0244,\n",
      "        0.0289, 0.0308, 0.0264, 0.0237, 0.0219, 0.0216, 0.0221, 0.0176, 0.0316,\n",
      "        0.0375, 0.0461, 0.0479, 0.0466, 0.0442, 0.0420, 0.0254, 0.0183, 0.0106,\n",
      "        0.0097, 0.0115, 0.0141, 0.0214, 0.0244, 0.0257, 0.0253, 0.0244, 0.0236,\n",
      "        0.0232, 0.0180, 0.0210, 0.0224, 0.0237, 0.0241, 0.0240, 0.0236, 0.0232,\n",
      "        0.0180, 0.0158, 0.0149, 0.0153, 0.0162, 0.0169, 0.0173, 0.0173],\n",
      "       dtype=torch.float64, grad_fn=<CatBackward0>)\n",
      "tensor([0.0000, 0.0000, 0.0000, 0.0000, 0.0000, 0.0000, 0.0000, 0.0000, 0.0000,\n",
      "        0.0000, 0.0000, 0.0000, 0.0000, 0.0000, 0.0000, 0.0000, 0.0000, 0.0000,\n",
      "        0.0000, 0.0000, 0.0000, 0.0000, 0.0000, 0.0000, 0.0000, 0.0000, 0.0000,\n",
      "        0.0158, 0.0158, 0.0158, 0.0158, 0.0158, 0.0158, 0.0158, 0.0000, 0.0000,\n",
      "        0.0000, 0.0079, 0.0079, 0.0079, 0.0079, 0.0158, 0.0236, 0.0236, 0.0158,\n",
      "        0.0158, 0.0236, 0.0236, 0.0158, 0.0079, 0.0079, 0.0079, 0.0079, 0.0000,\n",
      "        0.0000, 0.0000, 0.0000, 0.0079, 0.0079, 0.0079, 0.0079, 0.0079, 0.0079,\n",
      "        0.0079, 0.0000, 0.0000, 0.0000, 0.0000, 0.0079, 0.0079, 0.0079, 0.0079,\n",
      "        0.0079, 0.0079, 0.0079, 0.0000, 0.0000, 0.0000, 0.0000, 0.0000, 0.0000,\n",
      "        0.0000, 0.0000, 0.0000, 0.0000, 0.0000, 0.0000, 0.0000, 0.0158, 0.0158,\n",
      "        0.0158, 0.0158, 0.0158, 0.0158, 0.0158, 0.0000, 0.0079, 0.0079, 0.0079,\n",
      "        0.0079, 0.0079, 0.0079, 0.0079, 0.0000, 0.0000, 0.0000, 0.0000, 0.0000,\n",
      "        0.0000, 0.0000, 0.0000, 0.0000, 0.0000, 0.0000, 0.0000, 0.0000, 0.0000,\n",
      "        0.0000, 0.0000, 0.0000, 0.0000, 0.0000, 0.0000, 0.0079, 0.0079, 0.0158,\n",
      "        0.0158, 0.0158, 0.0315, 0.0315, 0.0236, 0.0236, 0.0158, 0.0158, 0.0158,\n",
      "        0.0000, 0.0000, 0.0079, 0.0079, 0.0079, 0.0079, 0.0079, 0.0158, 0.0158,\n",
      "        0.0079, 0.0079, 0.0079, 0.0079, 0.0079, 0.0000, 0.0236, 0.0236, 0.0315,\n",
      "        0.0315, 0.0315, 0.0315, 0.0315, 0.0079, 0.0079, 0.0000, 0.0000, 0.0000,\n",
      "        0.0000, 0.0079, 0.0079, 0.0079, 0.0079, 0.0079, 0.0079, 0.0079, 0.0000,\n",
      "        0.0079, 0.0079, 0.0079, 0.0079, 0.0079, 0.0079, 0.0079, 0.0000, 0.0000,\n",
      "        0.0000, 0.0000, 0.0000, 0.0000, 0.0000, 0.0000, 0.0000, 0.0000],\n",
      "       dtype=torch.float64)\n"
     ]
    }
   ],
   "source": [
    "criterion = torch.nn.MSELoss()\n",
    "out_list = []\n",
    "target = []\n",
    "# Train the model\n",
    "for x, y in test_loader:\n",
    "    outputs,_ = lstm(x)\n",
    "    optimizer.zero_grad()\n",
    "    # obtain the loss function\n",
    "    loss1 = criterion(outputs, y)\n",
    "    out_list.append(outputs)\n",
    "    target.append(y)\n",
    "    if (epoch +1) % 2 == 0:\n",
    "        print(\"Epoch: %d, loss: %1.5f\" % (epoch, loss1.item()))\n",
    "    T = torch.cat(out_list)\n",
    "    Y = torch.cat(target)\n",
    "    print(T)\n",
    "    print(Y)"
   ]
  },
  {
   "cell_type": "code",
   "execution_count": 35,
   "metadata": {},
   "outputs": [
    {
     "data": {
      "image/png": "[encoded data removed]",
      "text/plain": [
       "<Figure size 432x288 with 1 Axes>"
      ]
     },
     "metadata": {
      "needs_background": "light"
     },
     "output_type": "display_data"
    }
   ],
   "source": [
    "plt.plot(T.detach().numpy())\n",
    "plt.plot(Y.detach().numpy())\n",
    "loss1 = criterion(T, Y)\n",
    "plt.title(\"{:.8f}\".format(loss1.item()))\n",
    "plt.grid()\n",
    "plt.show()"
   ]
  },
  {
   "cell_type": "markdown",
   "metadata": {},
   "source": [
    "# Лаборатори 7: Даалгавар \n",
    "1. LSTM сургалт болон тестийг хэрэгжүүлэх\n",
    "2. LSTM Layer тоо, hidden_num, гэх мэт туслах параметрүүдийг өөрчлөн сургалтын алдааг багасгах\n",
    "3. Оролтын өгөгдлийн feature - ийг дахин сонгож сургалт явуулах\n",
    "4. Сургалт зөв болсон эсэхийг тестийн санд сургасан загвараар таамаглал гарган график байгуулан шалгах\n",
    "5. Тестийн алдаа болон сургалтын алдаанд дүгнэлт хийх."
   ]
  },
  {
   "cell_type": "markdown",
   "metadata": {},
   "source": [
    "# Лаборатори 8: Даалгавар \n",
    "1. Transformer сургалт болон тестийг хэрэгжүүлэх\n",
    "2. Transformer Layer тоо, hidden_num, гэх мэт туслах параметрүүдийг өөрчлөн сургалтын алдааг багасгах\n",
    "3. Оролтын өгөгдлийн feature - ийг дахин сонгож сургалт явуулах\n",
    "4. Сургалт зөв болсон эсэхийг тестийн санд сургасан загвараар таамаглал гарган график байгуулан шалгах\n",
    "5. Тестийн алдаа болон сургалтын алдаанд дүгнэлт хийх."
   ]
  },
  {
   "cell_type": "code",
   "execution_count": 36,
   "metadata": {},
   "outputs": [],
   "source": [
    "device = torch.device(\"cuda:0\" if torch.cuda.is_available() else \"cpu\")\n"
   ]
  },
  {
   "cell_type": "code",
   "execution_count": 37,
   "metadata": {},
   "outputs": [],
   "source": [
    "import torch.nn as nn\n",
    "import math\n",
    "\n",
    "class MultiHeadAttention(nn.Module):\n",
    "    '''Multi-head self-attention module'''\n",
    "    def __init__(self, D, H):\n",
    "        super(MultiHeadAttention, self).__init__()\n",
    "        self.H = H # number of heads\n",
    "        self.D = D # dimension\n",
    "        \n",
    "        self.wq = nn.Linear(D, D*H)\n",
    "        self.wk = nn.Linear(D, D*H)\n",
    "        self.wv = nn.Linear(D, D*H)\n",
    "\n",
    "        self.dense = nn.Linear(D*H, D)\n",
    "\n",
    "    def concat_heads(self, x):\n",
    "        '''(B, H, S, D) => (B, S, D*H)'''\n",
    "        B, H, S, D = x.shape\n",
    "        x = x.permute((0, 2, 1, 3)).contiguous()  # (B, S, H, D)\n",
    "        x = x.reshape((B, S, H*D))   # (B, S, D*H)\n",
    "        return x\n",
    "\n",
    "    def split_heads(self, x):\n",
    "        '''(B, S, D*H) => (B, H, S, D)'''\n",
    "        B, S, D_H = x.shape\n",
    "        x = x.reshape(B, S, self.H, self.D)    # (B, S, H, D)\n",
    "        x = x.permute((0, 2, 1, 3))  # (B, H, S, D)\n",
    "        return x\n",
    "\n",
    "    def forward(self, x, mask):\n",
    "\n",
    "        q = self.wq(x)  # (B, S, D*H)\n",
    "        k = self.wk(x)  # (B, S, D*H)\n",
    "        v = self.wv(x)  # (B, S, D*H)\n",
    "\n",
    "        q = self.split_heads(q)  # (B, H, S, D)\n",
    "        k = self.split_heads(k)  # (B, H, S, D)\n",
    "        v = self.split_heads(v)  # (B, H, S, D)\n",
    "\n",
    "        attention_scores = torch.matmul(q, k.transpose(-1, -2)) #(B,H,S,S)\n",
    "        attention_scores = attention_scores / math.sqrt(self.D)\n",
    "\n",
    "        # add the mask to the scaled tensor.\n",
    "        if mask is not None:\n",
    "            attention_scores += (mask * -1e9)\n",
    "        \n",
    "        attention_weights = nn.Softmax(dim=-1)(attention_scores)\n",
    "        scaled_attention = torch.matmul(attention_weights, v)  # (B, H, S, D)\n",
    "        concat_attention = self.concat_heads(scaled_attention) # (B, S, D*H)\n",
    "        output = self.dense(concat_attention)  # (B, S, D)\n",
    "\n",
    "        return output, attention_weights"
   ]
  },
  {
   "cell_type": "code",
   "execution_count": 38,
   "metadata": {},
   "outputs": [],
   "source": [
    "class TransformerLayer(nn.Module):\n",
    "    def __init__(self, D, H, hidden_mlp_dim, dropout_rate):\n",
    "        super(TransformerLayer, self).__init__()\n",
    "        self.dropout_rate = dropout_rate\n",
    "        self.mlp_hidden = nn.Linear(D, hidden_mlp_dim)\n",
    "        self.mlp_out = nn.Linear(hidden_mlp_dim, D)\n",
    "        self.layernorm1 = nn.LayerNorm(D, eps=1e-9)\n",
    "        self.layernorm2 = nn.LayerNorm(D, eps=1e-9)\n",
    "        self.dropout1 = nn.Dropout(dropout_rate)\n",
    "        self.dropout2 = nn.Dropout(dropout_rate)\n",
    "\n",
    "        self.mha = MultiHeadAttention(D, H)\n",
    "\n",
    "\n",
    "    def forward(self, x, look_ahead_mask):\n",
    "        \n",
    "        attn, attn_weights = self.mha(x, look_ahead_mask)  # (B, S, D)\n",
    "        attn = self.dropout1(attn) # (B,S,D)\n",
    "        attn = self.layernorm1(attn + x) # (B,S,D)\n",
    "\n",
    "        mlp_act = torch.relu(self.mlp_hidden(attn))\n",
    "        mlp_act = self.mlp_out(mlp_act)\n",
    "        mlp_act = self.dropout2(mlp_act)\n",
    "        \n",
    "        output = self.layernorm2(mlp_act + attn)  # (B, S, D)\n",
    "\n",
    "        return output, attn_weights"
   ]
  },
  {
   "cell_type": "code",
   "execution_count": 39,
   "metadata": {},
   "outputs": [],
   "source": [
    "# Positional encodings\n",
    "def get_angles(pos, i, D):\n",
    "    angle_rates = 1 / np.power(10000, (2 * (i // 2)) / np.float32(D))\n",
    "    return pos * angle_rates\n",
    "\n",
    "\n",
    "def positional_encoding(D, position=20, dim=3, device=device):\n",
    "    angle_rads = get_angles(np.arange(position)[:, np.newaxis],\n",
    "                            np.arange(D)[np.newaxis, :],\n",
    "                            D)\n",
    "    # apply sin to even indices in the array; 2i\n",
    "    angle_rads[:, 0::2] = np.sin(angle_rads[:, 0::2])\n",
    "    # apply cos to odd indices in the array; 2i+1\n",
    "    angle_rads[:, 1::2] = np.cos(angle_rads[:, 1::2])\n",
    "    if dim == 3:\n",
    "        pos_encoding = angle_rads[np.newaxis, ...]\n",
    "    elif dim == 4:\n",
    "        pos_encoding = angle_rads[np.newaxis,np.newaxis,  ...]\n",
    "    return torch.tensor(pos_encoding, device=device)"
   ]
  },
  {
   "cell_type": "code",
   "execution_count": 40,
   "metadata": {},
   "outputs": [],
   "source": [
    "# function that implement the look_ahead mask for masking future time steps. \n",
    "def create_look_ahead_mask(size, device=device):\n",
    "    mask = torch.ones((size, size), device=device)\n",
    "    mask = torch.triu(mask, diagonal=1)\n",
    "    return mask  # (size, size)"
   ]
  },
  {
   "cell_type": "code",
   "execution_count": 41,
   "metadata": {},
   "outputs": [],
   "source": [
    "class TransformerLayer(nn.Module):\n",
    "    def __init__(self, D, H, hidden_mlp_dim, dropout_rate):\n",
    "        super(TransformerLayer, self).__init__()\n",
    "        self.dropout_rate = dropout_rate\n",
    "        self.mlp_hidden = nn.Linear(D, hidden_mlp_dim)\n",
    "        self.mlp_out = nn.Linear(hidden_mlp_dim, D)\n",
    "        self.layernorm1 = nn.LayerNorm(D, eps=1e-9)\n",
    "        self.layernorm2 = nn.LayerNorm(D, eps=1e-9)\n",
    "        self.dropout1 = nn.Dropout(dropout_rate)\n",
    "        self.dropout2 = nn.Dropout(dropout_rate)\n",
    "\n",
    "        self.mha = MultiHeadAttention(D, H)\n",
    "\n",
    "\n",
    "    def forward(self, x, look_ahead_mask):\n",
    "        \n",
    "        attn, attn_weights = self.mha(x, look_ahead_mask)  # (B, S, D)\n",
    "        attn = self.dropout1(attn) # (B,S,D)\n",
    "        attn = self.layernorm1(attn + x) # (B,S,D)\n",
    "\n",
    "        mlp_act = torch.relu(self.mlp_hidden(attn))\n",
    "        mlp_act = self.mlp_out(mlp_act)\n",
    "        mlp_act = self.dropout2(mlp_act)\n",
    "        \n",
    "        output = self.layernorm2(mlp_act + attn)  # (B, S, D)\n",
    "\n",
    "        return output, attn_weights"
   ]
  },
  {
   "cell_type": "code",
   "execution_count": 42,
   "metadata": {},
   "outputs": [],
   "source": [
    "class Transformer(nn.Module):\n",
    "    '''Transformer Decoder Implementating several Decoder Layers.\n",
    "    '''\n",
    "    def __init__(self, num_layers, D, H, hidden_mlp_dim, inp_features, out_features, dropout_rate):\n",
    "        super(Transformer, self).__init__()\n",
    "        self.sqrt_D = torch.tensor(math.sqrt(D))\n",
    "        self.num_layers = num_layers\n",
    "        self.input_projection = nn.Linear(inp_features, D) # multivariate input\n",
    "        self.output_projection = nn.Linear(D, out_features) # multivariate output\n",
    "        self.pos_encoding = positional_encoding(D)\n",
    "        self.dec_layers = nn.ModuleList([TransformerLayer(D, H, hidden_mlp_dim, \n",
    "                                        dropout_rate=dropout_rate\n",
    "                                       ) for _ in range(num_layers)])\n",
    "        self.dropout = nn.Dropout(dropout_rate)\n",
    "\n",
    "    def forward(self, x, mask):\n",
    "        B, S, D = x.shape\n",
    "        attention_weights = {}\n",
    "        x = self.input_projection(x)\n",
    "        x *= self.sqrt_D\n",
    "        \n",
    "        x += self.pos_encoding[:, :S, :]\n",
    "\n",
    "        x = self.dropout(x)\n",
    "\n",
    "        for i in range(self.num_layers):\n",
    "            x, block = self.dec_layers[i](x=x,\n",
    "                                          look_ahead_mask=mask)\n",
    "            attention_weights['decoder_layer{}'.format(i + 1)] = block\n",
    "        \n",
    "        x = self.output_projection(x)\n",
    "        \n",
    "        return x, attention_weights # (B,S,S)"
   ]
  },
  {
   "cell_type": "code",
   "execution_count": 43,
   "metadata": {},
   "outputs": [],
   "source": [
    "import math\n",
    "transformer = Transformer(num_layers=1, D=32, H=4, hidden_mlp_dim=32,\n",
    "                          inp_features=1, out_features=1, dropout_rate=0.1).to(device)\n",
    "optimizer = torch.optim.RMSprop(transformer.parameters(), \n",
    "                                lr=0.00005)"
   ]
  },
  {
   "cell_type": "code",
   "execution_count": 44,
   "metadata": {},
   "outputs": [],
   "source": [
    "train_dataset = covid_dataset(train_x, train_y, seq_len=7)\n",
    "test_dataset = covid_dataset(test_x, test_y, seq_len=7)\n",
    "test_loader = torch.utils.data.DataLoader(test_dataset, batch_size=4, shuffle=False, drop_last=True)\n",
    "train_loader = torch.utils.data.DataLoader(train_dataset, batch_size = 4, shuffle = False, drop_last=True)"
   ]
  },
  {
   "cell_type": "code",
   "execution_count": 55,
   "metadata": {
    "scrolled": false
   },
   "outputs": [
    {
     "name": "stderr",
     "output_type": "stream",
     "text": [
      "  5%|████▏                                                                              | 1/20 [00:00<00:10,  1.82it/s]"
     ]
    },
    {
     "name": "stdout",
     "output_type": "stream",
     "text": [
      "[0.009807888019297804]\n"
     ]
    },
    {
     "name": "stderr",
     "output_type": "stream",
     "text": [
      "\r",
      " 10%|████████▎                                                                          | 2/20 [00:01<00:08,  2.00it/s]"
     ]
    },
    {
     "name": "stdout",
     "output_type": "stream",
     "text": [
      "[0.009807888019297804, 0.009963990311786932]\n"
     ]
    },
    {
     "name": "stderr",
     "output_type": "stream",
     "text": [
      "\r",
      " 15%|████████████▍                                                                      | 3/20 [00:01<00:08,  2.00it/s]"
     ]
    },
    {
     "name": "stdout",
     "output_type": "stream",
     "text": [
      "[0.009807888019297804, 0.009963990311786932, 0.01041162070032442]\n"
     ]
    },
    {
     "name": "stderr",
     "output_type": "stream",
     "text": [
      "\r",
      " 20%|████████████████▌                                                                  | 4/20 [00:02<00:08,  1.92it/s]"
     ]
    },
    {
     "name": "stdout",
     "output_type": "stream",
     "text": [
      "[0.009807888019297804, 0.009963990311786932, 0.01041162070032442, 0.009976238650519267]\n"
     ]
    },
    {
     "name": "stderr",
     "output_type": "stream",
     "text": [
      "\r",
      " 25%|████████████████████▊                                                              | 5/20 [00:02<00:07,  1.99it/s]"
     ]
    },
    {
     "name": "stdout",
     "output_type": "stream",
     "text": [
      "[0.009807888019297804, 0.009963990311786932, 0.01041162070032442, 0.009976238650519267, 0.010578218250884674]\n"
     ]
    },
    {
     "name": "stderr",
     "output_type": "stream",
     "text": [
      "\r",
      " 30%|████████████████████████▉                                                          | 6/20 [00:03<00:06,  2.04it/s]"
     ]
    },
    {
     "name": "stdout",
     "output_type": "stream",
     "text": [
      "[0.009807888019297804, 0.009963990311786932, 0.01041162070032442, 0.009976238650519267, 0.010578218250884674, 0.01096423583138468]\n"
     ]
    },
    {
     "name": "stderr",
     "output_type": "stream",
     "text": [
      "\r",
      " 35%|█████████████████████████████                                                      | 7/20 [00:03<00:06,  2.15it/s]"
     ]
    },
    {
     "name": "stdout",
     "output_type": "stream",
     "text": [
      "[0.009807888019297804, 0.009963990311786932, 0.01041162070032442, 0.009976238650519267, 0.010578218250884674, 0.01096423583138468, 0.010079203003052888]\n"
     ]
    },
    {
     "name": "stderr",
     "output_type": "stream",
     "text": [
      "\r",
      " 40%|█████████████████████████████████▏                                                 | 8/20 [00:03<00:05,  2.22it/s]"
     ]
    },
    {
     "name": "stdout",
     "output_type": "stream",
     "text": [
      "[0.009807888019297804, 0.009963990311786932, 0.01041162070032442, 0.009976238650519267, 0.010578218250884674, 0.01096423583138468, 0.010079203003052888, 0.011012435700519876]\n"
     ]
    },
    {
     "name": "stderr",
     "output_type": "stream",
     "text": [
      "\r",
      " 45%|█████████████████████████████████████▎                                             | 9/20 [00:04<00:04,  2.27it/s]"
     ]
    },
    {
     "name": "stdout",
     "output_type": "stream",
     "text": [
      "[0.009807888019297804, 0.009963990311786932, 0.01041162070032442, 0.009976238650519267, 0.010578218250884674, 0.01096423583138468, 0.010079203003052888, 0.011012435700519876, 0.009575020538509957]\n"
     ]
    },
    {
     "name": "stderr",
     "output_type": "stream",
     "text": [
      "\r",
      " 50%|█████████████████████████████████████████                                         | 10/20 [00:04<00:04,  2.25it/s]"
     ]
    },
    {
     "name": "stdout",
     "output_type": "stream",
     "text": [
      "[0.009807888019297804, 0.009963990311786932, 0.01041162070032442, 0.009976238650519267, 0.010578218250884674, 0.01096423583138468, 0.010079203003052888, 0.011012435700519876, 0.009575020538509957, 0.010335287634266674]\n"
     ]
    },
    {
     "name": "stderr",
     "output_type": "stream",
     "text": [
      "\r",
      " 55%|█████████████████████████████████████████████                                     | 11/20 [00:05<00:03,  2.30it/s]"
     ]
    },
    {
     "name": "stdout",
     "output_type": "stream",
     "text": [
      "[0.009807888019297804, 0.009963990311786932, 0.01041162070032442, 0.009976238650519267, 0.010578218250884674, 0.01096423583138468, 0.010079203003052888, 0.011012435700519876, 0.009575020538509957, 0.010335287634266674, 0.010092459995316208]\n"
     ]
    },
    {
     "name": "stderr",
     "output_type": "stream",
     "text": [
      "\r",
      " 60%|█████████████████████████████████████████████████▏                                | 12/20 [00:05<00:03,  2.30it/s]"
     ]
    },
    {
     "name": "stdout",
     "output_type": "stream",
     "text": [
      "[0.009807888019297804, 0.009963990311786932, 0.01041162070032442, 0.009976238650519267, 0.010578218250884674, 0.01096423583138468, 0.010079203003052888, 0.011012435700519876, 0.009575020538509957, 0.010335287634266674, 0.010092459995316208, 0.01013615530557997]\n"
     ]
    },
    {
     "name": "stderr",
     "output_type": "stream",
     "text": [
      "\r",
      " 65%|█████████████████████████████████████████████████████▎                            | 13/20 [00:05<00:03,  2.31it/s]"
     ]
    },
    {
     "name": "stdout",
     "output_type": "stream",
     "text": [
      "[0.009807888019297804, 0.009963990311786932, 0.01041162070032442, 0.009976238650519267, 0.010578218250884674, 0.01096423583138468, 0.010079203003052888, 0.011012435700519876, 0.009575020538509957, 0.010335287634266674, 0.010092459995316208, 0.01013615530557997, 0.009692527920248852]\n"
     ]
    },
    {
     "name": "stderr",
     "output_type": "stream",
     "text": [
      "\r",
      " 70%|█████████████████████████████████████████████████████████▍                        | 14/20 [00:06<00:02,  2.29it/s]"
     ]
    },
    {
     "name": "stdout",
     "output_type": "stream",
     "text": [
      "[0.009807888019297804, 0.009963990311786932, 0.01041162070032442, 0.009976238650519267, 0.010578218250884674, 0.01096423583138468, 0.010079203003052888, 0.011012435700519876, 0.009575020538509957, 0.010335287634266674, 0.010092459995316208, 0.01013615530557997, 0.009692527920248852, 0.010315659619144364]\n"
     ]
    },
    {
     "name": "stderr",
     "output_type": "stream",
     "text": [
      "\r",
      " 75%|█████████████████████████████████████████████████████████████▌                    | 15/20 [00:06<00:02,  2.29it/s]"
     ]
    },
    {
     "name": "stdout",
     "output_type": "stream",
     "text": [
      "[0.009807888019297804, 0.009963990311786932, 0.01041162070032442, 0.009976238650519267, 0.010578218250884674, 0.01096423583138468, 0.010079203003052888, 0.011012435700519876, 0.009575020538509957, 0.010335287634266674, 0.010092459995316208, 0.01013615530557997, 0.009692527920248852, 0.010315659619144364, 0.01022136973291968]\n"
     ]
    },
    {
     "name": "stderr",
     "output_type": "stream",
     "text": [
      "\r",
      " 80%|█████████████████████████████████████████████████████████████████▌                | 16/20 [00:07<00:01,  2.28it/s]"
     ]
    },
    {
     "name": "stdout",
     "output_type": "stream",
     "text": [
      "[0.009807888019297804, 0.009963990311786932, 0.01041162070032442, 0.009976238650519267, 0.010578218250884674, 0.01096423583138468, 0.010079203003052888, 0.011012435700519876, 0.009575020538509957, 0.010335287634266674, 0.010092459995316208, 0.01013615530557997, 0.009692527920248852, 0.010315659619144364, 0.01022136973291968, 0.010223146468758517]\n"
     ]
    },
    {
     "name": "stderr",
     "output_type": "stream",
     "text": [
      "\r",
      " 85%|█████████████████████████████████████████████████████████████████████▋            | 17/20 [00:07<00:01,  2.26it/s]"
     ]
    },
    {
     "name": "stdout",
     "output_type": "stream",
     "text": [
      "[0.009807888019297804, 0.009963990311786932, 0.01041162070032442, 0.009976238650519267, 0.010578218250884674, 0.01096423583138468, 0.010079203003052888, 0.011012435700519876, 0.009575020538509957, 0.010335287634266674, 0.010092459995316208, 0.01013615530557997, 0.009692527920248852, 0.010315659619144364, 0.01022136973291968, 0.010223146468758517, 0.009900048332513376]\n"
     ]
    },
    {
     "name": "stderr",
     "output_type": "stream",
     "text": [
      "\r",
      " 90%|█████████████████████████████████████████████████████████████████████████▊        | 18/20 [00:08<00:00,  2.31it/s]"
     ]
    },
    {
     "name": "stdout",
     "output_type": "stream",
     "text": [
      "[0.009807888019297804, 0.009963990311786932, 0.01041162070032442, 0.009976238650519267, 0.010578218250884674, 0.01096423583138468, 0.010079203003052888, 0.011012435700519876, 0.009575020538509957, 0.010335287634266674, 0.010092459995316208, 0.01013615530557997, 0.009692527920248852, 0.010315659619144364, 0.01022136973291968, 0.010223146468758517, 0.009900048332513376, 0.010229525339257504]\n"
     ]
    },
    {
     "name": "stderr",
     "output_type": "stream",
     "text": [
      "\r",
      " 95%|█████████████████████████████████████████████████████████████████████████████▉    | 19/20 [00:08<00:00,  2.35it/s]"
     ]
    },
    {
     "name": "stdout",
     "output_type": "stream",
     "text": [
      "[0.009807888019297804, 0.009963990311786932, 0.01041162070032442, 0.009976238650519267, 0.010578218250884674, 0.01096423583138468, 0.010079203003052888, 0.011012435700519876, 0.009575020538509957, 0.010335287634266674, 0.010092459995316208, 0.01013615530557997, 0.009692527920248852, 0.010315659619144364, 0.01022136973291968, 0.010223146468758517, 0.009900048332513376, 0.010229525339257504, 0.010370757430791855]\n"
     ]
    },
    {
     "name": "stderr",
     "output_type": "stream",
     "text": [
      "100%|██████████████████████████████████████████████████████████████████████████████████| 20/20 [00:08<00:00,  2.24it/s]"
     ]
    },
    {
     "name": "stdout",
     "output_type": "stream",
     "text": [
      "[0.009807888019297804, 0.009963990311786932, 0.01041162070032442, 0.009976238650519267, 0.010578218250884674, 0.01096423583138468, 0.010079203003052888, 0.011012435700519876, 0.009575020538509957, 0.010335287634266674, 0.010092459995316208, 0.01013615530557997, 0.009692527920248852, 0.010315659619144364, 0.01022136973291968, 0.010223146468758517, 0.009900048332513376, 0.010229525339257504, 0.010370757430791855, 0.009807075758414743]\n"
     ]
    },
    {
     "name": "stderr",
     "output_type": "stream",
     "text": [
      "\n"
     ]
    }
   ],
   "source": [
    "from tqdm import tqdm\n",
    "\n",
    "n_epochs = 20\n",
    "niter = len(train_loader)\n",
    "losses, val_losses = [], []\n",
    "\n",
    "for e in tqdm(range(n_epochs)):\n",
    "    \n",
    "    # one epoch on train set\n",
    "    transformer.train()\n",
    "    sum_train_loss = 0.0\n",
    "    for x,y in train_loader:\n",
    "#         print(x.shape)\n",
    "#         break\n",
    "        S = x.shape[1]\n",
    "        mask = create_look_ahead_mask(S)\n",
    "        out, _ = transformer(x, mask)\n",
    "        loss = torch.nn.MSELoss()(out, y)\n",
    "        sum_train_loss += loss.item()\n",
    "        loss.backward()\n",
    "        optimizer.step()\n",
    "    losses.append(sum_train_loss / niter)\n",
    "    print(losses)"
   ]
  },
  {
   "cell_type": "code",
   "execution_count": null,
   "metadata": {},
   "outputs": [],
   "source": [
    "criterion = torch.nn.MSELoss()\n",
    "out_list = []\n",
    "target = []\n",
    "# Train the model\n",
    "for x, y in test_loader:\n",
    "    outputs,_ = lstm(x)\n",
    "    optimizer.zero_grad()\n",
    "    # obtain the loss function\n",
    "    loss1 = criterion(outputs, y)\n",
    "    out_list.append(outputs)\n",
    "    target.append(y)\n",
    "    if (epoch +1) % 2 == 0:\n",
    "        print(\"Epoch: %d, loss: %1.5f\" % (epoch, loss1.item()))\n",
    "    T = torch.cat(out_list)\n",
    "    Y = torch.cat(target)\n",
    "    print(T)\n",
    "    print(Y)"
   ]
  },
  {
   "cell_type": "code",
   "execution_count": 66,
   "metadata": {
    "scrolled": true
   },
   "outputs": [
    {
     "name": "stdout",
     "output_type": "stream",
     "text": [
      "torch.Size([188])\n",
      "torch.Size([188])\n"
     ]
    },
    {
     "data": {
      "text/plain": [
       "0.000158816"
      ]
     },
     "execution_count": 66,
     "metadata": {},
     "output_type": "execute_result"
    }
   ],
   "source": [
    "test_losses, test_preds  = [], []\n",
    "out_list = []\n",
    "target = []\n",
    "transformer.eval()\n",
    "for i, (x, y) in enumerate(test_loader):\n",
    "    S = x.shape[-2]\n",
    "    y_pred, _ = transformer(x, create_look_ahead_mask(S))\n",
    "    loss_test = torch.nn.MSELoss()(y_pred, y)  # (B,S)\n",
    "    test_losses.append(loss_test.detach().numpy())\n",
    "    out_list.append(y_pred)\n",
    "    target.append(y)\n",
    "    test_preds.append(y_pred.detach().cpu().numpy())\n",
    "T = torch.cat(out_list)\n",
    "T = T[:,-1,:].view(-1) #188 188.7.1 \n",
    "Y = torch.cat(target)\n",
    "print(T.shape)\n",
    "print(Y.shape)\n",
    "test_preds = np.vstack(test_preds)\n",
    "np.mean(test_losses)"
   ]
  },
  {
   "cell_type": "code",
   "execution_count": 67,
   "metadata": {
    "scrolled": false
   },
   "outputs": [
    {
     "data": {
      "image/png": "[encoded data removed]",
      "text/plain": [
       "<Figure size 432x288 with 1 Axes>"
      ]
     },
     "metadata": {
      "needs_background": "light"
     },
     "output_type": "display_data"
    }
   ],
   "source": [
    "plt.plot(T.detach().numpy())\n",
    "plt.plot(Y.detach().numpy())\n",
    "loss1 = criterion(T, Y)\n",
    "plt.title(\"{:.8f}\".format(loss1.item()))\n",
    "plt.grid()\n",
    "plt.show()"
   ]
  },
  {
   "cell_type": "code",
   "execution_count": null,
   "metadata": {},
   "outputs": [],
   "source": []
  }
 ],
 "metadata": {
  "kernelspec": {
   "display_name": "Python 3 (ipykernel)",
   "language": "python",
   "name": "python3"
  },
  "language_info": {
   "codemirror_mode": {
    "name": "ipython",
    "version": 3
   },
   "file_extension": ".py",
   "mimetype": "text/x-python",
   "name": "python",
   "nbconvert_exporter": "python",
   "pygments_lexer": "ipython3",
   "version": "3.9.7"
  },
  "vscode": {
   "interpreter": {
    "hash": "916dbcbb3f70747c44a77c7bcd40155683ae19c65e1c03b4aa3499c5328201f1"
   }
  }
 },
 "nbformat": 4,
 "nbformat_minor": 2
}
