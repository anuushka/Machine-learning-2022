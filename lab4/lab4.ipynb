{
 "cells": [
  {
   "cell_type": "markdown",
   "metadata": {},
   "source": [
    "# Logistic regression"
   ]
  },
  {
   "cell_type": "markdown",
   "metadata": {},
   "source": [
    "Энд логистик регресс хэрхэн ажилладаг талаар тайлбарлаж, энгийн Numpy дээр хэрэгжүүлнэ.\n",
    "Логистик регресс нь хяналттай сургалтын ангиллын алгоритм бөгөөд энэ нь ангиллыг тооцоолох боломжтой гэсэн үг юм.\n",
    "label-тэй ажиглалт дээр үндэслэсэн шинэ ажиглалт хийж шалгах дасгал ажил."
   ]
  },
  {
   "cell_type": "code",
   "execution_count": 1,
   "metadata": {},
   "outputs": [],
   "source": [
    "import numpy as np\n",
    "import matplotlib.pyplot as plt\n",
    "from sklearn.linear_model import LogisticRegression\n",
    "from sklearn.datasets import make_classification\n",
    "%matplotlib inline"
   ]
  },
  {
   "cell_type": "markdown",
   "metadata": {},
   "source": [
    "## Өгөгдлийн сан үүсгэх"
   ]
  },
  {
   "cell_type": "markdown",
   "metadata": {},
   "source": [
    "Зөвхөн 100 ажиглалт, 2 онцлог бүхий хоёртын ангиллын бодлогод логистик регрессийг хэрэглэе."
   ]
  },
  {
   "cell_type": "code",
   "execution_count": 22,
   "metadata": {},
   "outputs": [
    {
     "name": "stdout",
     "output_type": "stream",
     "text": [
      "[[ 1.23020423e+00 -9.87179836e-01]\n",
      " [-7.01939166e-01  3.17631796e-01]\n",
      " [-1.08751331e+00  1.61578263e+00]\n",
      " [-9.00803838e-01 -1.57968969e+00]\n",
      " [-1.46031271e+00  7.29759487e-01]\n",
      " [-1.24104620e+00  6.89266237e-01]\n",
      " [-2.04789476e+00 -7.66457149e-01]\n",
      " [-1.28266283e+00  4.81785391e-01]\n",
      " [ 7.44473957e-01  1.41311226e+00]\n",
      " [-2.78030289e+00 -5.34775584e-01]\n",
      " [-8.45582306e-01 -6.27896560e-01]\n",
      " [ 2.92390384e-01 -1.29187498e+00]\n",
      " [ 5.23676999e-01 -7.62128373e-01]\n",
      " [ 6.30503424e-01  1.80146793e+00]\n",
      " [ 2.54404497e+00  2.61425892e-01]\n",
      " [-7.15060658e-02 -1.04404916e-01]\n",
      " [-3.70488129e-01  1.42031763e+00]\n",
      " [ 2.08422059e+00 -1.44666827e+00]\n",
      " [-6.89671916e-01 -1.65752878e-01]\n",
      " [ 1.87867631e+00  2.24412997e-01]\n",
      " [-7.72578199e-01 -5.84716655e-02]\n",
      " [ 1.03948915e+00 -1.20154228e+00]\n",
      " [-5.93619101e-01 -1.09787720e+00]\n",
      " [-9.22514239e-01  1.43979166e+00]\n",
      " [ 4.26311244e+00 -6.82660376e-03]\n",
      " [-7.03134918e-01  2.16325750e+00]\n",
      " [ 7.08682975e-01  7.66583441e-01]\n",
      " [ 6.39970005e-01 -9.54428653e-01]\n",
      " [ 9.82998091e-01  7.35512588e-01]\n",
      " [-6.84726338e-01 -5.86407105e-01]\n",
      " [-6.30397300e-01 -9.64799582e-01]\n",
      " [-1.26796367e+00  1.53291452e+00]\n",
      " [-1.36148320e+00  1.79598318e+00]\n",
      " [-8.91267378e-01  1.64430600e+00]\n",
      " [ 7.88314745e-01  1.15731186e+00]\n",
      " [ 1.46967086e+00  1.10030048e+00]\n",
      " [ 1.80571435e+00 -9.25020399e-01]\n",
      " [ 3.60195657e-02  1.36402640e+00]\n",
      " [-2.60560957e-01 -1.28781804e+00]\n",
      " [-7.07196330e-01  1.35972606e+00]\n",
      " [-6.05677634e-01 -1.24915860e+00]\n",
      " [-4.08944927e-01 -6.56846503e-01]\n",
      " [-1.66510772e+00  1.05551186e+00]\n",
      " [-6.49629237e-01  4.54500094e-01]\n",
      " [ 1.03375201e+00 -1.26559209e+00]\n",
      " [-6.49261104e-01 -1.24619480e+00]\n",
      " [ 1.08996755e+00 -5.50755395e-01]\n",
      " [-1.04740113e+00 -7.51056834e-02]\n",
      " [-1.36825634e+00 -3.94384567e-01]\n",
      " [-9.78070664e-01  6.06796774e-01]\n",
      " [ 9.56141896e-01 -9.14023386e-01]\n",
      " [-8.99895887e-01  8.22986158e-01]\n",
      " [ 1.61802900e+00 -1.15364277e+00]\n",
      " [ 3.73560817e-01  1.66344493e+00]\n",
      " [-1.34723572e+00  6.50371568e-01]\n",
      " [ 5.96843559e-01 -9.92013476e-01]\n",
      " [ 1.31561901e+00 -1.06781948e+00]\n",
      " [ 2.88861254e+00 -1.02170728e+00]\n",
      " [-1.48365179e+00 -1.11449015e+00]\n",
      " [ 1.63964213e+00  7.55861458e-01]\n",
      " [-7.14560291e-01 -7.64059217e-01]\n",
      " [ 4.18128707e-01 -1.00174936e+00]\n",
      " [-1.26155679e+00 -1.19685818e+00]\n",
      " [-7.02234270e-01 -1.70531937e+00]\n",
      " [-6.60866358e-01 -1.03167318e+00]\n",
      " [ 1.13889499e+00 -8.80015705e-01]\n",
      " [ 1.31515134e+00 -9.79232739e-01]\n",
      " [-1.31862667e+00 -7.89816228e-01]\n",
      " [-7.54196992e-01  4.29347537e-01]\n",
      " [-8.67852912e-01 -1.01767522e+00]\n",
      " [-8.73997503e-01  9.20364276e-01]\n",
      " [ 1.65320434e-01 -2.56914453e+00]\n",
      " [-1.18874275e+00 -1.76741958e+00]\n",
      " [-1.00827143e+00  2.55795745e-01]\n",
      " [ 1.48071474e+00  2.20950686e-01]\n",
      " [-1.06169475e+00 -8.04171891e-01]\n",
      " [-1.84995612e+00 -1.54364540e+00]\n",
      " [ 1.37759408e+00 -1.56545575e+00]\n",
      " [-1.68857418e+00  1.95206630e+00]\n",
      " [ 2.41102645e+00 -3.86136046e-01]\n",
      " [ 7.32221941e-01 -9.80644217e-01]\n",
      " [ 1.32246403e+00  8.21264579e-01]\n",
      " [ 8.42447759e-01  7.37913925e-01]\n",
      " [ 4.90492214e-01  2.28083568e+00]\n",
      " [-3.51515044e-01 -2.20490975e-01]\n",
      " [ 1.42292475e+00  7.48498387e-01]\n",
      " [-9.33826958e-01  1.25818972e+00]\n",
      " [ 1.94422892e+00  3.24620162e-01]\n",
      " [-9.05696758e-01  7.37192179e-01]\n",
      " [ 2.29753397e+00  1.85131476e-01]\n",
      " [ 1.25205858e+00  3.84814049e-01]\n",
      " [-2.17706432e+00 -2.78507603e-02]\n",
      " [-1.11157673e+00 -2.06613892e+00]\n",
      " [-1.87523145e+00 -5.59375440e-01]\n",
      " [ 7.30809497e-01  8.01285335e-01]\n",
      " [ 1.63179683e+00 -8.52007835e-01]\n",
      " [-6.99185432e-01  1.22076153e+00]\n",
      " [ 3.78315099e-02  1.52137879e+00]\n",
      " [ 1.70120009e+00 -6.16977167e-01]\n",
      " [-1.43842791e+00  2.30633484e-03]]\n",
      "[1 0 0 0 0 0 0 0 1 0 0 1 1 1 1 0 1 1 0 1 0 1 1 0 1 1 1 1 1 0 0 0 0 0 1 1 1\n",
      " 1 1 0 0 0 0 0 1 1 1 0 0 0 1 0 1 1 0 1 1 1 0 1 0 1 0 0 1 1 1 0 0 0 0 0 0 0\n",
      " 1 0 0 1 0 1 1 1 1 1 0 1 0 1 0 1 1 0 0 0 1 1 0 1 1 0]\n",
      "(100, 2)\n"
     ]
    }
   ],
   "source": [
    "X, y = make_classification(\n",
    "        n_samples=100, \n",
    "        n_features=2,\n",
    "        n_redundant=0,\n",
    "        n_informative=2,\n",
    "        random_state=10, \n",
    "        n_clusters_per_class=2)\n",
    "print(X)\n",
    "print(y)\n",
    "print(X.shape)"
   ]
  },
  {
   "cell_type": "code",
   "execution_count": 3,
   "metadata": {},
   "outputs": [
    {
     "data": {
      "text/plain": [
       "Text(0, 0.5, '$X_2$')"
      ]
     },
     "execution_count": 3,
     "metadata": {},
     "output_type": "execute_result"
    },
    {
     "data": {
      "image/png": "[encoded data removed]",
      "text/plain": [
       "<Figure size 432x288 with 1 Axes>"
      ]
     },
     "metadata": {
      "needs_background": "light"
     },
     "output_type": "display_data"
    }
   ],
   "source": [
    "plt.scatter(X[:, 0], X[:, 1], c=y.ravel(), s=40, cmap=plt.cm.Spectral)\n",
    "plt.xlabel(\"$X_1$\")\n",
    "plt.ylabel(\"$X_2$\")\n",
    "# blue dots = 1, red dots = 0"
   ]
  },
  {
   "cell_type": "markdown",
   "metadata": {},
   "source": [
    "Бидэнд $X$ 2 feature-тэй $\\theta$ гэсэн 100 ажиглалт байгаа бөгөөд тэдгээрийн $y$ label-ийг бид мэднэ. Бид шинэ ажиглалтын label-ийг таамаглах боломжтой юу?"
   ]
  },
  {
   "cell_type": "markdown",
   "metadata": {},
   "source": [
    "## Logistic regression"
   ]
  },
  {
   "cell_type": "markdown",
   "metadata": {},
   "source": [
    "Логистик регресс нь ажиглалт тодорхой ангилалд хамаарах магадлалыг загварчилдаг.\n",
    "Эдгээр магадлалыг үүсгэхийн тулд логистик регресс нь **sigmoid** функцийг ашигладаг. Энэ функц нь бодит тоог 0-ээс 1-ийн хоорондох утгуудад буулгадаг.\n",
    "\n",
    "\\begin{equation} \n",
    "g(z) = \\frac{1}{1+e^{-z}}\n",
    "\\end{equation}"
   ]
  },
  {
   "cell_type": "markdown",
   "metadata": {},
   "source": [
    "Дараах байдлаар таамаглалыг тодорхойлж болно $h(X) = g(X \\theta)$\n",
    "энд \n",
    "- $\\theta$ коэффициэнт вектор.\n",
    "- $X$ нь бүх ажиглалтын вектор юм.\n",
    "\n",
    "$h(X)$ бидэнд 1 хүртэлх таамаглал өгнө,\n",
    "- хэрэв $ X \\theta \\geqslant 0 $, бол $h(X) \\geqslant 0.5$, таамаглал $y = 1$\n",
    "- хэрэв $ X \\theta < 0 $, бол $h(X) < 0.5$, таамаглал $y = 0$"
   ]
  },
  {
   "cell_type": "code",
   "execution_count": 55,
   "metadata": {},
   "outputs": [
    {
     "name": "stdout",
     "output_type": "stream",
     "text": [
      "[[ 1.00000000e+00  1.23020423e+00 -9.87179836e-01]\n",
      " [ 1.00000000e+00 -7.01939166e-01  3.17631796e-01]\n",
      " [ 1.00000000e+00 -1.08751331e+00  1.61578263e+00]\n",
      " [ 1.00000000e+00 -9.00803838e-01 -1.57968969e+00]\n",
      " [ 1.00000000e+00 -1.46031271e+00  7.29759487e-01]\n",
      " [ 1.00000000e+00 -1.24104620e+00  6.89266237e-01]\n",
      " [ 1.00000000e+00 -2.04789476e+00 -7.66457149e-01]\n",
      " [ 1.00000000e+00 -1.28266283e+00  4.81785391e-01]\n",
      " [ 1.00000000e+00  7.44473957e-01  1.41311226e+00]\n",
      " [ 1.00000000e+00 -2.78030289e+00 -5.34775584e-01]\n",
      " [ 1.00000000e+00 -8.45582306e-01 -6.27896560e-01]\n",
      " [ 1.00000000e+00  2.92390384e-01 -1.29187498e+00]\n",
      " [ 1.00000000e+00  5.23676999e-01 -7.62128373e-01]\n",
      " [ 1.00000000e+00  6.30503424e-01  1.80146793e+00]\n",
      " [ 1.00000000e+00  2.54404497e+00  2.61425892e-01]\n",
      " [ 1.00000000e+00 -7.15060658e-02 -1.04404916e-01]\n",
      " [ 1.00000000e+00 -3.70488129e-01  1.42031763e+00]\n",
      " [ 1.00000000e+00  2.08422059e+00 -1.44666827e+00]\n",
      " [ 1.00000000e+00 -6.89671916e-01 -1.65752878e-01]\n",
      " [ 1.00000000e+00  1.87867631e+00  2.24412997e-01]\n",
      " [ 1.00000000e+00 -7.72578199e-01 -5.84716655e-02]\n",
      " [ 1.00000000e+00  1.03948915e+00 -1.20154228e+00]\n",
      " [ 1.00000000e+00 -5.93619101e-01 -1.09787720e+00]\n",
      " [ 1.00000000e+00 -9.22514239e-01  1.43979166e+00]\n",
      " [ 1.00000000e+00  4.26311244e+00 -6.82660376e-03]\n",
      " [ 1.00000000e+00 -7.03134918e-01  2.16325750e+00]\n",
      " [ 1.00000000e+00  7.08682975e-01  7.66583441e-01]\n",
      " [ 1.00000000e+00  6.39970005e-01 -9.54428653e-01]\n",
      " [ 1.00000000e+00  9.82998091e-01  7.35512588e-01]\n",
      " [ 1.00000000e+00 -6.84726338e-01 -5.86407105e-01]\n",
      " [ 1.00000000e+00 -6.30397300e-01 -9.64799582e-01]\n",
      " [ 1.00000000e+00 -1.26796367e+00  1.53291452e+00]\n",
      " [ 1.00000000e+00 -1.36148320e+00  1.79598318e+00]\n",
      " [ 1.00000000e+00 -8.91267378e-01  1.64430600e+00]\n",
      " [ 1.00000000e+00  7.88314745e-01  1.15731186e+00]\n",
      " [ 1.00000000e+00  1.46967086e+00  1.10030048e+00]\n",
      " [ 1.00000000e+00  1.80571435e+00 -9.25020399e-01]\n",
      " [ 1.00000000e+00  3.60195657e-02  1.36402640e+00]\n",
      " [ 1.00000000e+00 -2.60560957e-01 -1.28781804e+00]\n",
      " [ 1.00000000e+00 -7.07196330e-01  1.35972606e+00]\n",
      " [ 1.00000000e+00 -6.05677634e-01 -1.24915860e+00]\n",
      " [ 1.00000000e+00 -4.08944927e-01 -6.56846503e-01]\n",
      " [ 1.00000000e+00 -1.66510772e+00  1.05551186e+00]\n",
      " [ 1.00000000e+00 -6.49629237e-01  4.54500094e-01]\n",
      " [ 1.00000000e+00  1.03375201e+00 -1.26559209e+00]\n",
      " [ 1.00000000e+00 -6.49261104e-01 -1.24619480e+00]\n",
      " [ 1.00000000e+00  1.08996755e+00 -5.50755395e-01]\n",
      " [ 1.00000000e+00 -1.04740113e+00 -7.51056834e-02]\n",
      " [ 1.00000000e+00 -1.36825634e+00 -3.94384567e-01]\n",
      " [ 1.00000000e+00 -9.78070664e-01  6.06796774e-01]\n",
      " [ 1.00000000e+00  9.56141896e-01 -9.14023386e-01]\n",
      " [ 1.00000000e+00 -8.99895887e-01  8.22986158e-01]\n",
      " [ 1.00000000e+00  1.61802900e+00 -1.15364277e+00]\n",
      " [ 1.00000000e+00  3.73560817e-01  1.66344493e+00]\n",
      " [ 1.00000000e+00 -1.34723572e+00  6.50371568e-01]\n",
      " [ 1.00000000e+00  5.96843559e-01 -9.92013476e-01]\n",
      " [ 1.00000000e+00  1.31561901e+00 -1.06781948e+00]\n",
      " [ 1.00000000e+00  2.88861254e+00 -1.02170728e+00]\n",
      " [ 1.00000000e+00 -1.48365179e+00 -1.11449015e+00]\n",
      " [ 1.00000000e+00  1.63964213e+00  7.55861458e-01]\n",
      " [ 1.00000000e+00 -7.14560291e-01 -7.64059217e-01]\n",
      " [ 1.00000000e+00  4.18128707e-01 -1.00174936e+00]\n",
      " [ 1.00000000e+00 -1.26155679e+00 -1.19685818e+00]\n",
      " [ 1.00000000e+00 -7.02234270e-01 -1.70531937e+00]\n",
      " [ 1.00000000e+00 -6.60866358e-01 -1.03167318e+00]\n",
      " [ 1.00000000e+00  1.13889499e+00 -8.80015705e-01]\n",
      " [ 1.00000000e+00  1.31515134e+00 -9.79232739e-01]\n",
      " [ 1.00000000e+00 -1.31862667e+00 -7.89816228e-01]\n",
      " [ 1.00000000e+00 -7.54196992e-01  4.29347537e-01]\n",
      " [ 1.00000000e+00 -8.67852912e-01 -1.01767522e+00]\n",
      " [ 1.00000000e+00 -8.73997503e-01  9.20364276e-01]\n",
      " [ 1.00000000e+00  1.65320434e-01 -2.56914453e+00]\n",
      " [ 1.00000000e+00 -1.18874275e+00 -1.76741958e+00]\n",
      " [ 1.00000000e+00 -1.00827143e+00  2.55795745e-01]\n",
      " [ 1.00000000e+00  1.48071474e+00  2.20950686e-01]\n",
      " [ 1.00000000e+00 -1.06169475e+00 -8.04171891e-01]\n",
      " [ 1.00000000e+00 -1.84995612e+00 -1.54364540e+00]\n",
      " [ 1.00000000e+00  1.37759408e+00 -1.56545575e+00]\n",
      " [ 1.00000000e+00 -1.68857418e+00  1.95206630e+00]\n",
      " [ 1.00000000e+00  2.41102645e+00 -3.86136046e-01]\n",
      " [ 1.00000000e+00  7.32221941e-01 -9.80644217e-01]\n",
      " [ 1.00000000e+00  1.32246403e+00  8.21264579e-01]\n",
      " [ 1.00000000e+00  8.42447759e-01  7.37913925e-01]\n",
      " [ 1.00000000e+00  4.90492214e-01  2.28083568e+00]\n",
      " [ 1.00000000e+00 -3.51515044e-01 -2.20490975e-01]\n",
      " [ 1.00000000e+00  1.42292475e+00  7.48498387e-01]\n",
      " [ 1.00000000e+00 -9.33826958e-01  1.25818972e+00]\n",
      " [ 1.00000000e+00  1.94422892e+00  3.24620162e-01]\n",
      " [ 1.00000000e+00 -9.05696758e-01  7.37192179e-01]\n",
      " [ 1.00000000e+00  2.29753397e+00  1.85131476e-01]\n",
      " [ 1.00000000e+00  1.25205858e+00  3.84814049e-01]\n",
      " [ 1.00000000e+00 -2.17706432e+00 -2.78507603e-02]\n",
      " [ 1.00000000e+00 -1.11157673e+00 -2.06613892e+00]\n",
      " [ 1.00000000e+00 -1.87523145e+00 -5.59375440e-01]\n",
      " [ 1.00000000e+00  7.30809497e-01  8.01285335e-01]\n",
      " [ 1.00000000e+00  1.63179683e+00 -8.52007835e-01]\n",
      " [ 1.00000000e+00 -6.99185432e-01  1.22076153e+00]\n",
      " [ 1.00000000e+00  3.78315099e-02  1.52137879e+00]\n",
      " [ 1.00000000e+00  1.70120009e+00 -6.16977167e-01]\n",
      " [ 1.00000000e+00 -1.43842791e+00  2.30633484e-03]]\n",
      "[0. 0. 0.]\n",
      "[0.5 0.5 0.5 0.5 0.5 0.5 0.5 0.5 0.5 0.5 0.5 0.5 0.5 0.5 0.5 0.5 0.5 0.5\n",
      " 0.5 0.5 0.5 0.5 0.5 0.5 0.5 0.5 0.5 0.5 0.5 0.5 0.5 0.5 0.5 0.5 0.5 0.5\n",
      " 0.5 0.5 0.5 0.5 0.5 0.5 0.5 0.5 0.5 0.5 0.5 0.5 0.5 0.5 0.5 0.5 0.5 0.5\n",
      " 0.5 0.5 0.5 0.5 0.5 0.5 0.5 0.5 0.5 0.5 0.5 0.5 0.5 0.5 0.5 0.5 0.5 0.5\n",
      " 0.5 0.5 0.5 0.5 0.5 0.5 0.5 0.5 0.5 0.5 0.5 0.5 0.5 0.5 0.5 0.5 0.5 0.5\n",
      " 0.5 0.5 0.5 0.5 0.5 0.5 0.5 0.5 0.5 0.5]\n"
     ]
    }
   ],
   "source": [
    "def add_intercept(X):\n",
    "    intercept = np.ones((X.shape[0], 1))\n",
    "    return np.concatenate((intercept, X), axis=1)\n",
    "\n",
    "def sigmoid(z):\n",
    "    return 1 / (1 + np.exp(-z))\n",
    "\n",
    "def calc_h(X, theta):\n",
    "    z = np.dot(X, theta)\n",
    "    h = sigmoid(z)\n",
    "    return h\n",
    "\n",
    "XX = add_intercept(X)\n",
    "theta = np.zeros(XX.shape[1])\n",
    "h = calc_h(XX, theta)\n",
    "\n",
    "print(XX)\n",
    "print(theta)\n",
    "print(h)"
   ]
  },
  {
   "cell_type": "markdown",
   "metadata": {},
   "source": [
    "# Loss function"
   ]
  },
  {
   "cell_type": "markdown",
   "metadata": {},
   "source": [
    "loss функцийг дараах байдалтай тодорхойлно,\n",
    "\\begin{equation} \n",
    "J(\\theta) = \\frac{1}{m}(-y \\log(h) - (1 - y) \\log(1 - h))\n",
    "\\end{equation}\n",
    "энд $m$ жишээний тоо.\n",
    "\n",
    "алдааг буруу ангилсан тохиолдлын жишээ,\n",
    "- хэрэв $y=0$ болон $h\\rightarrow 1$, тэгвэл $J(\\theta)\\rightarrow ∞$  (хүчтэй алдаа)\n",
    "- хэрэв $y=0$ болон $h\\rightarrow 0$, тэгвэл $J(\\theta)\\rightarrow 0$  (бага алдаа)\n",
    "- хэрэв $y=1$ болон $h\\rightarrow 0$, тэгвэл $J(\\theta)\\rightarrow ∞$  (хүчтэй алдаа)\n",
    "- хэрэв $y=1$ болон $h\\rightarrow 1$, тэгвэл $J(\\theta)\\rightarrow 0$  (бага алдаа)"
   ]
  },
  {
   "cell_type": "code",
   "execution_count": 56,
   "metadata": {},
   "outputs": [
    {
     "name": "stdout",
     "output_type": "stream",
     "text": [
      "0.6931471805599453\n"
     ]
    }
   ],
   "source": [
    "cost = (-y * np.log(h) - (1 - y) * np.log(1 - h)).mean()\n",
    "print(cost)"
   ]
  },
  {
   "cell_type": "markdown",
   "metadata": {},
   "source": [
    "## Gradiend descent"
   ]
  },
  {
   "cell_type": "markdown",
   "metadata": {},
   "source": [
    "Таамаглалыг сайжруулахын тулд, бид алдааны $J(\\theta)$ утгыг багасгах шаардлагатай. Үүнийг $\\theta$ утгыг тохируулах замаар гүйцэтгэнэ. Энэ нь алдааны функцээс уламжлал авч $\\theta$ бүрийг тохируулснаар хийгдэнэ. Градиент нь хэр их алдаа хэр хэмжээгээр коэффициэнтийг өөрлөхийг илэрхийлнэ. Энэ аргыг *Gradient Descent* гэдэг.\n",
    "\\begin{equation} \n",
    "\\theta_j := \\theta_j - \\alpha \\frac{\\partial J(\\theta)}{\\partial \\theta_j}\n",
    "\\end{equation}\n",
    "энд $\\alpha$ бол сурах хурд.\n",
    "\n",
    "Ингэснээр бид\n",
    "\\begin{equation} \n",
    "\\frac{\\partial J(\\theta)}{\\partial \\theta_j} = \\frac{1}{m} X^T (h - y) \n",
    "\\end{equation}"
   ]
  },
  {
   "cell_type": "code",
   "execution_count": 57,
   "metadata": {},
   "outputs": [
    {
     "name": "stdout",
     "output_type": "stream",
     "text": [
      "[ 0.         -0.52951312  0.00837904]\n",
      "[ 0.00000000e+00  5.29513120e-03 -8.37903787e-05]\n"
     ]
    }
   ],
   "source": [
    "m = y.size\n",
    "alpha = 0.01\n",
    "\n",
    "gradient = np.dot(XX.T, (h - y)) / m\n",
    "theta -= alpha * gradient\n",
    "\n",
    "print(gradient)\n",
    "print(theta)"
   ]
  },
  {
   "cell_type": "markdown",
   "metadata": {},
   "source": [
    "## Training the model"
   ]
  },
  {
   "cell_type": "markdown",
   "metadata": {},
   "source": [
    "Бид дээрх алхамыг коэффициент тохиртол давтан хийх хэрэгтэй."
   ]
  },
  {
   "cell_type": "code",
   "execution_count": 58,
   "metadata": {},
   "outputs": [
    {
     "name": "stdout",
     "output_type": "stream",
     "text": [
      "Cost: 0.6903486449044123\n",
      "Cost: 0.16583020255808859\n",
      "Cost: 0.16255723360237326\n",
      "Cost: 0.16194893689752632\n",
      "Cost: 0.1617947856703522\n",
      "Cost: 0.1617507453323905\n",
      "Cost: 0.16173742474071925\n",
      "Cost: 0.16173327485656203\n",
      "Cost: 0.16173196117207167\n",
      "Cost: 0.16173154162117448\n",
      "Adjusted coefficient: [1.41307637 4.65877613 0.42728449]\n"
     ]
    }
   ],
   "source": [
    "num_iter = 100000\n",
    "cost_list = []\n",
    "\n",
    "for i in range(num_iter):\n",
    "    h = calc_h(XX, theta)\n",
    "    cost = (-y * np.log(h) - (1 - y) * np.log(1 - h)).mean()\n",
    "    cost_list.append(cost)\n",
    "    \n",
    "    gradient = np.dot(XX.T, (h - y)) / m\n",
    "    theta -= alpha * gradient\n",
    "\n",
    "\n",
    "    if i % 10000 == 0:\n",
    "        print('Cost: {}'.format(cost))\n",
    "\n",
    "print('Adjusted coefficient: {}'.format(theta))"
   ]
  },
  {
   "cell_type": "markdown",
   "metadata": {},
   "source": [
    "## Plot the loss function"
   ]
  },
  {
   "cell_type": "code",
   "execution_count": 59,
   "metadata": {},
   "outputs": [
    {
     "data": {
      "text/plain": [
       "[<matplotlib.lines.Line2D at 0x1b6dd33d550>]"
      ]
     },
     "execution_count": 59,
     "metadata": {},
     "output_type": "execute_result"
    },
    {
     "data": {
      "image/png": "[encoded data removed]",
      "text/plain": [
       "<Figure size 432x288 with 1 Axes>"
      ]
     },
     "metadata": {
      "needs_background": "light"
     },
     "output_type": "display_data"
    }
   ],
   "source": [
    "plt.plot(range(num_iter), cost_list)\n",
    "\n"
   ]
  },
  {
   "cell_type": "markdown",
   "metadata": {},
   "source": [
    "Алдааны утга багасах нь сургалт амжилттай явагдаж буйн илрэл юм."
   ]
  },
  {
   "cell_type": "markdown",
   "metadata": {},
   "source": [
    "## Таамаглалуудыг дэвшүүлэх"
   ]
  },
  {
   "cell_type": "markdown",
   "metadata": {},
   "source": [
    "Бид таамаглалын магадлалуудыг sigmoid функц авч гаргана."
   ]
  },
  {
   "cell_type": "code",
   "execution_count": 60,
   "metadata": {},
   "outputs": [
    {
     "name": "stdout",
     "output_type": "stream",
     "text": [
      "[9.98797940e-01 1.51693249e-01 4.91254075e-02 3.05150791e-02\n",
      " 6.19142868e-03 1.67219904e-02 2.12766567e-04 1.26582985e-02\n",
      " 9.95869488e-01 7.74671678e-06 5.76170732e-02 9.02318869e-01\n",
      " 9.71449772e-01 9.94060600e-01 9.99998449e-01 7.37948891e-01\n",
      " 5.72959167e-01 9.99972598e-01 1.33452151e-01 9.99965041e-01\n",
      " 9.87513120e-02 9.96803264e-01 1.39245827e-01 9.36797813e-02\n",
      " 9.99999999e-01 2.81234681e-01 9.93582069e-01 9.81778094e-01\n",
      " 9.98179674e-01 1.16348473e-01 1.26082731e-01 2.10600605e-02\n",
      " 1.53318350e-02 1.15418258e-01 9.96242211e-01 9.99838377e-01\n",
      " 9.99919747e-01 8.96943066e-01 4.13119705e-01 2.14063524e-01\n",
      " 1.25385937e-01 3.15880890e-01 2.75032003e-03 1.94787033e-01\n",
      " 9.96626172e-01 1.04877697e-01 9.98084123e-01 2.93514493e-02\n",
      " 5.88270792e-03 5.29371024e-02 9.95835473e-01 8.10855775e-02\n",
      " 9.99787887e-01 9.79450937e-01 1.00956914e-02 9.77462182e-01\n",
      " 9.99163952e-01 9.99999461e-01 2.53473166e-03 9.99915169e-01\n",
      " 9.60095858e-02 9.49454440e-01 6.85680530e-03 6.99711615e-02\n",
      " 1.08459890e-01 9.98243924e-01 9.99193227e-01 6.25819068e-03\n",
      " 1.28184741e-01 4.45788415e-02 9.40272194e-02 7.47535592e-01\n",
      " 7.53823088e-03 4.01198598e-02 9.99776484e-01 2.02978825e-02\n",
      " 3.83790143e-04 9.99225164e-01 3.61326010e-03 9.99996200e-01\n",
      " 9.87935145e-01 9.99638560e-01 9.96505802e-01 9.90739885e-01\n",
      " 4.20976536e-01 9.99766475e-01 8.31872303e-02 9.99975320e-01\n",
      " 7.64653030e-02 9.99994949e-01 9.99395535e-01 1.59823744e-04\n",
      " 9.48663031e-03 5.19450411e-04 9.94291823e-01 9.99825114e-01\n",
      " 2.10376152e-01 9.03731094e-01 9.99885516e-01 5.03020430e-03]\n"
     ]
    }
   ],
   "source": [
    "preds_prob = calc_h(XX, theta)\n",
    "print(preds_prob)"
   ]
  },
  {
   "cell_type": "markdown",
   "metadata": {},
   "source": [
    "Өмнө нь үзсэнчлэн sigmoid функцийн шийдвэрийн хязгаарыг бид 0.5 гэж авсан ба үүнийг round функц ашиглан тэгшитгэж болно."
   ]
  },
  {
   "cell_type": "code",
   "execution_count": 61,
   "metadata": {},
   "outputs": [
    {
     "name": "stdout",
     "output_type": "stream",
     "text": [
      "[1. 0. 0. 0. 0. 0. 0. 0. 1. 0. 0. 1. 1. 1. 1. 1. 1. 1. 0. 1. 0. 1. 0. 0.\n",
      " 1. 0. 1. 1. 1. 0. 0. 0. 0. 0. 1. 1. 1. 1. 0. 0. 0. 0. 0. 0. 1. 0. 1. 0.\n",
      " 0. 0. 1. 0. 1. 1. 0. 1. 1. 1. 0. 1. 0. 1. 0. 0. 0. 1. 1. 0. 0. 0. 0. 1.\n",
      " 0. 0. 1. 0. 0. 1. 0. 1. 1. 1. 1. 1. 0. 1. 0. 1. 0. 1. 1. 0. 0. 0. 1. 1.\n",
      " 0. 1. 1. 0.]\n"
     ]
    }
   ],
   "source": [
    "preds = preds_prob.round()\n",
    "print(preds)"
   ]
  },
  {
   "cell_type": "markdown",
   "metadata": {},
   "source": [
    "Эцэст нь бид сургалтын үр дүнг гаргах боломжтой боллоо."
   ]
  },
  {
   "cell_type": "code",
   "execution_count": 62,
   "metadata": {},
   "outputs": [
    {
     "name": "stdout",
     "output_type": "stream",
     "text": [
      "Score Numpy: 0.93\n"
     ]
    }
   ],
   "source": [
    "score_numpy = (preds == y).mean()\n",
    "print('Score Numpy: {}'.format(score_numpy))"
   ]
  },
  {
   "cell_type": "markdown",
   "metadata": {},
   "source": [
    "Сургасан өгөгдөлд өндөр үр дүн үзүүлж байгаа боловч бид сургалтанд ашиглагдаагүй өгөгдлөөр туршиж үзэж болно."
   ]
  },
  {
   "cell_type": "code",
   "execution_count": 63,
   "metadata": {},
   "outputs": [
    {
     "name": "stdout",
     "output_type": "stream",
     "text": [
      "[ 1.  -0.8  0.8]\n",
      "predicted output for the new observation:  0.0\n"
     ]
    }
   ],
   "source": [
    "new_x = np.array([1, -0.8, 0.8])   # new observation (-0.8, 0.8)  with an intercept of 1\n",
    "print(new_x)\n",
    "preds_prob_new_x = calc_h(new_x, theta).round()\n",
    "print(\"predicted output for the new observation: \", preds_prob_new_x)"
   ]
  },
  {
   "cell_type": "markdown",
   "metadata": {},
   "source": [
    "## Шийдвэрийн хязгаарыг дүрсэлж харвал"
   ]
  },
  {
   "cell_type": "code",
   "execution_count": 64,
   "metadata": {},
   "outputs": [
    {
     "data": {
      "text/plain": [
       "(-2.569144526981861, 2.280835675462257)"
      ]
     },
     "execution_count": 64,
     "metadata": {},
     "output_type": "execute_result"
    },
    {
     "data": {
      "image/png": "[encoded data removed]",
      "text/plain": [
       "<Figure size 720x432 with 1 Axes>"
      ]
     },
     "metadata": {
      "needs_background": "light"
     },
     "output_type": "display_data"
    }
   ],
   "source": [
    "plt.figure(figsize=(10, 6))\n",
    "\n",
    "# define 2d grid\n",
    "x1_min, x1_max = X[:,0].min(), X[:,0].max(),\n",
    "x2_min, x2_max = X[:,1].min(), X[:,1].max(),\n",
    "xx1, xx2 = np.meshgrid(np.linspace(x1_min, x1_max), np.linspace(x2_min, x2_max))\n",
    "grid = np.c_[xx1.ravel(), xx2.ravel()]\n",
    "\n",
    "# make predictions on the grid\n",
    "grid = add_intercept(grid)\n",
    "probs = calc_h(grid, theta)\n",
    "probs = probs.reshape(xx1.shape)\n",
    "\n",
    "# plot contours\n",
    "ax = plt.gca()\n",
    "plt.contourf(xx1, xx2, probs, levels=25, cmap=plt.cm.Spectral, alpha=0.8)\n",
    "plt.contour(xx1, xx2, probs, [0.5], linewidths=2, colors='black') # decision boundary at 0.5\n",
    "plt.scatter(X[:, 0], X[:, 1], c=y.ravel(), s=40, cmap=plt.cm.Spectral, edgecolors='black')\n",
    "plt.plot(-0.8, 0.8, 'bx', markersize=20, markeredgewidth=2)  # new observation correctly classified as 1 (blue)\n",
    "\n",
    "plt.xlabel(\"$X_1$\")\n",
    "plt.ylabel(\"$X_2$\")\n",
    "ax.set_xlim([x1_min, x1_max])\n",
    "ax.set_ylim([x2_min, x2_max])\n"
   ]
  },
  {
   "cell_type": "markdown",
   "metadata": {},
   "source": [
    "## Sklearn хэрэгжүүлэлт"
   ]
  },
  {
   "cell_type": "markdown",
   "metadata": {},
   "source": [
    "Мэдээж logistic regression нь аль хэдийн Scikit-learn хөгжүүлэгдсэн байгаа."
   ]
  },
  {
   "cell_type": "code",
   "execution_count": 65,
   "metadata": {},
   "outputs": [
    {
     "name": "stdout",
     "output_type": "stream",
     "text": [
      "Score Sklearn: 0.93\n",
      "[1.41543743] [[4.66287679 0.42777404]]\n"
     ]
    }
   ],
   "source": [
    "model = LogisticRegression(C=1e20, solver='lbfgs')\n",
    "model.fit(X, y)\n",
    "preds = model.predict(X)\n",
    "\n",
    "score_sklearn = (preds == y).mean()\n",
    "print('Score Sklearn: {}'.format(score_sklearn))\n",
    "print(model.intercept_, model.coef_)"
   ]
  },
  {
   "cell_type": "code",
   "execution_count": null,
   "metadata": {},
   "outputs": [],
   "source": []
  }
 ],
 "metadata": {
  "kernelspec": {
   "display_name": "Python 3.9.7 64-bit",
   "language": "python",
   "name": "python3"
  },
  "language_info": {
   "codemirror_mode": {
    "name": "ipython",
    "version": 3
   },
   "file_extension": ".py",
   "mimetype": "text/x-python",
   "name": "python",
   "nbconvert_exporter": "python",
   "pygments_lexer": "ipython3",
   "version": "3.9.7"
  },
  "vscode": {
   "interpreter": {
    "hash": "cf92aa13fedf815d5c8dd192b8d835913fde3e8bc926b2a0ad6cc74ef2ba3ca2"
   }
  }
 },
 "nbformat": 4,
 "nbformat_minor": 2
}
