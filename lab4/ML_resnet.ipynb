{
  "cells": [
    {
      "cell_type": "code",
      "execution_count": null,
      "id": "414e772f",
      "metadata": {
        "id": "414e772f"
      },
      "outputs": [],
      "source": [
        "import time\n",
        "import copy\n",
        "import glob\n",
        "import torch\n",
        "import torch.nn as nn\n",
        "import torchvision\n",
        "from torch.utils.data import DataLoader\n",
        "from torch.utils.data import dataset\n",
        "from matplotlib import pyplot as plt\n",
        "import torchvision.models as models\n",
        "import torch.optim as optim\n",
        "import os\n",
        "import numpy as np"
      ]
    },
    {
      "cell_type": "code",
      "execution_count": null,
      "id": "366e800e",
      "metadata": {
        "id": "366e800e"
      },
      "outputs": [],
      "source": [
        "transform = torchvision.transforms.Compose([\n",
        "    torchvision.transforms.RandomRotation(10),\n",
        "    torchvision.transforms.ToTensor()\n",
        "])\n",
        "mnist_train = torchvision.datasets.MNIST('./data', train = True, download = True, transform = transform)\n",
        "train_loader = DataLoader(mnist_train, batch_size=1000, shuffle=True)"
      ]
    },
    {
      "cell_type": "code",
      "execution_count": null,
      "id": "daf6fdf0",
      "metadata": {
        "id": "daf6fdf0"
      },
      "outputs": [],
      "source": [
        "mnist_test = torchvision.datasets.MNIST('./data', train = False, download = True, transform = transform)\n",
        "test_loader = DataLoader(mnist_test, batch_size=1000, shuffle=True)"
      ]
    },
    {
      "cell_type": "code",
      "execution_count": null,
      "id": "8ac5b5e3",
      "metadata": {
        "colab": {
          "base_uri": "https://localhost:8080/"
        },
        "id": "8ac5b5e3",
        "outputId": "6c091218-bf15-40a5-de49-c57392caf92e"
      },
      "outputs": [
        {
          "output_type": "execute_result",
          "data": {
            "text/plain": [
              "Dataset MNIST\n",
              "    Number of datapoints: 60000\n",
              "    Root location: ./data\n",
              "    Split: Train\n",
              "    StandardTransform\n",
              "Transform: Compose(\n",
              "               RandomRotation(degrees=[-10.0, 10.0], interpolation=nearest, expand=False, fill=0)\n",
              "               ToTensor()\n",
              "           )"
            ]
          },
          "metadata": {},
          "execution_count": 4
        }
      ],
      "source": [
        "mnist_train"
      ]
    },
    {
      "cell_type": "markdown",
      "source": [
        "Сургалтын датасет нь 60000"
      ],
      "metadata": {
        "id": "3fXL-XD0RJyX"
      },
      "id": "3fXL-XD0RJyX"
    },
    {
      "cell_type": "code",
      "execution_count": null,
      "id": "12502fb7",
      "metadata": {
        "colab": {
          "base_uri": "https://localhost:8080/"
        },
        "id": "12502fb7",
        "outputId": "2c679832-e8ba-4087-c42b-63bc033b9c97"
      },
      "outputs": [
        {
          "output_type": "execute_result",
          "data": {
            "text/plain": [
              "60000"
            ]
          },
          "metadata": {},
          "execution_count": 5
        }
      ],
      "source": [
        "len(mnist_train)"
      ]
    },
    {
      "cell_type": "code",
      "source": [
        "resnet18 = models.resnet18(pretrained=True)"
      ],
      "metadata": {
        "id": "cMHGzsku8g7O",
        "colab": {
          "base_uri": "https://localhost:8080/"
        },
        "outputId": "6094a65b-cfde-4037-c177-c0a9fcaaf584"
      },
      "id": "cMHGzsku8g7O",
      "execution_count": null,
      "outputs": [
        {
          "output_type": "stream",
          "name": "stderr",
          "text": [
            "/usr/local/lib/python3.7/dist-packages/torchvision/models/_utils.py:209: UserWarning: The parameter 'pretrained' is deprecated since 0.13 and will be removed in 0.15, please use 'weights' instead.\n",
            "  f\"The parameter '{pretrained_param}' is deprecated since 0.13 and will be removed in 0.15, \"\n",
            "/usr/local/lib/python3.7/dist-packages/torchvision/models/_utils.py:223: UserWarning: Arguments other than a weight enum or `None` for 'weights' are deprecated since 0.13 and will be removed in 0.15. The current behavior is equivalent to passing `weights=ResNet18_Weights.IMAGENET1K_V1`. You can also use `weights=ResNet18_Weights.DEFAULT` to get the most up-to-date weights.\n",
            "  warnings.warn(msg)\n"
          ]
        }
      ]
    },
    {
      "cell_type": "code",
      "source": [
        "resnet18.conv1 = nn.Conv2d(1, 64, kernel_size=(7, 7), stride=(2, 2), padding=(3, 3), bias=False)\n",
        "resnet18.fc = nn.Linear(512,10)\n"
      ],
      "metadata": {
        "id": "GWUOEH5JIegB"
      },
      "id": "GWUOEH5JIegB",
      "execution_count": null,
      "outputs": []
    },
    {
      "cell_type": "code",
      "source": [
        "print(resnet18)\n"
      ],
      "metadata": {
        "colab": {
          "base_uri": "https://localhost:8080/"
        },
        "id": "GTMxzMfu8k7z",
        "outputId": "d45de78e-4874-4224-d627-00a9320d1bed"
      },
      "id": "GTMxzMfu8k7z",
      "execution_count": null,
      "outputs": [
        {
          "output_type": "stream",
          "name": "stdout",
          "text": [
            "ResNet(\n",
            "  (conv1): Conv2d(1, 64, kernel_size=(7, 7), stride=(2, 2), padding=(3, 3), bias=False)\n",
            "  (bn1): BatchNorm2d(64, eps=1e-05, momentum=0.1, affine=True, track_running_stats=True)\n",
            "  (relu): ReLU(inplace=True)\n",
            "  (maxpool): MaxPool2d(kernel_size=3, stride=2, padding=1, dilation=1, ceil_mode=False)\n",
            "  (layer1): Sequential(\n",
            "    (0): BasicBlock(\n",
            "      (conv1): Conv2d(64, 64, kernel_size=(3, 3), stride=(1, 1), padding=(1, 1), bias=False)\n",
            "      (bn1): BatchNorm2d(64, eps=1e-05, momentum=0.1, affine=True, track_running_stats=True)\n",
            "      (relu): ReLU(inplace=True)\n",
            "      (conv2): Conv2d(64, 64, kernel_size=(3, 3), stride=(1, 1), padding=(1, 1), bias=False)\n",
            "      (bn2): BatchNorm2d(64, eps=1e-05, momentum=0.1, affine=True, track_running_stats=True)\n",
            "    )\n",
            "    (1): BasicBlock(\n",
            "      (conv1): Conv2d(64, 64, kernel_size=(3, 3), stride=(1, 1), padding=(1, 1), bias=False)\n",
            "      (bn1): BatchNorm2d(64, eps=1e-05, momentum=0.1, affine=True, track_running_stats=True)\n",
            "      (relu): ReLU(inplace=True)\n",
            "      (conv2): Conv2d(64, 64, kernel_size=(3, 3), stride=(1, 1), padding=(1, 1), bias=False)\n",
            "      (bn2): BatchNorm2d(64, eps=1e-05, momentum=0.1, affine=True, track_running_stats=True)\n",
            "    )\n",
            "  )\n",
            "  (layer2): Sequential(\n",
            "    (0): BasicBlock(\n",
            "      (conv1): Conv2d(64, 128, kernel_size=(3, 3), stride=(2, 2), padding=(1, 1), bias=False)\n",
            "      (bn1): BatchNorm2d(128, eps=1e-05, momentum=0.1, affine=True, track_running_stats=True)\n",
            "      (relu): ReLU(inplace=True)\n",
            "      (conv2): Conv2d(128, 128, kernel_size=(3, 3), stride=(1, 1), padding=(1, 1), bias=False)\n",
            "      (bn2): BatchNorm2d(128, eps=1e-05, momentum=0.1, affine=True, track_running_stats=True)\n",
            "      (downsample): Sequential(\n",
            "        (0): Conv2d(64, 128, kernel_size=(1, 1), stride=(2, 2), bias=False)\n",
            "        (1): BatchNorm2d(128, eps=1e-05, momentum=0.1, affine=True, track_running_stats=True)\n",
            "      )\n",
            "    )\n",
            "    (1): BasicBlock(\n",
            "      (conv1): Conv2d(128, 128, kernel_size=(3, 3), stride=(1, 1), padding=(1, 1), bias=False)\n",
            "      (bn1): BatchNorm2d(128, eps=1e-05, momentum=0.1, affine=True, track_running_stats=True)\n",
            "      (relu): ReLU(inplace=True)\n",
            "      (conv2): Conv2d(128, 128, kernel_size=(3, 3), stride=(1, 1), padding=(1, 1), bias=False)\n",
            "      (bn2): BatchNorm2d(128, eps=1e-05, momentum=0.1, affine=True, track_running_stats=True)\n",
            "    )\n",
            "  )\n",
            "  (layer3): Sequential(\n",
            "    (0): BasicBlock(\n",
            "      (conv1): Conv2d(128, 256, kernel_size=(3, 3), stride=(2, 2), padding=(1, 1), bias=False)\n",
            "      (bn1): BatchNorm2d(256, eps=1e-05, momentum=0.1, affine=True, track_running_stats=True)\n",
            "      (relu): ReLU(inplace=True)\n",
            "      (conv2): Conv2d(256, 256, kernel_size=(3, 3), stride=(1, 1), padding=(1, 1), bias=False)\n",
            "      (bn2): BatchNorm2d(256, eps=1e-05, momentum=0.1, affine=True, track_running_stats=True)\n",
            "      (downsample): Sequential(\n",
            "        (0): Conv2d(128, 256, kernel_size=(1, 1), stride=(2, 2), bias=False)\n",
            "        (1): BatchNorm2d(256, eps=1e-05, momentum=0.1, affine=True, track_running_stats=True)\n",
            "      )\n",
            "    )\n",
            "    (1): BasicBlock(\n",
            "      (conv1): Conv2d(256, 256, kernel_size=(3, 3), stride=(1, 1), padding=(1, 1), bias=False)\n",
            "      (bn1): BatchNorm2d(256, eps=1e-05, momentum=0.1, affine=True, track_running_stats=True)\n",
            "      (relu): ReLU(inplace=True)\n",
            "      (conv2): Conv2d(256, 256, kernel_size=(3, 3), stride=(1, 1), padding=(1, 1), bias=False)\n",
            "      (bn2): BatchNorm2d(256, eps=1e-05, momentum=0.1, affine=True, track_running_stats=True)\n",
            "    )\n",
            "  )\n",
            "  (layer4): Sequential(\n",
            "    (0): BasicBlock(\n",
            "      (conv1): Conv2d(256, 512, kernel_size=(3, 3), stride=(2, 2), padding=(1, 1), bias=False)\n",
            "      (bn1): BatchNorm2d(512, eps=1e-05, momentum=0.1, affine=True, track_running_stats=True)\n",
            "      (relu): ReLU(inplace=True)\n",
            "      (conv2): Conv2d(512, 512, kernel_size=(3, 3), stride=(1, 1), padding=(1, 1), bias=False)\n",
            "      (bn2): BatchNorm2d(512, eps=1e-05, momentum=0.1, affine=True, track_running_stats=True)\n",
            "      (downsample): Sequential(\n",
            "        (0): Conv2d(256, 512, kernel_size=(1, 1), stride=(2, 2), bias=False)\n",
            "        (1): BatchNorm2d(512, eps=1e-05, momentum=0.1, affine=True, track_running_stats=True)\n",
            "      )\n",
            "    )\n",
            "    (1): BasicBlock(\n",
            "      (conv1): Conv2d(512, 512, kernel_size=(3, 3), stride=(1, 1), padding=(1, 1), bias=False)\n",
            "      (bn1): BatchNorm2d(512, eps=1e-05, momentum=0.1, affine=True, track_running_stats=True)\n",
            "      (relu): ReLU(inplace=True)\n",
            "      (conv2): Conv2d(512, 512, kernel_size=(3, 3), stride=(1, 1), padding=(1, 1), bias=False)\n",
            "      (bn2): BatchNorm2d(512, eps=1e-05, momentum=0.1, affine=True, track_running_stats=True)\n",
            "    )\n",
            "  )\n",
            "  (avgpool): AdaptiveAvgPool2d(output_size=(1, 1))\n",
            "  (fc): Linear(in_features=512, out_features=10, bias=True)\n",
            ")\n"
          ]
        }
      ]
    },
    {
      "cell_type": "code",
      "source": [
        "def set_parameter_requires_grad(model, feature_extracting=True):\n",
        "    if feature_extracting:\n",
        "        for param in model.parameters():\n",
        "            param.requires_grad = True\n",
        "            \n",
        "set_parameter_requires_grad(resnet18)"
      ],
      "metadata": {
        "id": "AqqUQezL8nl8"
      },
      "id": "AqqUQezL8nl8",
      "execution_count": null,
      "outputs": []
    },
    {
      "cell_type": "code",
      "source": [
        "def train_model(model, train_loader, test_loader, criterion, optimizer, device, scheduler, num_epochs=25, is_train=True):\n",
        "    since = time.time()\n",
        "    \n",
        "    acc_history = []\n",
        "    loss_history = []\n",
        "\n",
        "    best_acc = 0.0\n",
        "    model.to(device)\n",
        "    for epoch in range(num_epochs):\n",
        "        print('Epoch {}/{}'.format(epoch, num_epochs - 1))\n",
        "        print('-' * 10)\n",
        "\n",
        "        running_loss = 0.0\n",
        "        running_corrects = 0\n",
        "        \n",
        "        model.train()\n",
        "        # Iterate over data.\n",
        "        for inputs, labels in train_loader:\n",
        "            inputs = inputs.to(device)\n",
        "            labels = labels.to(device)\n",
        "\n",
        "            # zero the parameter gradients\n",
        "            optimizer.zero_grad()\n",
        "\n",
        "            # forward\n",
        "            outputs = model(inputs)\n",
        "            loss = criterion(outputs, labels)\n",
        "\n",
        "            _, preds = torch.max(outputs, 1)\n",
        "\n",
        "            # backward\n",
        "            loss.backward()\n",
        "            optimizer.step()\n",
        "\n",
        "            # statistics\n",
        "            running_loss += loss.item() * inputs.size(0)\n",
        "            running_corrects += torch.sum(preds == labels.data)\n",
        "\n",
        "        epoch_loss = running_loss / len(train_loader.dataset)\n",
        "        epoch_acc = running_corrects.double() / len(train_loader.dataset)\n",
        "        \n",
        "        print('Loss: {:.4f} Acc: {:.4f}'.format(epoch_loss, epoch_acc))\n",
        "        test_model(model, test_loader, criterion, device, scheduler)\n",
        "\n",
        "        if epoch_acc > best_acc:\n",
        "            best_acc = epoch_acc\n",
        "\n",
        "        acc_history.append(epoch_acc.item())\n",
        "        loss_history.append(epoch_loss)\n",
        "\n",
        "    time_elapsed = time.time() - since\n",
        "    print('Training complete in {:.0f}m {:.0f}s'.format(time_elapsed // 60, time_elapsed % 60))\n",
        "    print('Best Acc: {:4f}'.format(best_acc))\n",
        "    \n",
        "    return acc_history, loss_history\n",
        "def test_model(model, test_loader, criterion, device, scheduler):\n",
        "  model.eval()\n",
        "  best_acc = 0.0\n",
        "  test_loss = 0.0\n",
        "  test_corrects = 0\n",
        "  for inputs, labels in test_loader:\n",
        "    inputs = inputs.to(device)\n",
        "    labels = labels.to(device)\n",
        "    outputs = model(inputs)\n",
        "    _, preds = torch.max(outputs, 1)\n",
        "    loss = criterion(outputs, labels)\n",
        "    test_loss += loss.item() * inputs.size(0)\n",
        "    test_corrects += torch.sum(preds == labels.data)\n",
        "  epoch_acc = test_corrects.double() / len(test_loader.dataset)\n",
        "  scheduler.step(test_loss)\n",
        "  print('Test Acc: {:.4f}'.format(epoch_acc))\n",
        "\n",
        "  if epoch_acc > best_acc:\n",
        "      best_acc = epoch_acc\n",
        "      torch.save(model.state_dict(), './best_model.pt')\n"
      ],
      "metadata": {
        "id": "lCmzhIbu-2uI"
      },
      "id": "lCmzhIbu-2uI",
      "execution_count": null,
      "outputs": []
    },
    {
      "cell_type": "code",
      "source": [
        "device = torch.device(\"cuda\" if torch.cuda.is_available() else \"cpu\")\n",
        "\n",
        "# Setup the loss function\n",
        "criterion = nn.CrossEntropyLoss()\n",
        "optimizer = optim.Adam(resnet18.parameters())\n",
        "scheduler = optim.lr_scheduler.ReduceLROnPlateau(optimizer, 'min')\n",
        "# Train model\n",
        "train_acc_hist, train_loss_hist = train_model(resnet18, train_loader, test_loader, criterion, optimizer, device, scheduler)"
      ],
      "metadata": {
        "colab": {
          "base_uri": "https://localhost:8080/"
        },
        "id": "JjUt4ewy_Xm8",
        "outputId": "c5ebeb72-6fc7-4304-a1ca-1c7bb96090d0"
      },
      "id": "JjUt4ewy_Xm8",
      "execution_count": null,
      "outputs": [
        {
          "output_type": "stream",
          "name": "stdout",
          "text": [
            "Epoch 0/24\n",
            "----------\n",
            "Loss: 0.2783 Acc: 0.9123\n",
            "Test Acc: 0.9698\n",
            "Epoch 1/24\n",
            "----------\n",
            "Loss: 0.0688 Acc: 0.9794\n",
            "Test Acc: 0.9757\n",
            "Epoch 2/24\n",
            "----------\n",
            "Loss: 0.0496 Acc: 0.9844\n",
            "Test Acc: 0.9796\n",
            "Epoch 3/24\n",
            "----------\n",
            "Loss: 0.0428 Acc: 0.9867\n",
            "Test Acc: 0.9824\n",
            "Epoch 4/24\n",
            "----------\n",
            "Loss: 0.0370 Acc: 0.9886\n",
            "Test Acc: 0.9865\n",
            "Epoch 5/24\n",
            "----------\n",
            "Loss: 0.0303 Acc: 0.9904\n",
            "Test Acc: 0.9867\n",
            "Epoch 6/24\n",
            "----------\n",
            "Loss: 0.0269 Acc: 0.9916\n",
            "Test Acc: 0.9852\n",
            "Epoch 7/24\n",
            "----------\n",
            "Loss: 0.0256 Acc: 0.9923\n",
            "Test Acc: 0.9862\n",
            "Epoch 8/24\n",
            "----------\n",
            "Loss: 0.0225 Acc: 0.9930\n",
            "Test Acc: 0.9864\n",
            "Epoch 9/24\n",
            "----------\n",
            "Loss: 0.0209 Acc: 0.9929\n",
            "Test Acc: 0.9885\n",
            "Epoch 10/24\n",
            "----------\n",
            "Loss: 0.0204 Acc: 0.9935\n",
            "Test Acc: 0.9904\n",
            "Epoch 11/24\n",
            "----------\n",
            "Loss: 0.0184 Acc: 0.9942\n",
            "Test Acc: 0.9857\n",
            "Epoch 12/24\n",
            "----------\n",
            "Loss: 0.0179 Acc: 0.9941\n",
            "Test Acc: 0.9897\n",
            "Epoch 13/24\n",
            "----------\n",
            "Loss: 0.0167 Acc: 0.9945\n",
            "Test Acc: 0.9796\n",
            "Epoch 14/24\n",
            "----------\n",
            "Loss: 0.0160 Acc: 0.9948\n",
            "Test Acc: 0.9879\n",
            "Epoch 15/24\n",
            "----------\n",
            "Loss: 0.0168 Acc: 0.9946\n",
            "Test Acc: 0.9884\n",
            "Epoch 16/24\n",
            "----------\n",
            "Loss: 0.0131 Acc: 0.9957\n",
            "Test Acc: 0.9907\n",
            "Epoch 17/24\n",
            "----------\n",
            "Loss: 0.0146 Acc: 0.9953\n",
            "Test Acc: 0.9912\n",
            "Epoch 18/24\n",
            "----------\n",
            "Loss: 0.0125 Acc: 0.9960\n",
            "Test Acc: 0.9909\n",
            "Epoch 19/24\n",
            "----------\n",
            "Loss: 0.0140 Acc: 0.9956\n",
            "Test Acc: 0.9894\n",
            "Epoch 20/24\n",
            "----------\n",
            "Loss: 0.0109 Acc: 0.9967\n",
            "Test Acc: 0.9914\n",
            "Epoch 21/24\n",
            "----------\n",
            "Loss: 0.0106 Acc: 0.9968\n",
            "Test Acc: 0.9922\n",
            "Epoch 22/24\n",
            "----------\n",
            "Loss: 0.0109 Acc: 0.9965\n",
            "Test Acc: 0.9904\n",
            "Epoch 23/24\n",
            "----------\n",
            "Loss: 0.0104 Acc: 0.9967\n",
            "Test Acc: 0.9916\n",
            "Epoch 24/24\n",
            "----------\n",
            "Loss: 0.0112 Acc: 0.9964\n",
            "Test Acc: 0.9915\n",
            "Training complete in 7m 11s\n",
            "Best Acc: 0.996750\n"
          ]
        }
      ]
    }
  ],
  "metadata": {
    "kernelspec": {
      "display_name": "Python 3 (ipykernel)",
      "language": "python",
      "name": "python3"
    },
    "language_info": {
      "codemirror_mode": {
        "name": "ipython",
        "version": 3
      },
      "file_extension": ".py",
      "mimetype": "text/x-python",
      "name": "python",
      "nbconvert_exporter": "python",
      "pygments_lexer": "ipython3",
      "version": "3.9.7"
    },
    "colab": {
      "provenance": [],
      "collapsed_sections": []
    },
    "accelerator": "GPU"
  },
  "nbformat": 4,
  "nbformat_minor": 5
}