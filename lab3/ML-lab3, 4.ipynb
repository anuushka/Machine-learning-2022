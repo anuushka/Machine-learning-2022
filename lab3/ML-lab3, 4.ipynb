{
 "cells": [
  {
   "cell_type": "code",
   "execution_count": 1,
   "id": "414e772f",
   "metadata": {},
   "outputs": [],
   "source": [
    "import torch\n",
    "import torch.nn as nn\n",
    "import torchvision\n",
    "from torch.utils.data import DataLoader\n",
    "from torch.utils.data import dataset\n",
    "from matplotlib import pyplot as plt\n",
    "import numpy as np"
   ]
  },
  {
   "cell_type": "code",
   "execution_count": 2,
   "id": "366e800e",
   "metadata": {},
   "outputs": [],
   "source": [
    "transform = torchvision.transforms.Compose([\n",
    "    torchvision.transforms.RandomRotation(10),\n",
    "    torchvision.transforms.ToTensor(), \n",
    "    torchvision.transforms.Normalize((0.1307,),(0.3081,))\n",
    "])\n",
    "mnist_train = torchvision.datasets.MNIST('./data', train = True, download = True, transform = transform)"
   ]
  },
  {
   "cell_type": "code",
   "execution_count": 3,
   "id": "daf6fdf0",
   "metadata": {},
   "outputs": [],
   "source": [
    "mnist_test = torchvision.datasets.MNIST('./data', train = False, download = True, transform = transform)"
   ]
  },
  {
   "cell_type": "code",
   "execution_count": 4,
   "id": "8ac5b5e3",
   "metadata": {},
   "outputs": [
    {
     "data": {
      "text/plain": [
       "Dataset MNIST\n",
       "    Number of datapoints: 60000\n",
       "    Root location: ./data\n",
       "    Split: Train\n",
       "    StandardTransform\n",
       "Transform: Compose(\n",
       "               RandomRotation(degrees=[-10.0, 10.0], interpolation=nearest, expand=False, fill=0)\n",
       "               ToTensor()\n",
       "               Normalize(mean=(0.1307,), std=(0.3081,))\n",
       "           )"
      ]
     },
     "execution_count": 4,
     "metadata": {},
     "output_type": "execute_result"
    }
   ],
   "source": [
    "mnist_train"
   ]
  },
  {
   "cell_type": "code",
   "execution_count": 5,
   "id": "12502fb7",
   "metadata": {},
   "outputs": [
    {
     "data": {
      "text/plain": [
       "60000"
      ]
     },
     "execution_count": 5,
     "metadata": {},
     "output_type": "execute_result"
    }
   ],
   "source": [
    "len(mnist_train)"
   ]
  },
  {
   "cell_type": "code",
   "execution_count": 6,
   "id": "6eba9bb7",
   "metadata": {},
   "outputs": [
    {
     "data": {
      "text/plain": [
       "10000"
      ]
     },
     "execution_count": 6,
     "metadata": {},
     "output_type": "execute_result"
    }
   ],
   "source": [
    "len(mnist_test)"
   ]
  },
  {
   "cell_type": "code",
   "execution_count": 7,
   "id": "8c3ea24f",
   "metadata": {},
   "outputs": [],
   "source": [
    "image = mnist_train.data[0]"
   ]
  },
  {
   "cell_type": "code",
   "execution_count": 8,
   "id": "a67ba8f0",
   "metadata": {},
   "outputs": [
    {
     "data": {
      "text/plain": [
       "torch.Size([28, 28])"
      ]
     },
     "execution_count": 8,
     "metadata": {},
     "output_type": "execute_result"
    }
   ],
   "source": [
    "image.shape"
   ]
  },
  {
   "cell_type": "code",
   "execution_count": 9,
   "id": "eecf1d9a",
   "metadata": {},
   "outputs": [
    {
     "data": {
      "text/plain": [
       "tensor(0, dtype=torch.uint8)"
      ]
     },
     "execution_count": 9,
     "metadata": {},
     "output_type": "execute_result"
    }
   ],
   "source": [
    "image[0][0]"
   ]
  },
  {
   "cell_type": "code",
   "execution_count": 10,
   "id": "dad64545",
   "metadata": {
    "scrolled": true
   },
   "outputs": [
    {
     "data": {
      "image/png": "[encoded data removed]",
      "text/plain": [
       "<Figure size 432x288 with 1 Axes>"
      ]
     },
     "metadata": {
      "needs_background": "light"
     },
     "output_type": "display_data"
    }
   ],
   "source": [
    "plt.imshow(image)\n",
    "plt.title(mnist_train.targets[0])\n",
    "plt.show()"
   ]
  },
  {
   "cell_type": "code",
   "execution_count": 11,
   "id": "d805eac8",
   "metadata": {},
   "outputs": [],
   "source": [
    "train_loader = DataLoader(mnist_train, batch_size = 1000, shuffle=True)\n",
    "test_loader = DataLoader(mnist_test, batch_size = 1000, shuffle = False)"
   ]
  },
  {
   "cell_type": "code",
   "execution_count": 12,
   "id": "55c59133",
   "metadata": {
    "scrolled": true
   },
   "outputs": [
    {
     "name": "stdout",
     "output_type": "stream",
     "text": [
      "torch.Size([1000, 1, 28, 28]) torch.Size([1000])\n",
      "tensor(-0.4242) tensor(9)\n"
     ]
    }
   ],
   "source": [
    "for x, y in train_loader:\n",
    "    print(x.shape, y.shape)\n",
    "    print(x[0][0][0][0], y[0])\n",
    "    break"
   ]
  },
  {
   "cell_type": "code",
   "execution_count": 13,
   "id": "b63a2de6",
   "metadata": {},
   "outputs": [],
   "source": [
    "class Net(nn.Module):\n",
    "    def __init__(self, hidden_feature_size=100):\n",
    "        super(Net,self).__init__()\n",
    "        self.conv1 = nn.Conv2d(1, 10, kernel_size = 5) #feature extraction\n",
    "        self.conv2 = nn.Conv2d(10, 20, kernel_size = 5) #feature extraction\n",
    "        self.fc1 = nn.Linear(320, 100)\n",
    "        self.fc2 = nn.Linear(hidden_feature_size, 10)\n",
    "        self.dp = nn.Dropout2d()\n",
    "        self.relu = nn.ReLU() #0-g ustgaad busdiig ni uldeene\n",
    "    def forward(self, x):\n",
    "        x = nn.functional.max_pool2d(self.dp(self.relu(self.conv1(x))),2)#nn.functional gej funktsee shuud ashiglana \n",
    "        x = nn.functional.max_pool2d(self.dp(self.relu(self.conv2(x))),2)\n",
    "        x = x.view(-1, 320)\n",
    "        x = self.relu(self.fc1(x))\n",
    "        x = nn.functional.log_softmax(self.fc2(x), dim = -1)\n",
    "        return x"
   ]
  },
  {
   "cell_type": "code",
   "execution_count": 14,
   "id": "ea490b77",
   "metadata": {},
   "outputs": [],
   "source": [
    "dummy_data = torch.rand(10, 1, 28, 28)"
   ]
  },
  {
   "cell_type": "code",
   "execution_count": 15,
   "id": "8009edd0",
   "metadata": {},
   "outputs": [
    {
     "data": {
      "text/plain": [
       "torch.Size([10, 1, 28, 28])"
      ]
     },
     "execution_count": 15,
     "metadata": {},
     "output_type": "execute_result"
    }
   ],
   "source": [
    "dummy_data.shape"
   ]
  },
  {
   "cell_type": "code",
   "execution_count": 16,
   "id": "5744912a",
   "metadata": {},
   "outputs": [],
   "source": [
    "net = Net()"
   ]
  },
  {
   "cell_type": "code",
   "execution_count": 17,
   "id": "df8103d0",
   "metadata": {},
   "outputs": [
    {
     "data": {
      "text/plain": [
       "torch.Size([10, 10])"
      ]
     },
     "execution_count": 17,
     "metadata": {},
     "output_type": "execute_result"
    }
   ],
   "source": [
    "out = net(dummy_data)\n",
    "out.shape"
   ]
  },
  {
   "cell_type": "code",
   "execution_count": 18,
   "id": "2ece1781",
   "metadata": {},
   "outputs": [
    {
     "data": {
      "text/plain": [
       "tensor([[-2.2921, -2.3549, -2.2975, -2.3374, -2.3907, -2.2589, -2.2022, -2.2529,\n",
       "         -2.3151, -2.3381],\n",
       "        [-2.2759, -2.3235, -2.2914, -2.3214, -2.4151, -2.2207, -2.2860, -2.2654,\n",
       "         -2.2563, -2.3858],\n",
       "        [-2.2928, -2.3032, -2.2513, -2.2845, -2.4339, -2.2832, -2.2390, -2.2412,\n",
       "         -2.3719, -2.3419],\n",
       "        [-2.3274, -2.3752, -2.2561, -2.3698, -2.4252, -2.2732, -2.2159, -2.1619,\n",
       "         -2.3386, -2.3113],\n",
       "        [-2.2723, -2.3849, -2.2693, -2.2888, -2.4321, -2.2668, -2.2015, -2.2785,\n",
       "         -2.2806, -2.3724],\n",
       "        [-2.3144, -2.3243, -2.2673, -2.3270, -2.4137, -2.2386, -2.2320, -2.2403,\n",
       "         -2.3349, -2.3487],\n",
       "        [-2.3593, -2.4021, -2.2475, -2.3685, -2.4265, -2.3083, -2.1426, -2.1739,\n",
       "         -2.3426, -2.2948],\n",
       "        [-2.3305, -2.3646, -2.2473, -2.3553, -2.4029, -2.2937, -2.1991, -2.1650,\n",
       "         -2.3634, -2.3318],\n",
       "        [-2.2812, -2.3082, -2.3328, -2.2816, -2.4277, -2.2478, -2.2242, -2.2652,\n",
       "         -2.3271, -2.3451],\n",
       "        [-2.2615, -2.3490, -2.2343, -2.2641, -2.4802, -2.2850, -2.2397, -2.2130,\n",
       "         -2.3687, -2.3605]], grad_fn=<LogSoftmaxBackward0>)"
      ]
     },
     "execution_count": 18,
     "metadata": {},
     "output_type": "execute_result"
    }
   ],
   "source": [
    "out"
   ]
  },
  {
   "cell_type": "code",
   "execution_count": 19,
   "id": "3ec800d7",
   "metadata": {},
   "outputs": [
    {
     "name": "stdout",
     "output_type": "stream",
     "text": [
      "torch.Size([1000, 10])\n",
      "tensor(0.0003)\n",
      "tensor(0.0005)\n",
      "tensor([[-2.4146e-03,  3.9678e-04,  1.9275e-03,  8.3471e-04,  2.3794e-04],\n",
      "        [ 4.9990e-04, -7.2606e-04,  6.6137e-04, -8.7833e-04, -1.5864e-03],\n",
      "        [ 1.9611e-03,  2.1654e-03,  2.4943e-03,  5.3560e-06, -1.5356e-03],\n",
      "        [ 4.7223e-03,  5.0009e-03,  5.1277e-03,  2.3703e-03,  1.1460e-03],\n",
      "        [ 5.6549e-03,  5.7179e-03,  5.4456e-03,  3.2417e-03,  9.4610e-04]])\n",
      "tensor([[ 0.0019,  0.0005,  0.0033,  0.0048,  0.0020],\n",
      "        [ 0.0016, -0.0004,  0.0010,  0.0047,  0.0038],\n",
      "        [ 0.0023,  0.0007,  0.0002,  0.0038,  0.0038],\n",
      "        [ 0.0018,  0.0009,  0.0013,  0.0033,  0.0040],\n",
      "        [ 0.0008,  0.0014,  0.0019,  0.0033,  0.0039]])\n",
      "2.3103089332580566\n"
     ]
    }
   ],
   "source": [
    "def train(net, train_loader, test_loader, loss_fn, optimizer, epochs):\n",
    "    net.train()\n",
    "    accuracy = torch.tensor([0.])\n",
    "    for x, y in train_loader:\n",
    "        optimizer.zero_grad() #omnoh surgaltiin gradient 0 baih yostoi\n",
    "        preds = net(x)\n",
    "        print(preds.shape)\n",
    "        loss = loss_fn(preds, y) #loss function \n",
    "        loss.backward() #backpropagation, update hiideg\n",
    "        optimizer.step()\n",
    "        print(net.fc2.weight.grad[0][0])\n",
    "        print(net.fc1.weight.grad[0][0])\n",
    "        print(net.conv1.weight.grad[0][0])\n",
    "        print(net.conv2.weight.grad[0][0])\n",
    "        print(loss.item())\n",
    "        break\n",
    "        \n",
    "loss_fn = nn.CrossEntropyLoss()\n",
    "optimizer = torch.optim.SGD(net.parameters(), lr = 0.001, momentum = 0.5)\n",
    "epochs = 1\n",
    "train(net, train_loader, test_loader, loss_fn, optimizer, epochs)\n"
   ]
  },
  {
   "cell_type": "code",
   "execution_count": 20,
   "id": "098c2ff8",
   "metadata": {},
   "outputs": [
    {
     "name": "stdout",
     "output_type": "stream",
     "text": [
      "epochs: 0 Accuracy: 10.42\n",
      "test acc: 9.79\n",
      "epochs: 1 Accuracy: 10.471666666666666\n",
      "test acc: 10.57\n"
     ]
    }
   ],
   "source": [
    "def train(net, train_loader, test_loader, loss_fn, optimizer, epochs):\n",
    "    net.train()\n",
    "    for e in range(epochs):\n",
    "        accuracy = torch.tensor([0.])\n",
    "        for x, y in train_loader:\n",
    "            optimizer.zero_grad()\n",
    "            preds = net(x)\n",
    "            loss = loss_fn(preds, y)\n",
    "            loss.backward() #backpropagation, update hiideg\n",
    "            optimizer.step()\n",
    "            preds = preds.data.max(1, keepdim = True)[1]\n",
    "            accuracy += preds.eq(y.data.view_as(preds)).sum()\n",
    "        print('epochs:', e, 'Accuracy:', accuracy.item()*100/len(mnist_train))\n",
    "        eval(net, test_loader)\n",
    "def eval(net, test_loader):\n",
    "    net.eval()\n",
    "    accuracy = torch.tensor([0])\n",
    "    for x, y in test_loader:\n",
    "        preds = net(x)\n",
    "        preds = preds.data.max(1, keepdim = True)[1]\n",
    "        accuracy += preds.eq(y.data.view_as(preds)).sum()\n",
    "    print(\"test acc:\", accuracy.item()*100/len(mnist_test))\n",
    "        \n",
    "loss_fn = nn.CrossEntropyLoss()\n",
    "optimizer = torch.optim.SGD(net.parameters(), lr = 0.001, momentum = 0.5)\n",
    "epochs = 2\n",
    "train(net, train_loader, test_loader, loss_fn, optimizer, epochs)\n"
   ]
  },
  {
   "cell_type": "code",
   "execution_count": 21,
   "id": "581a7e9e",
   "metadata": {},
   "outputs": [],
   "source": [
    "torch.save(net.state_dict(), './checkpoints') #model ee hadgalna"
   ]
  },
  {
   "cell_type": "code",
   "execution_count": 22,
   "id": "28daec23",
   "metadata": {},
   "outputs": [],
   "source": [
    "del net #model-ee ustgana"
   ]
  },
  {
   "cell_type": "code",
   "execution_count": 23,
   "id": "678f19ef",
   "metadata": {},
   "outputs": [],
   "source": [
    "cnn = Net() #shineer model-ee duudaj ugnu"
   ]
  },
  {
   "cell_type": "code",
   "execution_count": 24,
   "id": "b4bf5269",
   "metadata": {},
   "outputs": [
    {
     "name": "stdout",
     "output_type": "stream",
     "text": [
      "epochs: 0 Accuracy: 9.966666666666667\n",
      "test acc: 10.16\n",
      "epochs: 1 Accuracy: 10.573333333333334\n",
      "test acc: 9.88\n"
     ]
    }
   ],
   "source": [
    "train(cnn, train_loader, test_loader, loss_fn, optimizer, epochs)\n"
   ]
  },
  {
   "cell_type": "code",
   "execution_count": 25,
   "id": "57581b4b",
   "metadata": {},
   "outputs": [
    {
     "data": {
      "text/plain": [
       "<All keys matched successfully>"
      ]
     },
     "execution_count": 25,
     "metadata": {},
     "output_type": "execute_result"
    }
   ],
   "source": [
    "cnn.load_state_dict(torch.load('./checkpoints')) #hadgalsan model-ee load hiine"
   ]
  },
  {
   "cell_type": "code",
   "execution_count": 26,
   "id": "9177122b",
   "metadata": {
    "scrolled": true
   },
   "outputs": [
    {
     "name": "stdout",
     "output_type": "stream",
     "text": [
      "epochs: 0 Accuracy: 10.811666666666667\n",
      "test acc: 10.69\n",
      "epochs: 1 Accuracy: 11.076666666666666\n",
      "test acc: 10.9\n"
     ]
    }
   ],
   "source": [
    "train(cnn, train_loader, test_loader, loss_fn, optimizer, epochs)\n"
   ]
  },
  {
   "cell_type": "markdown",
   "id": "8d7b0668",
   "metadata": {},
   "source": [
    " Confusion Matrix\n"
   ]
  },
  {
   "cell_type": "code",
   "execution_count": 27,
   "id": "12e511ab",
   "metadata": {},
   "outputs": [],
   "source": [
    "import tensorflow as tf\n",
    "from tensorflow import keras\n",
    "import matplotlib.pyplot as plt\n",
    "%matplotlib inline\n",
    "import numpy as np"
   ]
  },
  {
   "cell_type": "code",
   "execution_count": 28,
   "id": "4b692ed6",
   "metadata": {},
   "outputs": [],
   "source": [
    "(x_train, y_train), (x_test, y_test) = keras.datasets.mnist.load_data()\n",
    "# Scale the data so that the values are from 0 - 1\n",
    "x_train = x_train / 255\n",
    "x_test = x_test / 255\n",
    "# Flattening the train and test data\n",
    "x_train_flattened = x_train.reshape(len(x_train), 28*28)\n",
    "x_test_flattened = x_test.reshape(len(x_test), 28*28)\n"
   ]
  },
  {
   "cell_type": "code",
   "execution_count": 29,
   "id": "58ee614d",
   "metadata": {
    "scrolled": true
   },
   "outputs": [
    {
     "name": "stdout",
     "output_type": "stream",
     "text": [
      "Epoch 1/5\n",
      "1875/1875 [==============================] - 4s 2ms/step - loss: 0.4697 - accuracy: 0.8783\n",
      "Epoch 2/5\n",
      "1875/1875 [==============================] - 3s 2ms/step - loss: 0.3042 - accuracy: 0.9152\n",
      "Epoch 3/5\n",
      "1875/1875 [==============================] - 3s 2ms/step - loss: 0.2837 - accuracy: 0.9205\n",
      "Epoch 4/5\n",
      "1875/1875 [==============================] - 4s 2ms/step - loss: 0.2734 - accuracy: 0.9232\n",
      "Epoch 5/5\n",
      "1875/1875 [==============================] - 5s 2ms/step - loss: 0.2670 - accuracy: 0.9251\n"
     ]
    },
    {
     "data": {
      "text/plain": [
       "<keras.callbacks.History at 0x1f4ed0eab80>"
      ]
     },
     "execution_count": 29,
     "metadata": {},
     "output_type": "execute_result"
    }
   ],
   "source": [
    "# Sequential create a stack of layers\n",
    "model = keras.Sequential([\n",
    "    keras.layers.Dense(10, input_shape=(784,), activation='sigmoid')\n",
    "])\n",
    "\n",
    "# Optimizer will help in backproagation to reach better global optima\n",
    "model.compile(\n",
    "    optimizer='adam',\n",
    "    loss='sparse_categorical_crossentropy',\n",
    "    metrics=['accuracy']\n",
    ")\n",
    "\n",
    "# Does the training\n",
    "model.fit(x_train_flattened, y_train, epochs=5)"
   ]
  },
  {
   "cell_type": "code",
   "execution_count": 30,
   "id": "fd7013e5",
   "metadata": {},
   "outputs": [
    {
     "name": "stdout",
     "output_type": "stream",
     "text": [
      "313/313 [==============================] - 1s 2ms/step - loss: 0.2675 - accuracy: 0.9239\n"
     ]
    },
    {
     "data": {
      "text/plain": [
       "[0.2674504220485687, 0.9239000082015991]"
      ]
     },
     "execution_count": 30,
     "metadata": {},
     "output_type": "execute_result"
    }
   ],
   "source": [
    "model.evaluate(x_test_flattened, y_test)\n"
   ]
  },
  {
   "cell_type": "code",
   "execution_count": 31,
   "id": "172844e3",
   "metadata": {},
   "outputs": [
    {
     "name": "stdout",
     "output_type": "stream",
     "text": [
      "313/313 [==============================] - 0s 1ms/step\n"
     ]
    },
    {
     "data": {
      "text/plain": [
       "array([2.9263144e-02, 2.6082768e-07, 4.9746823e-02, 9.5929313e-01,\n",
       "       2.2295818e-03, 8.6859442e-02, 1.7399142e-06, 9.9977255e-01,\n",
       "       5.6344558e-02, 6.2228209e-01], dtype=float32)"
      ]
     },
     "execution_count": 31,
     "metadata": {},
     "output_type": "execute_result"
    }
   ],
   "source": [
    "# Make the predictions\n",
    "y_predicted = model.predict(x_test_flattened)\n",
    "y_predicted[0]\n"
   ]
  },
  {
   "cell_type": "code",
   "execution_count": 32,
   "id": "c0455a27",
   "metadata": {},
   "outputs": [
    {
     "data": {
      "text/plain": [
       "[7, 2, 1, 0, 4]"
      ]
     },
     "execution_count": 32,
     "metadata": {},
     "output_type": "execute_result"
    }
   ],
   "source": [
    "y_predicted_labels = [np.argmax(i) for i in y_predicted]\n",
    "y_predicted_labels[:5]"
   ]
  },
  {
   "cell_type": "code",
   "execution_count": 33,
   "id": "84fe6357",
   "metadata": {},
   "outputs": [],
   "source": [
    "cm = tf.math.confusion_matrix(labels=y_test, predictions=y_predicted_labels)\n"
   ]
  },
  {
   "cell_type": "code",
   "execution_count": 34,
   "id": "3bdf7a73",
   "metadata": {
    "scrolled": false
   },
   "outputs": [
    {
     "data": {
      "text/plain": [
       "<tf.Tensor: shape=(10, 10), dtype=int32, numpy=\n",
       "array([[ 963,    0,    2,    2,    0,    4,    6,    2,    1,    0],\n",
       "       [   0, 1118,    3,    2,    0,    1,    4,    2,    5,    0],\n",
       "       [   7,    9,  924,   17,   12,    4,   12,   11,   33,    3],\n",
       "       [   3,    0,   18,  924,    0,   28,    2,   10,   15,   10],\n",
       "       [   1,    1,    4,    1,  923,    0,   10,    4,    6,   32],\n",
       "       [  11,    3,    2,   30,   11,  778,   17,    7,   26,    7],\n",
       "       [  13,    3,    8,    1,    8,   10,  912,    2,    1,    0],\n",
       "       [   1,    6,   21,    7,    9,    0,    0,  954,    1,   29],\n",
       "       [  11,   12,    6,   29,   10,   34,    9,   14,  835,   14],\n",
       "       [  11,    7,    1,   12,   32,    7,    0,   29,    2,  908]])>"
      ]
     },
     "execution_count": 34,
     "metadata": {},
     "output_type": "execute_result"
    }
   ],
   "source": [
    "cm"
   ]
  },
  {
   "cell_type": "code",
   "execution_count": 35,
   "id": "a9e99beb",
   "metadata": {
    "scrolled": false
   },
   "outputs": [
    {
     "data": {
      "text/plain": [
       "Text(69.0, 0.5, 'Truth')"
      ]
     },
     "execution_count": 35,
     "metadata": {},
     "output_type": "execute_result"
    },
    {
     "data": {
      "image/png": "[encoded data removed]",
      "text/plain": [
       "<Figure size 720x504 with 2 Axes>"
      ]
     },
     "metadata": {
      "needs_background": "light"
     },
     "output_type": "display_data"
    }
   ],
   "source": [
    "import seaborn as sn\n",
    "plt.figure(figsize = (10,7))\n",
    "sn.heatmap(cm, annot=True, fmt='d')\n",
    "plt.xlabel('Predicted')\n",
    "plt.ylabel('Truth')"
   ]
  }
 ],
 "metadata": {
  "kernelspec": {
   "display_name": "Python 3 (ipykernel)",
   "language": "python",
   "name": "python3"
  },
  "language_info": {
   "codemirror_mode": {
    "name": "ipython",
    "version": 3
   },
   "file_extension": ".py",
   "mimetype": "text/x-python",
   "name": "python",
   "nbconvert_exporter": "python",
   "pygments_lexer": "ipython3",
   "version": "3.9.7"
  },
  "vscode": {
   "interpreter": {
    "hash": "cf92aa13fedf815d5c8dd192b8d835913fde3e8bc926b2a0ad6cc74ef2ba3ca2"
   }
  }
 },
 "nbformat": 4,
 "nbformat_minor": 5
}
