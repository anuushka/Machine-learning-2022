{
 "cells": [
  {
   "cell_type": "code",
   "execution_count": 158,
   "id": "414e772f",
   "metadata": {},
   "outputs": [],
   "source": [
    "import torch\n",
    "import torch.nn as nn\n",
    "import torchvision\n",
    "from torch.utils.data import DataLoader\n",
    "from torch.utils.data import dataset\n",
    "from matplotlib import pyplot as plt\n",
    "import numpy as np"
   ]
  },
  {
   "cell_type": "code",
   "execution_count": 159,
   "id": "366e800e",
   "metadata": {},
   "outputs": [],
   "source": [
    "transform = torchvision.transforms.Compose([\n",
    "    torchvision.transforms.RandomRotation(10),\n",
    "    torchvision.transforms.ToTensor(), \n",
    "    torchvision.transforms.Normalize((0.1307,),(0.3081,))\n",
    "])\n",
    "mnist_train = torchvision.datasets.MNIST('./data', train = True, download = True, transform = transform)"
   ]
  },
  {
   "cell_type": "code",
   "execution_count": 160,
   "id": "daf6fdf0",
   "metadata": {},
   "outputs": [],
   "source": [
    "mnist_test = torchvision.datasets.MNIST('./data', train = False, download = True, transform = transform)"
   ]
  },
  {
   "cell_type": "code",
   "execution_count": 161,
   "id": "12502fb7",
   "metadata": {},
   "outputs": [
    {
     "data": {
      "text/plain": [
       "60000"
      ]
     },
     "execution_count": 161,
     "metadata": {},
     "output_type": "execute_result"
    }
   ],
   "source": [
    "len(mnist_train)"
   ]
  },
  {
   "cell_type": "code",
   "execution_count": 162,
   "id": "6eba9bb7",
   "metadata": {},
   "outputs": [
    {
     "data": {
      "text/plain": [
       "10000"
      ]
     },
     "execution_count": 162,
     "metadata": {},
     "output_type": "execute_result"
    }
   ],
   "source": [
    "len(mnist_test)"
   ]
  },
  {
   "cell_type": "code",
   "execution_count": 163,
   "id": "8c3ea24f",
   "metadata": {},
   "outputs": [],
   "source": [
    "image = mnist_train.data[0]"
   ]
  },
  {
   "cell_type": "code",
   "execution_count": 164,
   "id": "a67ba8f0",
   "metadata": {},
   "outputs": [
    {
     "data": {
      "text/plain": [
       "torch.Size([28, 28])"
      ]
     },
     "execution_count": 164,
     "metadata": {},
     "output_type": "execute_result"
    }
   ],
   "source": [
    "image.shape"
   ]
  },
  {
   "cell_type": "code",
   "execution_count": 165,
   "id": "eecf1d9a",
   "metadata": {},
   "outputs": [
    {
     "data": {
      "text/plain": [
       "tensor(0, dtype=torch.uint8)"
      ]
     },
     "execution_count": 165,
     "metadata": {},
     "output_type": "execute_result"
    }
   ],
   "source": [
    "image[0][0]"
   ]
  },
  {
   "cell_type": "code",
   "execution_count": 166,
   "id": "dad64545",
   "metadata": {
    "scrolled": true
   },
   "outputs": [
    {
     "data": {
      "image/png": "[encoded data removed]",
      "text/plain": [
       "<Figure size 432x288 with 1 Axes>"
      ]
     },
     "metadata": {
      "needs_background": "light"
     },
     "output_type": "display_data"
    }
   ],
   "source": [
    "plt.imshow(image)\n",
    "plt.title(mnist_train.targets[0])\n",
    "plt.show()"
   ]
  },
  {
   "cell_type": "code",
   "execution_count": 167,
   "id": "d805eac8",
   "metadata": {},
   "outputs": [],
   "source": [
    "train_loader = DataLoader(mnist_train, batch_size = 1000, shuffle=True)\n",
    "test_loader = DataLoader(mnist_test, batch_size = 1000, shuffle = False)"
   ]
  },
  {
   "cell_type": "code",
   "execution_count": 168,
   "id": "55c59133",
   "metadata": {
    "scrolled": true
   },
   "outputs": [
    {
     "name": "stdout",
     "output_type": "stream",
     "text": [
      "torch.Size([1000, 1, 28, 28]) torch.Size([1000])\n",
      "tensor(-0.4242) tensor(5)\n"
     ]
    }
   ],
   "source": [
    "for x, y in train_loader:\n",
    "    print(x.shape, y.shape)\n",
    "    print(x[0][0][0][0], y[0])\n",
    "    break"
   ]
  },
  {
   "cell_type": "code",
   "execution_count": 169,
   "id": "b63a2de6",
   "metadata": {},
   "outputs": [],
   "source": [
    "class Net(nn.Module):\n",
    "    def __init__(self, hidden_feature_size=100):\n",
    "        super(Net,self).__init__()\n",
    "        self.conv1 = nn.Conv2d(1, 10, kernel_size = 5) #feature extraction\n",
    "        self.conv2 = nn.Conv2d(10, 20, kernel_size = 5) #feature extraction\n",
    "        self.fc1 = nn.Linear(320, 100)\n",
    "        self.fc2 = nn.Linear(hidden_feature_size, 10)\n",
    "        self.dp = nn.Dropout2d()\n",
    "        self.relu = nn.ReLU()\n",
    "    def forward(self, x):\n",
    "        x = nn.functional.max_pool2d(self.dp(self.relu(self.conv1(x))),2)#nn.functional gej funktsee shuud ashiglana \n",
    "        x = nn.functional.max_pool2d(self.dp(self.relu(self.conv2(x))),2)\n",
    "        x = x.view(-1, 320)\n",
    "        x = self.relu(self.fc1(x))\n",
    "        x = nn.functional.log_softmax(self.fc2(x), dim = -1)\n",
    "        return x"
   ]
  },
  {
   "cell_type": "code",
   "execution_count": 170,
   "id": "ea490b77",
   "metadata": {},
   "outputs": [],
   "source": [
    "dummy_data = torch.rand(10, 1, 28, 28)"
   ]
  },
  {
   "cell_type": "code",
   "execution_count": 171,
   "id": "8009edd0",
   "metadata": {},
   "outputs": [
    {
     "data": {
      "text/plain": [
       "torch.Size([10, 1, 28, 28])"
      ]
     },
     "execution_count": 171,
     "metadata": {},
     "output_type": "execute_result"
    }
   ],
   "source": [
    "dummy_data.shape"
   ]
  },
  {
   "cell_type": "code",
   "execution_count": 172,
   "id": "5744912a",
   "metadata": {},
   "outputs": [],
   "source": [
    "net = Net()"
   ]
  },
  {
   "cell_type": "code",
   "execution_count": 173,
   "id": "df8103d0",
   "metadata": {},
   "outputs": [
    {
     "data": {
      "text/plain": [
       "torch.Size([10, 10])"
      ]
     },
     "execution_count": 173,
     "metadata": {},
     "output_type": "execute_result"
    }
   ],
   "source": [
    "out = net(dummy_data)\n",
    "out.shape"
   ]
  },
  {
   "cell_type": "code",
   "execution_count": 174,
   "id": "2ece1781",
   "metadata": {},
   "outputs": [
    {
     "data": {
      "text/plain": [
       "tensor([[-2.2190, -2.2729, -2.2936, -2.3057, -2.2569, -2.3696, -2.3600, -2.3626,\n",
       "         -2.3172, -2.2794],\n",
       "        [-2.2108, -2.2692, -2.2749, -2.3502, -2.2618, -2.3629, -2.3509, -2.3423,\n",
       "         -2.3058, -2.3081],\n",
       "        [-2.2978, -2.3135, -2.2546, -2.2413, -2.2221, -2.3967, -2.3753, -2.4023,\n",
       "         -2.2901, -2.2517],\n",
       "        [-2.1807, -2.3483, -2.2200, -2.2214, -2.3513, -2.3445, -2.3876, -2.3336,\n",
       "         -2.4210, -2.2473],\n",
       "        [-2.2291, -2.3005, -2.2626, -2.3326, -2.2729, -2.3389, -2.3603, -2.3439,\n",
       "         -2.3130, -2.2801],\n",
       "        [-2.2165, -2.2880, -2.2773, -2.2943, -2.2766, -2.3577, -2.3614, -2.3646,\n",
       "         -2.2996, -2.2994],\n",
       "        [-2.1971, -2.4797, -2.2776, -2.3441, -2.2459, -2.4560, -2.2877, -2.3124,\n",
       "         -2.2990, -2.1702],\n",
       "        [-2.1850, -2.3032, -2.2694, -2.2958, -2.3128, -2.3159, -2.3496, -2.3571,\n",
       "         -2.3429, -2.3054],\n",
       "        [-2.2323, -2.3516, -2.2570, -2.4348, -2.2284, -2.4116, -2.2777, -2.3195,\n",
       "         -2.2994, -2.2378],\n",
       "        [-2.2442, -2.2928, -2.2847, -2.2803, -2.2930, -2.3495, -2.3518, -2.4173,\n",
       "         -2.2558, -2.2689]], grad_fn=<LogSoftmaxBackward0>)"
      ]
     },
     "execution_count": 174,
     "metadata": {},
     "output_type": "execute_result"
    }
   ],
   "source": [
    "out"
   ]
  },
  {
   "cell_type": "code",
   "execution_count": 175,
   "id": "3ec800d7",
   "metadata": {},
   "outputs": [
    {
     "name": "stdout",
     "output_type": "stream",
     "text": [
      "torch.Size([1000, 10])\n",
      "tensor(0.0175)\n",
      "tensor(0.0012)\n",
      "tensor([[-2.3655e-04,  1.0067e-04, -1.5399e-03,  2.0771e-03,  4.0211e-03],\n",
      "        [-1.3629e-03,  8.6293e-05,  9.2694e-04,  3.7777e-03,  3.0649e-03],\n",
      "        [-3.9597e-03, -4.2606e-03, -4.0799e-04,  4.5680e-03,  1.6150e-03],\n",
      "        [-8.0076e-03, -6.2604e-03, -3.2035e-03,  1.5415e-03, -2.3810e-04],\n",
      "        [-7.8724e-03, -7.0046e-03, -4.9276e-03, -2.1370e-04, -6.0136e-04]])\n",
      "tensor([[-2.5418e-03, -9.8149e-04,  8.7693e-04,  3.2352e-03,  2.4346e-03],\n",
      "        [-2.4191e-03, -1.9214e-04,  1.3982e-03,  1.1072e-03, -1.9942e-03],\n",
      "        [ 1.1764e-04,  6.7778e-04,  1.6677e-03, -1.3638e-03, -2.3587e-03],\n",
      "        [-2.2844e-03,  3.9798e-04,  1.8721e-03, -1.2509e-03, -3.7215e-04],\n",
      "        [-4.2625e-07,  2.1305e-03,  4.2355e-03,  2.5249e-03,  2.7052e-03]])\n",
      "2.3346848487854004\n"
     ]
    }
   ],
   "source": [
    "def train(net, train_loader, test_loader, loss_fn, optimizer, epochs):\n",
    "    net.train()\n",
    "    accuracy = torch.tensor([0.])\n",
    "    for x, y in train_loader:\n",
    "        optimizer.zero_grad()\n",
    "        preds = net(x)\n",
    "        print(preds.shape)\n",
    "        loss = loss_fn(preds, y)\n",
    "        loss.backward() #backpropagation, update hiideg\n",
    "        optimizer.step()\n",
    "        print(net.fc2.weight.grad[0][0])\n",
    "        print(net.fc1.weight.grad[0][0])\n",
    "        print(net.conv1.weight.grad[0][0])\n",
    "        print(net.conv2.weight.grad[0][0])\n",
    "        print(loss.item())\n",
    "        break\n",
    "        \n",
    "loss_fn = nn.CrossEntropyLoss()\n",
    "optimizer = torch.optim.SGD(net.parameters(), lr = 0.001, momentum = 0.5)\n",
    "epochs = 1\n",
    "train(net, train_loader, test_loader, loss_fn, optimizer, epochs)\n"
   ]
  },
  {
   "cell_type": "code",
   "execution_count": 176,
   "id": "098c2ff8",
   "metadata": {},
   "outputs": [
    {
     "name": "stdout",
     "output_type": "stream",
     "text": [
      "epochs: 0 Accuracy: 8.531666666666666\n",
      "test acc: 4.73\n",
      "epochs: 1 Accuracy: 6.801666666666667\n",
      "test acc: 8.23\n",
      "epochs: 2 Accuracy: 11.875\n",
      "test acc: 14.4\n",
      "epochs: 3 Accuracy: 19.048333333333332\n",
      "test acc: 23.04\n",
      "epochs: 4 Accuracy: 28.528333333333332\n",
      "test acc: 32.16\n"
     ]
    }
   ],
   "source": [
    "def train(net, train_loader, test_loader, loss_fn, optimizer, epochs):\n",
    "    net.train()\n",
    "    for e in range(epochs):\n",
    "        accuracy = torch.tensor([0.])\n",
    "        for x, y in train_loader:\n",
    "            optimizer.zero_grad()\n",
    "            preds = net(x)\n",
    "            loss = loss_fn(preds, y)\n",
    "            loss.backward() #backpropagation, update hiideg\n",
    "            optimizer.step()\n",
    "            preds = preds.data.max(1, keepdim = True)[1]\n",
    "            accuracy += preds.eq(y.data.view_as(preds)).sum()\n",
    "        print('epochs:', e, 'Accuracy:', accuracy.item()*100/len(mnist_train))\n",
    "        eval(net, test_loader)\n",
    "def eval(net, test_loader):\n",
    "    net.eval()\n",
    "    accuracy = torch.tensor([0])\n",
    "    for x, y in test_loader:\n",
    "        preds = net(x)\n",
    "        preds = preds.data.max(1, keepdim = True)[1]\n",
    "        accuracy += preds.eq(y.data.view_as(preds)).sum()\n",
    "    print(\"test acc:\", accuracy.item()*100/len(mnist_test))\n",
    "        \n",
    "loss_fn = nn.CrossEntropyLoss()\n",
    "optimizer = torch.optim.SGD(net.parameters(), lr = 0.001, momentum = 0.5)\n",
    "epochs = 5\n",
    "train(net, train_loader, test_loader, loss_fn, optimizer, epochs)\n"
   ]
  },
  {
   "cell_type": "code",
   "execution_count": 177,
   "id": "581a7e9e",
   "metadata": {},
   "outputs": [],
   "source": [
    "torch.save(net.state_dict(), './checkpoints') #model ee hadgalna"
   ]
  },
  {
   "cell_type": "code",
   "execution_count": 178,
   "id": "28daec23",
   "metadata": {},
   "outputs": [],
   "source": [
    "del net #model-ee ustgana"
   ]
  },
  {
   "cell_type": "code",
   "execution_count": 179,
   "id": "678f19ef",
   "metadata": {},
   "outputs": [],
   "source": [
    "cnn = Net() #shineer model-ee duudaj ugnu"
   ]
  },
  {
   "cell_type": "code",
   "execution_count": 180,
   "id": "b4bf5269",
   "metadata": {},
   "outputs": [
    {
     "name": "stdout",
     "output_type": "stream",
     "text": [
      "epochs: 0 Accuracy: 8.468333333333334\n",
      "test acc: 8.62\n",
      "epochs: 1 Accuracy: 8.74\n",
      "test acc: 8.69\n",
      "epochs: 2 Accuracy: 8.77\n",
      "test acc: 8.68\n",
      "epochs: 3 Accuracy: 8.766666666666667\n",
      "test acc: 8.62\n",
      "epochs: 4 Accuracy: 8.801666666666666\n",
      "test acc: 8.61\n"
     ]
    }
   ],
   "source": [
    "train(cnn, train_loader, test_loader, loss_fn, optimizer, epochs)\n"
   ]
  },
  {
   "cell_type": "code",
   "execution_count": 181,
   "id": "57581b4b",
   "metadata": {},
   "outputs": [
    {
     "data": {
      "text/plain": [
       "<All keys matched successfully>"
      ]
     },
     "execution_count": 181,
     "metadata": {},
     "output_type": "execute_result"
    }
   ],
   "source": [
    "cnn.load_state_dict(torch.load('./checkpoints')) #hadgalsan model-ee load hiine"
   ]
  },
  {
   "cell_type": "code",
   "execution_count": 182,
   "id": "9177122b",
   "metadata": {
    "scrolled": true
   },
   "outputs": [
    {
     "name": "stdout",
     "output_type": "stream",
     "text": [
      "epochs: 0 Accuracy: 13.788333333333334\n",
      "test acc: 32.33\n",
      "epochs: 1 Accuracy: 33.50833333333333\n",
      "test acc: 32.47\n",
      "epochs: 2 Accuracy: 33.54\n",
      "test acc: 32.95\n",
      "epochs: 3 Accuracy: 33.403333333333336\n",
      "test acc: 32.95\n",
      "epochs: 4 Accuracy: 33.586666666666666\n",
      "test acc: 32.67\n"
     ]
    }
   ],
   "source": [
    "train(cnn, train_loader, test_loader, loss_fn, optimizer, epochs)\n"
   ]
  },
  {
   "cell_type": "code",
   "execution_count": 202,
   "id": "8c7ba5b3",
   "metadata": {},
   "outputs": [],
   "source": [
    "class Net(nn.Module):\n",
    "    def __init__(self):\n",
    "        super(Net, self).__init__()\n",
    "        self.fc1 = nn.Linear(784, 40)\n",
    "        self.fc2 = nn.Linear(40, 20)\n",
    "        self.fc3 = nn.Linear(20, 10)\n",
    "        self.relu = nn.ReLU()\n",
    "\n",
    "    def forward(self, x):\n",
    "        x = self.relu(self.fc1(x))\n",
    "        x = self.relu(self.fc2(x))\n",
    "        x = nn.functional.dropout(x, training=self.training)\n",
    "        x = self.fc3(x)\n",
    "        return nn.functional.log_softmax(x,dim=0)"
   ]
  },
  {
   "cell_type": "code",
   "execution_count": 203,
   "id": "c6560110",
   "metadata": {},
   "outputs": [],
   "source": [
    "# accuracncy bodoh \n",
    "def train(net, train_loader, test_loader, optimizer, loss_fn, epochs, NN=False):\n",
    "    for e in range(epochs):\n",
    "        net.train()\n",
    "        correct = 0\n",
    "        for x, y in train_loader:\n",
    "            optimizer.zero_grad()\n",
    "            if NN:\n",
    "                x = x.flatten(start_dim=1, end_dim=-1)\n",
    "            preds = net(x)\n",
    "            loss = loss_fn(preds, y)\n",
    "            loss.backward()\n",
    "            optimizer.step()      \n",
    "            preds = preds.data.max(1, keepdim=True)[1]\n",
    "            correct += preds.eq(y.data.view_as(preds)).sum()\n",
    "        print('Epoch: ', e, 'Train Acc: ', correct.item()*100/len(mnist_train))\n",
    "        eval(test_loader, NN=NN)\n",
    "def eval(test_loader, NN):\n",
    "            net.eval()\n",
    "            correct = 0\n",
    "            for x, y in test_loader:\n",
    "                if NN:\n",
    "                    x = x.flatten(start_dim=1, end_dim=-1)\n",
    "                preds = net(x)\n",
    "                preds = preds.data.max(1, keepdim=True)[1]\n",
    "                correct += preds.eq(y.data.view_as(preds)).sum()\n",
    "            print('Test Acc: ', correct.item()*100/len(mnist_test))"
   ]
  },
  {
   "cell_type": "code",
   "execution_count": 204,
   "id": "6fedc394",
   "metadata": {},
   "outputs": [
    {
     "name": "stdout",
     "output_type": "stream",
     "text": [
      "Epoch:  0 Train Acc:  19.148333333333333\n",
      "Test Acc:  49.1\n",
      "Epoch:  1 Train Acc:  30.275\n",
      "Test Acc:  62.13\n",
      "Epoch:  2 Train Acc:  37.06666666666667\n",
      "Test Acc:  68.8\n",
      "Epoch:  3 Train Acc:  42.37833333333333\n",
      "Test Acc:  74.08\n",
      "Epoch:  4 Train Acc:  46.525\n",
      "Test Acc:  77.88\n",
      "Epoch:  5 Train Acc:  50.17\n",
      "Test Acc:  80.13\n",
      "Epoch:  6 Train Acc:  53.10666666666667\n",
      "Test Acc:  81.08\n",
      "Epoch:  7 Train Acc:  55.08166666666666\n",
      "Test Acc:  82.03\n",
      "Epoch:  8 Train Acc:  56.68666666666667\n",
      "Test Acc:  82.44\n",
      "Epoch:  9 Train Acc:  58.07833333333333\n",
      "Test Acc:  83.11\n"
     ]
    }
   ],
   "source": [
    "net = Net()\n",
    "optimizer = torch.optim.SGD(net.parameters(),lr = 0.005, momentum=0.5)\n",
    "loss_fn = torch.nn.CrossEntropyLoss()\n",
    "train(net, train_loader, test_loader, optimizer,loss_fn, epochs=10, NN=True)"
   ]
  },
  {
   "cell_type": "code",
   "execution_count": null,
   "id": "13a3ab30",
   "metadata": {},
   "outputs": [],
   "source": []
  }
 ],
 "metadata": {
  "kernelspec": {
   "display_name": "Python 3 (ipykernel)",
   "language": "python",
   "name": "python3"
  },
  "language_info": {
   "codemirror_mode": {
    "name": "ipython",
    "version": 3
   },
   "file_extension": ".py",
   "mimetype": "text/x-python",
   "name": "python",
   "nbconvert_exporter": "python",
   "pygments_lexer": "ipython3",
   "version": "3.9.7"
  }
 },
 "nbformat": 4,
 "nbformat_minor": 5
}
