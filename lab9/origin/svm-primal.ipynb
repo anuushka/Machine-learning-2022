{
 "cells": [
  {
   "cell_type": "markdown",
   "metadata": {},
   "source": [
    "# A Support Vector Machine in just a few Lines of Python Code\n",
    "\n",
    "*Content created by [webstudio Richter](http://bestinnovations.de/wordpress/a-perceptron-in-just-a-few-lines-of-python-code/) alias Mavicc on March 30. 2017.*\n",
    "\n",
    "In the last tutorial we coded a perceptron using stochastic gradient descent. The perceptron solved a linear seperable classification problem, by finding a hyperplane seperating the two classes.\n",
    "\n",
    "The point here is, that the perceptron just finds one possible hyperplane, not necessarily the optimal hyperplane. That can lead to lower generalization performance.\n",
    "\n",
    "Here support vector machines (svm) come into place. In contrast to perceptrons, svms try to find a hyperplane, which maximizes the margin between two classes.\n",
    "\n",
    "As last time, we will focus on developing the code, not so much the theorety of svms.\n",
    "\n",
    "I highly advise you the book of Schölkopf & Smola. Do not let the math scrare you, as they explain the basics of machine learning in a really comprehensive way:\n",
    "\n",
    "**Schölkopf & Smola** (2002). Learning with Kernels. Support Vector Machines, Regularization, Optimization, and Beyond.\n",
    "\n",
    "Furthermore there is a short introduction to the mathematical backgrounds of svm in the following MIT paper:\n",
    "\n",
    "https://www.google.de/search?client=ubuntu&channel=fs&q=svm+standford&ie=utf-8&oe=utf-8&gfe_rd=cr&ei=UfDhWM_BMunVXredsIgI#q=support+vector+machine+tutorial&channel=fs&start=10&*\n",
    "\n",
    "## Give me the Code!"
   ]
  },
  {
   "cell_type": "code",
   "execution_count": 1,
   "metadata": {},
   "outputs": [
    {
     "name": "stdout",
     "output_type": "stream",
     "text": [
      "[ 1.58876117  3.17458055 11.11863105]\n"
     ]
    }
   ],
   "source": [
    "import numpy as np\n",
    "\n",
    "X = np.array([\n",
    "    [-2,4,-1],\n",
    "    [4,1,-1],\n",
    "    [1, 6, -1],\n",
    "    [2, 4, -1],\n",
    "    [6, 2, -1],\n",
    "\n",
    "])\n",
    "\n",
    "y = np.array([-1,-1,1,1,1])\n",
    "\n",
    "def svm_sgd(X, Y):\n",
    "\n",
    "    w = np.zeros(len(X[0]))\n",
    "    eta = 1\n",
    "    epochs = 100000\n",
    "\n",
    "\n",
    "    for epoch in range(1,epochs):\n",
    "        for i, x in enumerate(X):\n",
    "            if (Y[i]*np.dot(X[i], w)) < 1:\n",
    "                w = w + eta * ( (X[i] * Y[i]) + (-2  *(1/epoch)* w) )\n",
    "            else:\n",
    "                w = w + eta * (-2  *(1/epoch)* w)\n",
    "\n",
    "    return w\n",
    "\n",
    "w = svm_sgd(X,y)\n",
    "print(w)"
   ]
  },
  {
   "cell_type": "markdown",
   "metadata": {},
   "source": [
    "## Our Ingredients \n",
    "\n",
    "First we will import numpy to easily manage linear algebra and calculus operations in python. To plot the learning progress later on, we will use matplotlib."
   ]
  },
  {
   "cell_type": "code",
   "execution_count": 2,
   "metadata": {},
   "outputs": [],
   "source": [
    "import numpy as np\n",
    "from matplotlib import pyplot as plt\n",
    "%matplotlib inline"
   ]
  },
  {
   "cell_type": "markdown",
   "metadata": {},
   "source": [
    "### Stochastic Gradient Descent\n",
    "\n",
    "As for the perceptron, we use python 3 and numpy. The svm will learn using the stochastic gradient descent algorithm (SGD). Gradient Descent minimizes a function by following the gradients of the cost function. For further details see:\n",
    "\n",
    "Wikipedia - stochastic gradient descent"
   ]
  },
  {
   "cell_type": "markdown",
   "metadata": {},
   "source": [
    "### Calculating the Error \n",
    "\n",
    "To calculate the error of a prediction we first need to define the objective function of the svm. "
   ]
  },
  {
   "cell_type": "markdown",
   "metadata": {},
   "source": [
    "#### Hinge Loss Function\n",
    "\n",
    "To do this, we need to define the loss function, to calculate the prediction error. We will use hinge loss for our perceptron:\n",
    "\n",
    "$$c(x, y, f(x)) = (1 - y * f(x))_+$$"
   ]
  },
  {
   "cell_type": "markdown",
   "metadata": {},
   "source": [
    "$c$ is the loss function, $x$ the sample, $y$ is the true label, $f(x)$ the predicted label.\n",
    "\n",
    "This means the following:\n",
    "$$\n",
    "c(x, y, f(x))= \n",
    "\\begin{cases}\n",
    "    0,& \\text{if } y*f(x)\\geq 1\\\\\n",
    "    1-y*f(x),              & \\text{else}\n",
    "\\end{cases}\n",
    "$$"
   ]
  },
  {
   "cell_type": "markdown",
   "metadata": {},
   "source": [
    "So consider, if y and f(x) are signed values $(+1,-1)$:\n",
    "\n",
    "<ul>\n",
    "    <li>the loss is 0, if $y*f(x)$ are positive, respective both values have the same sign.</li>\n",
    "    <li>loss is $1-y*f(x)$ if $y*f(x)$ is negative</li>\n",
    "</ul>"
   ]
  },
  {
   "cell_type": "markdown",
   "metadata": {},
   "source": [
    "#### Objective Function \n",
    "\n",
    "As we defined the loss function, we can now define the objective function for the svm:"
   ]
  },
  {
   "cell_type": "markdown",
   "metadata": {},
   "source": [
    "$$\\underset{w}{min}\\ \\lambda\\parallel w\\parallel^2 + \\ \\sum_{i=1}^n\\big(1-y_i \\langle x_i,w \\rangle\\big)_+$$"
   ]
  },
  {
   "cell_type": "markdown",
   "metadata": {},
   "source": [
    "As you can see, our objective of a svm consists of two terms. The first term is a regularizer, the second term the loss. The regularizer balances between margin maximization and loss. To get more informations I advice you the tutorial introduction of the above adviced Schölkopf & Smola book.\n",
    "\n",
    "#### Derive the Objective Function\n",
    "\n",
    "To minimize this function, we need the gradients of this function.\n",
    "\n",
    "As we have two terms, we will derive them seperately using the sum rule in differentiation.\n",
    "\n",
    "$$\n",
    "\\frac{\\delta}{\\delta w_k} \\lambda\\parallel w\\parallel^2 \\ = 2 \\lambda w_k\n",
    "$$\n",
    "\n",
    "$$\n",
    "\\frac{\\delta}{\\delta w_k} \\big(1-y_i \\langle x_i,w \\rangle\\big)_+ \\ = \\begin{cases}\n",
    "    0,& \\text{if } y_i \\langle x_i,w \\rangle\\geq 1\\\\\n",
    "    -y_ix_{ik},              & \\text{else}\n",
    "\\end{cases}\n",
    "$$"
   ]
  },
  {
   "cell_type": "markdown",
   "metadata": {},
   "source": [
    "This means, if we have a misclassified sample $x_i$, respectively $y_i \\langle x_i,w \\rangle \\ < \\ 1$, we update the weight vector w using the gradients of both terms, if $y_i \\langle x_i,w \\rangle \\geq 1$ we just update w by the gradient of the regularizer. To sum it up, our stochastic gradient descent for the svm looks like this:"
   ]
  },
  {
   "cell_type": "markdown",
   "metadata": {},
   "source": [
    "if $y_i⟨x_i,w⟩ < 1$:\n",
    "$$\n",
    "w = w + \\eta (y_ix_i - 2\\lambda w)\n",
    "$$\n",
    "else:\n",
    "$$\n",
    "w = w + \\eta (-2\\lambda w)\n",
    "$$"
   ]
  },
  {
   "cell_type": "markdown",
   "metadata": {},
   "source": [
    "### Our Data Set \n",
    "\n",
    "First we need to define a labeled data set. If you read the perceptron tutorial you will already know it."
   ]
  },
  {
   "cell_type": "code",
   "execution_count": 3,
   "metadata": {},
   "outputs": [],
   "source": [
    "X = np.array([\n",
    "    [-2, 4],\n",
    "    [4, 1],\n",
    "    [1, 6],\n",
    "    [2, 4],\n",
    "    [6, 2]\n",
    "])\n",
    "\n",
    "y = np.array([-1,-1,1,1,1])"
   ]
  },
  {
   "cell_type": "markdown",
   "metadata": {},
   "source": [
    "For simplicity's sake we again fold the bias term into the data set:"
   ]
  },
  {
   "cell_type": "code",
   "execution_count": 4,
   "metadata": {},
   "outputs": [],
   "source": [
    "X = np.array([\n",
    "    [-2,4,-1],\n",
    "    [4,1,-1],\n",
    "    [1, 6, -1],\n",
    "    [2, 4, -1],\n",
    "    [6, 2, -1],\n",
    "\n",
    "])\n",
    "\n",
    "y = np.array([-1,-1,1,1,1])"
   ]
  },
  {
   "cell_type": "markdown",
   "metadata": {},
   "source": [
    "This small toy data set contains two samples labeled with $-1$ and three samples labeled with $+1$. This means we have a binary classification problem, as the data set contains two sample classes. Lets plot the dataset to see, that is is linearly seperable:"
   ]
  },
  {
   "cell_type": "code",
   "execution_count": 5,
   "metadata": {},
   "outputs": [
    {
     "data": {
      "text/plain": [
       "[<matplotlib.lines.Line2D at 0x21dc20a1790>]"
      ]
     },
     "execution_count": 5,
     "metadata": {},
     "output_type": "execute_result"
    },
    {
     "data": {
      "image/png": "[encoded data removed]",
      "text/plain": [
       "<Figure size 432x288 with 1 Axes>"
      ]
     },
     "metadata": {
      "needs_background": "light"
     },
     "output_type": "display_data"
    }
   ],
   "source": [
    "for d, sample in enumerate(X):\n",
    "    # Plot the negative samples\n",
    "    if d < 2:\n",
    "        plt.scatter(sample[0], sample[1], s=120, marker='_', linewidths=2)\n",
    "    # Plot the positive samples\n",
    "    else:\n",
    "        plt.scatter(sample[0], sample[1], s=120, marker='+', linewidths=2)\n",
    "\n",
    "# Print a possible hyperplane, that is seperating the two classes.\n",
    "plt.plot([-2,6],[6,0.5])"
   ]
  },
  {
   "cell_type": "markdown",
   "metadata": {},
   "source": [
    "## Lets Start implementing Stochastic Gradient Descent \n",
    "\n",
    "Finally we can code our SGD algorithm using our update rules. In opposite to the perceptrons objective function, we use a regularizer in our algorithm. As we have a small data set, which is easily lineary seperable, this is actually not needed and our stochastic gradient descent algorithm would probably converge faster without it. To give you a more powerfull code at hand, I will keep it in the following algorithm.\n",
    "\n",
    "To keep it simple, we will linearly loop over the sample set. For larger data sets it makes sence, to randomly pick a sample during each iteration in the for-loop."
   ]
  },
  {
   "cell_type": "code",
   "execution_count": 6,
   "metadata": {},
   "outputs": [],
   "source": [
    "def svm_sgd(X, Y):\n",
    "    w = np.zeros(len(X[0]))\n",
    "    eta = 1\n",
    "    epochs = 100000\n",
    "\n",
    "    for epoch in range(1,n):\n",
    "        for i, x in enumerate(X):\n",
    "            if (Y[i]*np.dot(X[i], w)) < 1:\n",
    "                w = w + eta * ( (X[i] * Y[i]) + (-2  *(1/epoch)* w) )\n",
    "            else:\n",
    "                w = w + eta * (-2  *(1/epoch)* w)\n",
    "\n",
    "    return w"
   ]
  },
  {
   "cell_type": "markdown",
   "metadata": {},
   "source": [
    "We will run the sgd $100000$ times. Our learning parameter eta is set to $1$. As a regulizing parameter we choose $1/t$, so this parameter will decrease, as the number of epochs increases."
   ]
  },
  {
   "cell_type": "markdown",
   "metadata": {},
   "source": [
    "#### Code Description Line by Line\n",
    "\n",
    "line <b>2</b>: Initialize the weight vector for the perceptron with zeros<br>\n",
    "line <b>3</b>: Set the learning rate to 1<br>\n",
    "line <b>4</b>: Set the number of epochs<br>\n",
    "line <b>6</b>: Iterate n times over the whole data set. The Iterator is begins with $1$ to avoid division by zero during regularization  parameter calculation<br>\n",
    "line <b>7</b>: Iterate over each sample in the data set. <br>\n",
    "line <b>8</b>: Misclassification condition $y_i \\langle x_i,w \\rangle < 1$<br>\n",
    "line <b>9</b>: Update rule for the weights $w = w + \\eta (y_ix_i - 2\\lambda w)$ including the learning rate $\\eta$ and the regularizer $\\lambda$<br>\n",
    "line <b>11</b>: If classified correctly just update the weight vector by the derived regularizer term $w = w + \\eta (-2\\lambda w)$.<br>"
   ]
  },
  {
   "cell_type": "markdown",
   "metadata": {},
   "source": [
    "### Let the SVM learn! \n",
    "\n",
    "Next we can execute our code, to calculate the proper weight vector, which fits out training data. If there are misclassified samples we will print the number of misclassified and correctly classified samples."
   ]
  },
  {
   "cell_type": "code",
   "execution_count": 7,
   "metadata": {},
   "outputs": [],
   "source": [
    "def svm_sgd_plot(X, Y):\n",
    "\n",
    "    w = np.zeros(len(X[0]))\n",
    "    eta = 1\n",
    "    epochs = 100000\n",
    "    errors = []\n",
    "\n",
    "\n",
    "    for epoch in range(1,epochs):\n",
    "        error = 0\n",
    "        for i, x in enumerate(X):\n",
    "            if (Y[i]*np.dot(X[i], w)) < 1:\n",
    "                w = w + eta * ( (X[i] * Y[i]) + (-2  *(1/epoch)* w) )\n",
    "                error = 1\n",
    "            else:\n",
    "                w = w + eta * (-2  *(1/epoch)* w)\n",
    "        errors.append(error)\n",
    "\n",
    "    plt.plot(errors, '|')\n",
    "    plt.ylim(0.5,1.5)\n",
    "    plt.axes().set_yticklabels([])\n",
    "    plt.xlabel('Epoch')\n",
    "    plt.ylabel('Misclassified')\n",
    "    plt.show()"
   ]
  },
  {
   "cell_type": "code",
   "execution_count": 8,
   "metadata": {},
   "outputs": [
    {
     "data": {
      "image/png": "[encoded data removed]",
      "text/plain": [
       "<Figure size 432x288 with 2 Axes>"
      ]
     },
     "metadata": {
      "needs_background": "light"
     },
     "output_type": "display_data"
    }
   ],
   "source": [
    "svm_sgd_plot(X,y)"
   ]
  },
  {
   "cell_type": "markdown",
   "metadata": {},
   "source": [
    "The above graph shows that the svm makes less misclassifications the more epochs it is running. In contrast to our perceptron we do not reach zero errors permanently, as the svm updates its weight vector by the regularizer, even if the current samples is correctly classified. What looks like a bad deal, is actually the strengh of the SVM, as it always tried to maximize the margin between the two classes by using this regularizer. \n",
    "\n",
    "To sum this up, the perceptron is satisfied, when it finds a seperating hyperplane, our SVM in contrast always tries to optimize the hyperplane, by maximizing the distance between the two classes."
   ]
  },
  {
   "cell_type": "markdown",
   "metadata": {},
   "source": [
    "The weight vector of the SVM including the bias term after 100000 epochs is $(1.56,  3.17,  11.12)$.<br>\n",
    "We can extract the following prediction function now:\n",
    "\n",
    "\n",
    "$$\n",
    "f(x) = \\langle x,(1.56,3.17)\\rangle - 11.12\n",
    "$$\n",
    "\n",
    "The weight vector is $(1.56,3.17)$ and the bias term is the third entry 11.12."
   ]
  },
  {
   "cell_type": "markdown",
   "metadata": {},
   "source": [
    "## Evaluation\n",
    "\n",
    "Lets classify the samples in our data set by hand now, to check if the perceptron learned properly:\n",
    "\n",
    "First sample $(-2, 4)$, supposed to be negative:\n",
    "\n",
    "$$-2*1,56+4*3,17 - 11,12 = sign(-1,56) = -1$$\n",
    "\n",
    "Second sample $(4, 1)$, supposed to be negative:\n",
    "\n",
    "$$4*1,56+1*3,17 - 11,12 = sign(-1,71) = -1$$\n",
    "\n",
    "Third sample $(1, 6)$, supposed to be positive:\n",
    "\n",
    "$$1*1,56+6*3,17-11,12 = sign(9,46) = +1$$\n",
    "\n",
    "Fourth sample $(2, 4)$, supposed to be positive:\n",
    "\n",
    "$$2*1,56+4*3,17 - 11,12 = sign(4,68) = +1$$\n",
    "\n",
    "Fifth sample $(6, 2)$, supposed to be positive:\n",
    "\n",
    "$$6*1,56+2*3,17 - 11,12 = sign(4,58) = +1$$\n",
    "\n",
    "Lets define two test samples now, to check how well our perceptron generalizes to unseen data:\n",
    "\n",
    "First test sample $(2, 2)$, supposed to be negative:\n",
    "\n",
    "$$2*1,56+2*3,17 - 11,12 = sign(-1,66) = -1$$\n",
    "\n",
    "Second test sample $(4, 3)$, supposed to be positive:\n",
    "\n",
    "$$4*1,56+3*3,17 - 11,12 = sign(4,63) = +1$$\n",
    "\n",
    "Both samples are classified right. To check this geometrically, lets plot the samples including test samples and the hyperplane."
   ]
  },
  {
   "cell_type": "code",
   "execution_count": 9,
   "metadata": {},
   "outputs": [
    {
     "data": {
      "text/plain": [
       "<matplotlib.quiver.Quiver at 0x21dc25476a0>"
      ]
     },
     "execution_count": 9,
     "metadata": {},
     "output_type": "execute_result"
    },
    {
     "data": {
      "image/png": "[encoded data removed]",
      "text/plain": [
       "<Figure size 432x288 with 1 Axes>"
      ]
     },
     "metadata": {
      "needs_background": "light"
     },
     "output_type": "display_data"
    }
   ],
   "source": [
    "for d, sample in enumerate(X):\n",
    "    # Plot the negative samples\n",
    "    if d < 2:\n",
    "        plt.scatter(sample[0], sample[1], s=120, marker='_', linewidths=2)\n",
    "    # Plot the positive samples\n",
    "    else:\n",
    "        plt.scatter(sample[0], sample[1], s=120, marker='+', linewidths=2)\n",
    "\n",
    "# Add our test samples\n",
    "\n",
    "plt.scatter(2,2, s=120, marker='_', linewidths=2, color='yellow')\n",
    "plt.scatter(4,3, s=120, marker='+', linewidths=2, color='blue')\n",
    "\n",
    "# Print the hyperplane calculated by svm_sgd()\n",
    "x2=[w[0],w[1],-w[1],w[0]]\n",
    "x3=[w[0],w[1],w[1],-w[0]]\n",
    "\n",
    "x2x3 =np.array([x2,x3])\n",
    "X,Y,U,V = zip(*x2x3)\n",
    "ax = plt.gca()\n",
    "ax.quiver(X,Y,U,V,scale=1, color='blue')\n"
   ]
  },
  {
   "cell_type": "code",
   "execution_count": null,
   "metadata": {},
   "outputs": [],
   "source": []
  }
 ],
 "metadata": {
  "kernelspec": {
   "display_name": "Python 3 (ipykernel)",
   "language": "python",
   "name": "python3"
  },
  "language_info": {
   "codemirror_mode": {
    "name": "ipython",
    "version": 3
   },
   "file_extension": ".py",
   "mimetype": "text/x-python",
   "name": "python",
   "nbconvert_exporter": "python",
   "pygments_lexer": "ipython3",
   "version": "3.9.7"
  }
 },
 "nbformat": 4,
 "nbformat_minor": 2
}
